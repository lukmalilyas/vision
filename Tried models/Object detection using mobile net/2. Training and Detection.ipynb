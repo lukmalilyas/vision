{
 "cells": [
  {
   "cell_type": "markdown",
   "metadata": {
    "id": "QUANWN3rpfC9"
   },
   "source": [
    "# 0. Setup Paths"
   ]
  },
  {
   "cell_type": "code",
   "execution_count": 1,
   "metadata": {
    "id": "146BB11JpfDA"
   },
   "outputs": [],
   "source": [
    "import os"
   ]
  },
  {
   "cell_type": "code",
   "execution_count": 2,
   "metadata": {
    "id": "42hJEdo_pfDB"
   },
   "outputs": [],
   "source": [
    "CUSTOM_MODEL_NAME = 'my_ssd_mobnet_tuned' \n",
    "PRETRAINED_MODEL_NAME = 'ssd_mobilenet_v2_fpnlite_320x320_coco17_tpu-8'\n",
    "PRETRAINED_MODEL_URL = 'http://download.tensorflow.org/models/object_detection/tf2/20200711/ssd_mobilenet_v2_fpnlite_320x320_coco17_tpu-8.tar.gz'\n",
    "TF_RECORD_SCRIPT_NAME = 'generate_tfrecord.py'\n",
    "LABEL_MAP_NAME = 'label_map.pbtxt'"
   ]
  },
  {
   "cell_type": "code",
   "execution_count": 3,
   "metadata": {
    "id": "hbPhYVy_pfDB"
   },
   "outputs": [],
   "source": [
    "paths = {\n",
    "    'WORKSPACE_PATH': os.path.join('Tensorflow', 'workspace'),\n",
    "    'SCRIPTS_PATH': os.path.join('Tensorflow','scripts'),\n",
    "    'APIMODEL_PATH': os.path.join('Tensorflow','models'),\n",
    "    'ANNOTATION_PATH': os.path.join('Tensorflow', 'workspace','annotations'),\n",
    "    'IMAGE_PATH': os.path.join('Tensorflow', 'workspace','images'),\n",
    "    'MODEL_PATH': os.path.join('Tensorflow', 'workspace','models'),\n",
    "    'PRETRAINED_MODEL_PATH': os.path.join('Tensorflow', 'workspace','pre-trained-models'),\n",
    "    'CHECKPOINT_PATH': os.path.join('Tensorflow', 'workspace','models',CUSTOM_MODEL_NAME), \n",
    "    'OUTPUT_PATH': os.path.join('Tensorflow', 'workspace','models',CUSTOM_MODEL_NAME, 'export'), \n",
    "    'TFJS_PATH':os.path.join('Tensorflow', 'workspace','models',CUSTOM_MODEL_NAME, 'tfjsexport'), \n",
    "    'TFLITE_PATH':os.path.join('Tensorflow', 'workspace','models',CUSTOM_MODEL_NAME, 'tfliteexport'), \n",
    "    'PROTOC_PATH':os.path.join('Tensorflow','protoc')\n",
    " }"
   ]
  },
  {
   "cell_type": "code",
   "execution_count": 4,
   "metadata": {
    "id": "LwhWZMI0pfDC"
   },
   "outputs": [
    {
     "name": "stdout",
     "output_type": "stream",
     "text": [
      "Tensorflow\\workspace\\annotations\\label_map.pbtxt\n"
     ]
    }
   ],
   "source": [
    "files = {\n",
    "    'PIPELINE_CONFIG':os.path.join('Tensorflow', 'workspace','models', CUSTOM_MODEL_NAME, 'pipeline.config'),\n",
    "    'TF_RECORD_SCRIPT': os.path.join(paths['SCRIPTS_PATH'], TF_RECORD_SCRIPT_NAME), \n",
    "    'LABELMAP': os.path.join(paths['ANNOTATION_PATH'], LABEL_MAP_NAME)\n",
    "}\n",
    "print(files[\"LABELMAP\"])"
   ]
  },
  {
   "cell_type": "code",
   "execution_count": 23,
   "metadata": {
    "id": "HR-TfDGrpfDC"
   },
   "outputs": [],
   "source": [
    "for path in paths.values():\n",
    "    if not os.path.exists(path):\n",
    "        if os.name == 'posix':\n",
    "            !mkdir -p {path}\n",
    "        if os.name == 'nt':\n",
    "            !mkdir {path}"
   ]
  },
  {
   "cell_type": "code",
   "execution_count": null,
   "metadata": {},
   "outputs": [],
   "source": [
    "import os\n",
    "\n",
    "CUSTOM_MODEL_NAME = 'my_ssd_mobnet_tuned' \n",
    "PRETRAINED_MODEL_NAME = 'ssd_mobilenet_v2_fpnlite_320x320_coco17_tpu-8'\n",
    "PRETRAINED_MODEL_URL = 'http://download.tensorflow.org/models/object_detection/tf2/20200711/ssd_mobilenet_v2_fpnlite_320x320_coco17_tpu-8.tar.gz'\n",
    "TF_RECORD_SCRIPT_NAME = 'generate_tfrecord.py'\n",
    "LABEL_MAP_NAME = 'label_map.pbtxt'\n",
    "\n",
    "paths = {\n",
    "    'WORKSPACE_PATH': os.path.join('Tensorflow', 'workspace'),\n",
    "    'SCRIPTS_PATH': os.path.join('Tensorflow','scripts'),\n",
    "    'APIMODEL_PATH': os.path.join('Tensorflow','models'),\n",
    "    'ANNOTATION_PATH': os.path.join('Tensorflow', 'workspace','annotations'),\n",
    "    'IMAGE_PATH': os.path.join('Tensorflow', 'workspace','images'),\n",
    "    'MODEL_PATH': os.path.join('Tensorflow', 'workspace','models'),\n",
    "    'PRETRAINED_MODEL_PATH': os.path.join('Tensorflow', 'workspace','pre-trained-models'),\n",
    "    'CHECKPOINT_PATH': os.path.join('Tensorflow', 'workspace','models',CUSTOM_MODEL_NAME), \n",
    "    'OUTPUT_PATH': os.path.join('Tensorflow', 'workspace','models',CUSTOM_MODEL_NAME, 'export'), \n",
    "    'TFJS_PATH':os.path.join('Tensorflow', 'workspace','models',CUSTOM_MODEL_NAME, 'tfjsexport'), \n",
    "    'TFLITE_PATH':os.path.join('Tensorflow', 'workspace','models',CUSTOM_MODEL_NAME, 'tfliteexport'), \n",
    "    'PROTOC_PATH':os.path.join('Tensorflow','protoc')\n",
    " }\n",
    "\n",
    "files = {\n",
    "    'PIPELINE_CONFIG':os.path.join('Tensorflow', 'workspace','models', CUSTOM_MODEL_NAME, 'pipeline.config'),\n",
    "    'TF_RECORD_SCRIPT': os.path.join(paths['SCRIPTS_PATH'], TF_RECORD_SCRIPT_NAME), \n",
    "    'LABELMAP': os.path.join(paths['ANNOTATION_PATH'], LABEL_MAP_NAME)\n",
    "}\n",
    "print(files[\"LABELMAP\"])\n",
    "\n",
    "for path in paths.values():\n",
    "    if not os.path.exists(path):\n",
    "        if os.name == 'posix':\n",
    "            !mkdir -p {path}\n",
    "        if os.name == 'nt':\n",
    "            !mkdir {path}\n",
    "\n",
    "if os.name=='nt':\n",
    "    !pip install wget\n",
    "    import wget\n",
    "\n",
    "if not os.path.exists(os.path.join(paths['APIMODEL_PATH'], 'research', 'object_detection')):\n",
    "    !git clone https://github.com/tensorflow/models {paths['APIMODEL_PATH']}\n",
    "\n",
    "# Install Tensorflow Object Detection \n",
    "if os.name=='posix':  \n",
    "    !apt-get install protobuf-compiler\n",
    "    !cd Tensorflow/models/research && protoc object_detection/protos/*.proto --python_out=. && cp object_detection/packages/tf2/setup.py . && python -m pip install . \n",
    "    \n",
    "if os.name=='nt':\n",
    "    url=\"https://github.com/protocolbuffers/protobuf/releases/download/v3.15.6/protoc-3.15.6-win64.zip\"\n",
    "    wget.download(url)\n",
    "    !move protoc-3.15.6-win64.zip {paths['PROTOC_PATH']}\n",
    "    !cd {paths['PROTOC_PATH']} && tar -xf protoc-3.15.6-win64.zip\n",
    "    os.environ['PATH'] += os.pathsep + os.path.abspath(os.path.join(paths['PROTOC_PATH'], 'bin'))   \n",
    "    !cd Tensorflow/models/research && protoc object_detection/protos/*.proto --python_out=. && copy object_detection\\\\packages\\\\tf2\\\\setup.py setup.py && python setup.py build && python setup.py install\n",
    "    !cd Tensorflow/models/research/slim && pip install -e . \n",
    "\n",
    "VERIFICATION_SCRIPT = os.path.join(paths['APIMODEL_PATH'], 'research', 'object_detection', 'builders', 'model_builder_tf2_test.py')\n",
    "# Verify Installation\n",
    "!python {VERIFICATION_SCRIPT}\n",
    "\n",
    "!pip install tensorflow --upgrade\n",
    "\n",
    "!pip install pyyaml\n",
    "\n",
    "!pip uninstall protobuf matplotlib -y\n",
    "!pip install protobuf matplotlib==3.2\n",
    "\n",
    "pip install protobuf==3.20.1\n",
    "\n",
    "import object_detection\n",
    "\n",
    "!pip list\n",
    "\n",
    "if os.name =='posix':\n",
    "    !wget {PRETRAINED_MODEL_URL}\n",
    "    !mv {PRETRAINED_MODEL_NAME+'.tar.gz'} {paths['PRETRAINED_MODEL_PATH']}\n",
    "    !cd {paths['PRETRAINED_MODEL_PATH']} && tar -zxvf {PRETRAINED_MODEL_NAME+'.tar.gz'}\n",
    "if os.name == 'nt':\n",
    "    wget.download(PRETRAINED_MODEL_URL)\n",
    "    !move {PRETRAINED_MODEL_NAME+'.tar.gz'} {paths['PRETRAINED_MODEL_PATH']}\n",
    "    !cd {paths['PRETRAINED_MODEL_PATH']} && tar -zxvf {PRETRAINED_MODEL_NAME+'.tar.gz'}\n",
    "\n",
    "labels = []\n",
    "Ingredients = ['Carrot', 'Corn', 'Dijon_mustard', 'Egg', 'Basil_leaves', \n",
    "               'Honey', 'Balsamic_glaze', 'Mozzarella', 'Cheese', 'Onion', 'Zucchini', \n",
    "               'Spaghetti', 'Parsley', 'Rice', 'Pasta', 'Broccoli', 'Milk', 'Chicken_breast', \n",
    "               'Olive_oil', 'Beans', 'Red_pepper_flakes', 'Mushroom', 'Tortillas', 'Lettuce',\n",
    "               'Garlic', 'Mayonnaise', 'Tuna', 'Baguette', 'Tomatoes', 'Celery', 'Bell_pepper', 'Ginger', 'Soy_sauce']\n",
    "x=1\n",
    "for ingredient in Ingredients:\n",
    "    dict = {'name':ingredient, 'id':x}\n",
    "    labels.append(dict)\n",
    "    x = x + 1\n",
    "\n",
    "print(labels)\n",
    "with open(files['LABELMAP'], 'w') as f:\n",
    "    for label in labels:\n",
    "        f.write('item { \\n')\n",
    "        f.write('\\tname:\\'{}\\'\\n'.format(label['name']))\n",
    "        f.write('\\tid:{}\\n'.format(label['id']))\n",
    "        f.write('}\\n')\n",
    "\n",
    "# OPTIONAL IF RUNNING ON COLAB\n",
    "ARCHIVE_FILES = os.path.join(paths['IMAGE_PATH'], 'archive.tar.gz')\n",
    "if os.path.exists(ARCHIVE_FILES):\n",
    "  !tar -zxvf {ARCHIVE_FILES}\n",
    "\n",
    "if not os.path.exists(files['TF_RECORD_SCRIPT']):\n",
    "    !git clone https://github.com/nicknochnack/GenerateTFRecord {paths['SCRIPTS_PATH']}\n",
    "\n",
    "!pip install pytz\n",
    "\n",
    "!python {files['TF_RECORD_SCRIPT']} -x {os.path.join(paths['IMAGE_PATH'], 'train')} -l {files['LABELMAP']} -o {os.path.join(paths['ANNOTATION_PATH'], 'train.record')} \n",
    "!python {files['TF_RECORD_SCRIPT']} -x {os.path.join(paths['IMAGE_PATH'], 'test')} -l {files['LABELMAP']} -o {os.path.join(paths['ANNOTATION_PATH'], 'test.record')} \n",
    "\n",
    "if os.name =='posix':\n",
    "    !cp {os.path.join(paths['PRETRAINED_MODEL_PATH'], PRETRAINED_MODEL_NAME, 'pipeline.config')} {os.path.join(paths['CHECKPOINT_PATH'])}\n",
    "if os.name == 'nt':\n",
    "    !copy {os.path.join(paths['PRETRAINED_MODEL_PATH'], PRETRAINED_MODEL_NAME, 'pipeline.config')} {os.path.join(paths['CHECKPOINT_PATH'])}\n",
    "\n",
    "import tensorflow as tf\n",
    "print(\"TensorFlow version:\", tf.__version__)\n",
    "from object_detection.utils import config_util\n",
    "from object_detection.protos import pipeline_pb2\n",
    "from google.protobuf import text_format\n",
    "\n",
    "pip install tensorflow\n",
    "\n",
    "import subprocess\n",
    "\n",
    "# Define the command to uninstall the package\n",
    "command = 'pip uninstall protobuf'\n",
    "\n",
    "# Execute the command in the shell\n",
    "subprocess.call(command, shell=True)\n",
    "\n",
    "pip install protobuf==3.20.3\n",
    "\n",
    "config = config_util.get_configs_from_pipeline_file(files['PIPELINE_CONFIG'])\n",
    "\n",
    "config\n",
    "\n",
    "ipeline_config = pipeline_pb2.TrainEvalPipelineConfig()\n",
    "with tf.io.gfile.GFile(files['PIPELINE_CONFIG'], \"r\") as f:                                                                                                                                                                                                                     \n",
    "    proto_str = f.read()                                                                                                                                                                                                                                          \n",
    "    text_format.Merge(proto_str, pipeline_config)  \n",
    "\n",
    "pipeline_config.model.ssd.num_classes = len(labels)\n",
    "pipeline_config.train_config.batch_size = 4\n",
    "pipeline_config.train_config.fine_tune_checkpoint = os.path.join(paths['PRETRAINED_MODEL_PATH'], PRETRAINED_MODEL_NAME, 'checkpoint', 'ckpt-0')\n",
    "pipeline_config.train_config.fine_tune_checkpoint_type = \"detection\"\n",
    "pipeline_config.train_input_reader.label_map_path= files['LABELMAP']\n",
    "pipeline_config.train_input_reader.tf_record_input_reader.input_path[:] = [os.path.join(paths['ANNOTATION_PATH'], 'train.record')]\n",
    "pipeline_config.eval_input_reader[0].label_map_path = files['LABELMAP']\n",
    "pipeline_config.eval_input_reader[0].tf_record_input_reader.input_path[:] = [os.path.join(paths['ANNOTATION_PATH'], 'test.record')]\n",
    "\n",
    "config_text = text_format.MessageToString(pipeline_config)                                                                                                                                                                                                        \n",
    "with tf.io.gfile.GFile(files['PIPELINE_CONFIG'], \"wb\") as f:                                                                                                                                                                                                                     \n",
    "    f.write(config_text)  \n",
    "\n",
    "TRAINING_SCRIPT = os.path.join(paths['APIMODEL_PATH'], 'research', 'object_detection', 'model_main_tf2.py')\n",
    "\n",
    "import tensorflow as tf\n",
    "\n",
    "print(\"TensorFlow version:\", tf.__version__)\n",
    "\n",
    "pip install tensorflow==2.13.0\n",
    "\n",
    "command = \"python {} --model_dir={} --pipeline_config_path={} --num_train_steps=4000\".format(TRAINING_SCRIPT, paths['CHECKPOINT_PATH'],files['PIPELINE_CONFIG'])\n",
    "\n",
    "print(command)\n",
    "\n",
    "!{command}\n",
    "\n",
    "command = \"python {} --model_dir={} --pipeline_config_path={} --checkpoint_dir={}\".format(TRAINING_SCRIPT, paths['CHECKPOINT_PATH'],files['PIPELINE_CONFIG'], paths['CHECKPOINT_PATH'])\n",
    "\n",
    "print(command)\n",
    "\n",
    "!{command}\n",
    "\n",
    "import os\n",
    "import tensorflow as tf\n",
    "from object_detection.utils import label_map_util\n",
    "from object_detection.utils import visualization_utils as viz_utils\n",
    "from object_detection.builders import model_builder\n",
    "from object_detection.utils import config_util\n",
    "\n",
    "# Load pipeline config and build a detection model\n",
    "configs = config_util.get_configs_from_pipeline_file(files['PIPELINE_CONFIG'])\n",
    "detection_model = model_builder.build(model_config=configs['model'], is_training=False)\n",
    "\n",
    "# Restore checkpoint\n",
    "ckpt = tf.compat.v2.train.Checkpoint(model=detection_model)\n",
    "ckpt.restore(os.path.join(paths['CHECKPOINT_PATH'], 'ckpt-5')).expect_partial()\n",
    "\n",
    "@tf.function\n",
    "def detect_fn(image):\n",
    "    image, shapes = detection_model.preprocess(image)\n",
    "    prediction_dict = detection_model.predict(image, shapes)\n",
    "    detections = detection_model.postprocess(prediction_dict, shapes)\n",
    "    return detections\n",
    "\n",
    "import keras\n",
    "\n",
    "print(keras.__version__)\n",
    "\n",
    "import cv2 \n",
    "import numpy as np\n",
    "from matplotlib import pyplot as plt\n",
    "%matplotlib inline\n",
    "\n",
    "import matplotlib as plt\n",
    "print(\"TensorFlow version:\", plt.__version__)\n",
    "\n",
    "category_index = label_map_util.create_category_index_from_labelmap(files['LABELMAP'])\n",
    "print(category_index)\n",
    "print(files[\"LABELMAP\"])\n",
    "\n",
    "IMAGE_PATH = os.path.join(paths['IMAGE_PATH'], 'test', 'livelong.02533422-940e-11eb-9dbd-5cf3709bbcc6.jpg')\n",
    "\n",
    "img = cv2.imread(IMAGE_PATH)\n",
    "image_np = np.array(img)\n",
    "\n",
    "input_tensor = tf.convert_to_tensor(np.expand_dims(image_np, 0), dtype=tf.float32)\n",
    "detections = detect_fn(input_tensor)\n",
    "\n",
    "num_detections = int(detections.pop('num_detections'))\n",
    "detections = {key: value[0, :num_detections].numpy()\n",
    "              for key, value in detections.items()}\n",
    "detections['num_detections'] = num_detections\n",
    "\n",
    "# detection_classes should be ints.\n",
    "detections['detection_classes'] = detections['detection_classes'].astype(np.int64)\n",
    "\n",
    "label_id_offset = 1\n",
    "image_np_with_detections = image_np.copy()\n",
    "\n",
    "viz_utils.visualize_boxes_and_labels_on_image_array(\n",
    "            image_np_with_detections,\n",
    "            detections['detection_boxes'],\n",
    "            detections['detection_classes']+label_id_offset,\n",
    "            detections['detection_scores'],\n",
    "            category_index,\n",
    "            use_normalized_coordinates=True,\n",
    "            max_boxes_to_draw=5,\n",
    "            min_score_thresh=.8,\n",
    "            agnostic_mode=False)\n",
    "\n",
    "plt.imshow(cv2.cvtColor(image_np_with_detections, cv2.COLOR_BGR2RGB))\n",
    "plt.show()\n",
    "\n",
    "!pip uninstall opencv-python-headless -y\n",
    "\n",
    "import cv2\n",
    "import numpy as np\n",
    "\n",
    "pip install pyttsx3\n",
    "\n",
    "cap = cv2.VideoCapture(0)\n",
    "width = int(cap.get(cv2.CAP_PROP_FRAME_WIDTH))\n",
    "height = int(cap.get(cv2.CAP_PROP_FRAME_HEIGHT))\n",
    "\n",
    "while cap.isOpened(): \n",
    "    ret, frame = cap.read()\n",
    "    image_np = np.array(frame)\n",
    "    \n",
    "    input_tensor = tf.convert_to_tensor(np.expand_dims(image_np, 0), dtype=tf.float32)\n",
    "    detections = detect_fn(input_tensor)\n",
    "    \n",
    "    num_detections = int(detections.pop('num_detections'))\n",
    "    detections = {key: value[0, :num_detections].numpy()\n",
    "                  for key, value in detections.items()}\n",
    "    detections['num_detections'] = num_detections\n",
    "\n",
    "    # detection_classes should be ints.\n",
    "    detections['detection_classes'] = detections['detection_classes'].astype(np.int64)\n",
    "\n",
    "    label_id_offset = 1\n",
    "    image_np_with_detections = image_np.copy()\n",
    "\n",
    "    viz_utils.visualize_boxes_and_labels_on_image_array(\n",
    "                image_np_with_detections,\n",
    "                detections['detection_boxes'],\n",
    "                detections['detection_classes']+label_id_offset,\n",
    "                detections['detection_scores'],\n",
    "                category_index,\n",
    "                use_normalized_coordinates=True,\n",
    "                max_boxes_to_draw=5,\n",
    "                min_score_thresh=.9,\n",
    "                agnostic_mode=False)\n",
    "\n",
    "    cv2.imshow('object detection',  cv2.resize(image_np_with_detections, (800, 600)))\n",
    "    \n",
    "    if cv2.waitKey(10) & 0xFF == ord('q'):\n",
    "        cap.release()\n",
    "        cv2.destroyAllWindows()\n",
    "        break\n",
    "\n",
    "import urllib.request\n",
    "import cv2\n",
    "import numpy as np\n",
    "import time\n",
    "URL = \"http://192.168.1.4:8080/shot.jpg\"\n",
    "while True:\n",
    "    img_arr = np.array(bytearray(urllib.request.urlopen(URL).read()),dtype=np.uint8)\n",
    "    img = cv2.imdecode(img_arr,-1)\n",
    "    cv2.imshow('IPWebcam',img)\n",
    "    q = cv2.waitKey(1)\n",
    "    if q == ord(\"q\"):\n",
    "        break;\n",
    "\n",
    "    \n",
    "cv2.destroyAllWindows()\n",
    "\n",
    "import cv2\n",
    "import numpy as np\n",
    "import tensorflow as tf\n",
    "import pyttsx3\n",
    "from object_detection.utils import label_map_util\n",
    "from object_detection.utils import visualization_utils as viz_utils\n",
    "\n",
    "# Initialize text-to-speech engine\n",
    "engine = pyttsx3.init()\n",
    "\n",
    "# Define the path to the label map and category index\n",
    "PATH_TO_LABELS = files['LABELMAP']\n",
    "category_index = label_map_util.create_category_index_from_labelmap(PATH_TO_LABELS, use_display_name=True)\n",
    "\n",
    "# Your object detection function (e.g., `detect_fn`) and other setup here...\n",
    "\n",
    "cap = cv2.VideoCapture(0)\n",
    "width = int(cap.get(cv2.CAP_PROP_FRAME_WIDTH))\n",
    "height = int(cap.get(cv2.CAP_PROP_FRAME_HEIGHT))\n",
    "\n",
    "while cap.isOpened(): \n",
    "    ret, frame = cap.read()\n",
    "    image_np = np.array(frame)\n",
    "    \n",
    "    input_tensor = tf.convert_to_tensor(np.expand_dims(image_np, 0), dtype=tf.float32)\n",
    "    detections = detect_fn(input_tensor)\n",
    "    \n",
    "    num_detections = int(detections.pop('num_detections'))\n",
    "    detections = {key: value[0, :num_detections].numpy()\n",
    "                  for key, value in detections.items()}\n",
    "    detections['num_detections'] = num_detections\n",
    "\n",
    "    # detection_classes should be ints.\n",
    "    detections['detection_classes'] = detections['detection_classes'].astype(np.int64)\n",
    "\n",
    "    label_id_offset = 1\n",
    "    image_np_with_detections = image_np.copy()\n",
    "\n",
    "    viz_utils.visualize_boxes_and_labels_on_image_array(\n",
    "                image_np_with_detections,\n",
    "                detections['detection_boxes'],\n",
    "                detections['detection_classes']+label_id_offset,\n",
    "                detections['detection_scores'],\n",
    "                category_index,\n",
    "                use_normalized_coordinates=True,\n",
    "                max_boxes_to_draw=5,\n",
    "                min_score_thresh=.8,\n",
    "                agnostic_mode=False)\n",
    "\n",
    "    cv2.imshow('object detection',  cv2.resize(image_np_with_detections, (800, 600)))\n",
    "    \n",
    "    # Check if any objects are detected\n",
    "    if 'detection_classes' in detections and len(detections['detection_classes']) > 0:\n",
    "        # Reading the label using voice\n",
    "        detected_labels = []\n",
    "        for class_id in detections['detection_classes']:\n",
    "            if int(class_id) in category_index:\n",
    "                detected_labels.append(category_index[int(class_id)]['name'])\n",
    "        if detected_labels:\n",
    "            detected_labels_str = \", \".join(detected_labels)\n",
    "            engine.say(f\"I see {detected_labels_str}\")\n",
    "            engine.runAndWait()\n",
    "    \n",
    "    if cv2.waitKey(10) & 0xFF == ord('q'):\n",
    "        cap.release()\n",
    "        cv2.destroyAllWindows()\n",
    "        break\n",
    "\n",
    "FREEZE_SCRIPT = os.path.join(paths['APIMODEL_PATH'], 'research', 'object_detection', 'exporter_main_v2.py ')\n",
    "\n",
    "command = \"python {} --pipeline_config_path={} --trained_checkpoint_dir={} --output_directory={}\".format(TFLITE_SCRIPT ,files['PIPELINE_CONFIG'], paths['CHECKPOINT_PATH'], paths['TFLITE_PATH'])\n",
    "\n",
    "print(command)\n",
    "\n",
    "pip install tensorflowjs\n",
    "\n",
    "command = \"tensorflowjs_converter --input_format=tf_saved_model --output_node_names='detection_boxes,detection_classes,detection_features,detection_multiclass_scores,detection_scores,num_detections,raw_detection_boxes,raw_detection_scores' --output_format=tfjs_graph_model --signature_name=serving_default {} {}\".format(os.path.join(paths['OUTPUT_PATH'], 'saved_model'), paths['TFJS_PATH'])\n",
    "\n",
    "print(command)\n",
    "\n",
    "TFLITE_SCRIPT = os.path.join(paths['APIMODEL_PATH'], 'research', 'object_detection', 'export_tflite_graph_tf2.py ')\n",
    "\n",
    "command = \"python {} --pipeline_config_path={} --trained_checkpoint_dir={} --output_directory={}\".format(TFLITE_SCRIPT ,files['PIPELINE_CONFIG'], paths['CHECKPOINT_PATH'], paths['TFLITE_PATH'])\n",
    "\n",
    "print(command)\n",
    "\n",
    "FROZEN_TFLITE_PATH = os.path.join(paths['TFLITE_PATH'], 'saved_model')\n",
    "TFLITE_MODEL = os.path.join(paths['TFLITE_PATH'], 'saved_model', 'detect.tflite')\n",
    "\n",
    "command = \"tflite_convert \\\n",
    "--saved_model_dir={} \\\n",
    "--output_file={} \\\n",
    "--input_shapes=1,300,300,3 \\\n",
    "--input_arrays=normalized_input_image_tensor \\\n",
    "--output_arrays='TFLite_Detection_PostProcess','TFLite_Detection_PostProcess:1','TFLite_Detection_PostProcess:2','TFLite_Detection_PostProcess:3' \\\n",
    "--inference_type=FLOAT \\\n",
    "--allow_custom_ops\".format(FROZEN_TFLITE_PATH, TFLITE_MODEL, )\n",
    "\n",
    "print(command)"
   ]
  },
  {
   "cell_type": "markdown",
   "metadata": {
    "id": "OLU-rs_ipfDE"
   },
   "source": [
    "# 1. Download TF Models Pretrained Models from Tensorflow Model Zoo and Install TFOD"
   ]
  },
  {
   "cell_type": "code",
   "execution_count": 5,
   "metadata": {},
   "outputs": [],
   "source": [
    "# https://www.tensorflow.org/install/source_windows"
   ]
  },
  {
   "cell_type": "code",
   "execution_count": 8,
   "metadata": {
    "id": "K-Cmz2edpfDE",
    "scrolled": true
   },
   "outputs": [
    {
     "name": "stdout",
     "output_type": "stream",
     "text": [
      "Requirement already satisfied: wget in d:\\youtube\\tensorflow object detection\\tfodcourse\\tfod\\lib\\site-packages (3.2)\n"
     ]
    },
    {
     "name": "stderr",
     "output_type": "stream",
     "text": [
      "DEPRECATION: Loading egg at d:\\youtube\\tensorflow object detection\\tfodcourse\\tfod\\lib\\site-packages\\absl_py-2.0.0-py3.11.egg is deprecated. pip 24.3 will enforce this behaviour change. A possible replacement is to use pip for package installation.. Discussion can be found at https://github.com/pypa/pip/issues/12330\n",
      "DEPRECATION: Loading egg at d:\\youtube\\tensorflow object detection\\tfodcourse\\tfod\\lib\\site-packages\\apache_beam-2.52.0-py3.11-win-amd64.egg is deprecated. pip 24.3 will enforce this behaviour change. A possible replacement is to use pip for package installation.. Discussion can be found at https://github.com/pypa/pip/issues/12330\n",
      "DEPRECATION: Loading egg at d:\\youtube\\tensorflow object detection\\tfodcourse\\tfod\\lib\\site-packages\\avro_python3-1.10.2-py3.11.egg is deprecated. pip 24.3 will enforce this behaviour change. A possible replacement is to use pip for package installation.. Discussion can be found at https://github.com/pypa/pip/issues/12330\n",
      "DEPRECATION: Loading egg at d:\\youtube\\tensorflow object detection\\tfodcourse\\tfod\\lib\\site-packages\\contextlib2-21.6.0-py3.11.egg is deprecated. pip 24.3 will enforce this behaviour change. A possible replacement is to use pip for package installation.. Discussion can be found at https://github.com/pypa/pip/issues/12330\n",
      "DEPRECATION: Loading egg at d:\\youtube\\tensorflow object detection\\tfodcourse\\tfod\\lib\\site-packages\\cython-3.0.6-py3.11.egg is deprecated. pip 24.3 will enforce this behaviour change. A possible replacement is to use pip for package installation.. Discussion can be found at https://github.com/pypa/pip/issues/12330\n",
      "DEPRECATION: Loading egg at d:\\youtube\\tensorflow object detection\\tfodcourse\\tfod\\lib\\site-packages\\dm_tree-0.1.8-py3.11-win-amd64.egg is deprecated. pip 24.3 will enforce this behaviour change. A possible replacement is to use pip for package installation.. Discussion can be found at https://github.com/pypa/pip/issues/12330\n",
      "DEPRECATION: Loading egg at d:\\youtube\\tensorflow object detection\\tfodcourse\\tfod\\lib\\site-packages\\h5py-3.10.0-py3.11-win-amd64.egg is deprecated. pip 24.3 will enforce this behaviour change. A possible replacement is to use pip for package installation.. Discussion can be found at https://github.com/pypa/pip/issues/12330\n",
      "DEPRECATION: Loading egg at d:\\youtube\\tensorflow object detection\\tfodcourse\\tfod\\lib\\site-packages\\lvis-0.5.3-py3.11.egg is deprecated. pip 24.3 will enforce this behaviour change. A possible replacement is to use pip for package installation.. Discussion can be found at https://github.com/pypa/pip/issues/12330\n",
      "DEPRECATION: Loading egg at d:\\youtube\\tensorflow object detection\\tfodcourse\\tfod\\lib\\site-packages\\namex-0.0.7-py3.11.egg is deprecated. pip 24.3 will enforce this behaviour change. A possible replacement is to use pip for package installation.. Discussion can be found at https://github.com/pypa/pip/issues/12330\n",
      "DEPRECATION: Loading egg at d:\\youtube\\tensorflow object detection\\tfodcourse\\tfod\\lib\\site-packages\\object_detection-0.1-py3.11.egg is deprecated. pip 24.3 will enforce this behaviour change. A possible replacement is to use pip for package installation.. Discussion can be found at https://github.com/pypa/pip/issues/12330\n",
      "DEPRECATION: Loading egg at d:\\youtube\\tensorflow object detection\\tfodcourse\\tfod\\lib\\site-packages\\pandas-2.1.4-py3.11-win-amd64.egg is deprecated. pip 24.3 will enforce this behaviour change. A possible replacement is to use pip for package installation.. Discussion can be found at https://github.com/pypa/pip/issues/12330\n",
      "DEPRECATION: Loading egg at d:\\youtube\\tensorflow object detection\\tfodcourse\\tfod\\lib\\site-packages\\pillow-10.1.0-py3.11-win-amd64.egg is deprecated. pip 24.3 will enforce this behaviour change. A possible replacement is to use pip for package installation.. Discussion can be found at https://github.com/pypa/pip/issues/12330\n",
      "DEPRECATION: Loading egg at d:\\youtube\\tensorflow object detection\\tfodcourse\\tfod\\lib\\site-packages\\portalocker-2.8.2-py3.11.egg is deprecated. pip 24.3 will enforce this behaviour change. A possible replacement is to use pip for package installation.. Discussion can be found at https://github.com/pypa/pip/issues/12330\n",
      "DEPRECATION: Loading egg at d:\\youtube\\tensorflow object detection\\tfodcourse\\tfod\\lib\\site-packages\\pycocotools-2.0.7-py3.11-win-amd64.egg is deprecated. pip 24.3 will enforce this behaviour change. A possible replacement is to use pip for package installation.. Discussion can be found at https://github.com/pypa/pip/issues/12330\n",
      "DEPRECATION: Loading egg at d:\\youtube\\tensorflow object detection\\tfodcourse\\tfod\\lib\\site-packages\\pyparsing-2.4.7-py3.11.egg is deprecated. pip 24.3 will enforce this behaviour change. A possible replacement is to use pip for package installation.. Discussion can be found at https://github.com/pypa/pip/issues/12330\n",
      "DEPRECATION: Loading egg at d:\\youtube\\tensorflow object detection\\tfodcourse\\tfod\\lib\\site-packages\\regex-2023.10.3-py3.11-win-amd64.egg is deprecated. pip 24.3 will enforce this behaviour change. A possible replacement is to use pip for package installation.. Discussion can be found at https://github.com/pypa/pip/issues/12330\n",
      "DEPRECATION: Loading egg at d:\\youtube\\tensorflow object detection\\tfodcourse\\tfod\\lib\\site-packages\\rich-13.7.0-py3.11.egg is deprecated. pip 24.3 will enforce this behaviour change. A possible replacement is to use pip for package installation.. Discussion can be found at https://github.com/pypa/pip/issues/12330\n",
      "DEPRECATION: Loading egg at d:\\youtube\\tensorflow object detection\\tfodcourse\\tfod\\lib\\site-packages\\sacrebleu-2.2.0-py3.11.egg is deprecated. pip 24.3 will enforce this behaviour change. A possible replacement is to use pip for package installation.. Discussion can be found at https://github.com/pypa/pip/issues/12330\n",
      "DEPRECATION: Loading egg at d:\\youtube\\tensorflow object detection\\tfodcourse\\tfod\\lib\\site-packages\\scipy-1.11.4-py3.11-win-amd64.egg is deprecated. pip 24.3 will enforce this behaviour change. A possible replacement is to use pip for package installation.. Discussion can be found at https://github.com/pypa/pip/issues/12330\n",
      "DEPRECATION: Loading egg at d:\\youtube\\tensorflow object detection\\tfodcourse\\tfod\\lib\\site-packages\\tabulate-0.9.0-py3.11.egg is deprecated. pip 24.3 will enforce this behaviour change. A possible replacement is to use pip for package installation.. Discussion can be found at https://github.com/pypa/pip/issues/12330\n",
      "DEPRECATION: Loading egg at d:\\youtube\\tensorflow object detection\\tfodcourse\\tfod\\lib\\site-packages\\tensorflow-2.15.0-py3.11-win-amd64.egg is deprecated. pip 24.3 will enforce this behaviour change. A possible replacement is to use pip for package installation.. Discussion can be found at https://github.com/pypa/pip/issues/12330\n",
      "DEPRECATION: Loading egg at d:\\youtube\\tensorflow object detection\\tfodcourse\\tfod\\lib\\site-packages\\tensorflow_io-0.31.0-py3.11-win-amd64.egg is deprecated. pip 24.3 will enforce this behaviour change. A possible replacement is to use pip for package installation.. Discussion can be found at https://github.com/pypa/pip/issues/12330\n",
      "DEPRECATION: Loading egg at d:\\youtube\\tensorflow object detection\\tfodcourse\\tfod\\lib\\site-packages\\tensorflow_io_gcs_filesystem-0.31.0-py3.11-win-amd64.egg is deprecated. pip 24.3 will enforce this behaviour change. A possible replacement is to use pip for package installation.. Discussion can be found at https://github.com/pypa/pip/issues/12330\n",
      "DEPRECATION: Loading egg at d:\\youtube\\tensorflow object detection\\tfodcourse\\tfod\\lib\\site-packages\\tf_models_official-2.15.0-py3.11.egg is deprecated. pip 24.3 will enforce this behaviour change. A possible replacement is to use pip for package installation.. Discussion can be found at https://github.com/pypa/pip/issues/12330\n",
      "DEPRECATION: Loading egg at d:\\youtube\\tensorflow object detection\\tfodcourse\\tfod\\lib\\site-packages\\tf_slim-1.1.0-py3.11.egg is deprecated. pip 24.3 will enforce this behaviour change. A possible replacement is to use pip for package installation.. Discussion can be found at https://github.com/pypa/pip/issues/12330\n",
      "\n",
      "[notice] A new release of pip is available: 23.3.1 -> 23.3.2\n",
      "[notice] To update, run: python.exe -m pip install --upgrade pip\n"
     ]
    }
   ],
   "source": [
    "if os.name=='nt':\n",
    "    !pip install wget\n",
    "    import wget"
   ]
  },
  {
   "cell_type": "code",
   "execution_count": null,
   "metadata": {
    "id": "iA1DIq5OpfDE"
   },
   "outputs": [],
   "source": [
    "if not os.path.exists(os.path.join(paths['APIMODEL_PATH'], 'research', 'object_detection')):\n",
    "    !git clone https://github.com/tensorflow/models {paths['APIMODEL_PATH']}"
   ]
  },
  {
   "cell_type": "code",
   "execution_count": null,
   "metadata": {
    "id": "rJjMHbnDs3Tv",
    "scrolled": true
   },
   "outputs": [],
   "source": [
    "# Install Tensorflow Object Detection \n",
    "if os.name=='posix':  \n",
    "    !apt-get install protobuf-compiler\n",
    "    !cd Tensorflow/models/research && protoc object_detection/protos/*.proto --python_out=. && cp object_detection/packages/tf2/setup.py . && python -m pip install . \n",
    "    \n",
    "if os.name=='nt':\n",
    "    url=\"https://github.com/protocolbuffers/protobuf/releases/download/v3.15.6/protoc-3.15.6-win64.zip\"\n",
    "    wget.download(url)\n",
    "    !move protoc-3.15.6-win64.zip {paths['PROTOC_PATH']}\n",
    "    !cd {paths['PROTOC_PATH']} && tar -xf protoc-3.15.6-win64.zip\n",
    "    os.environ['PATH'] += os.pathsep + os.path.abspath(os.path.join(paths['PROTOC_PATH'], 'bin'))   \n",
    "    !cd Tensorflow/models/research && protoc object_detection/protos/*.proto --python_out=. && copy object_detection\\\\packages\\\\tf2\\\\setup.py setup.py && python setup.py build && python setup.py install\n",
    "    !cd Tensorflow/models/research/slim && pip install -e . "
   ]
  },
  {
   "cell_type": "code",
   "execution_count": 8,
   "metadata": {
    "scrolled": true
   },
   "outputs": [
    {
     "name": "stderr",
     "output_type": "stream",
     "text": [
      "Running tests under Python 3.11.7: D:\\Youtube\\TensorFlow Object Detection\\TFODCourse\\tfod\\Scripts\\python.exe\n",
      "[ RUN      ] ModelBuilderTF2Test.test_create_center_net_deepmac\n",
      "2024-01-25 18:06:58.589232: I tensorflow/core/platform/cpu_feature_guard.cc:182] This TensorFlow binary is optimized to use available CPU instructions in performance-critical operations.\n",
      "To enable the following instructions: SSE SSE2 SSE3 SSE4.1 SSE4.2 AVX AVX2 FMA, in other operations, rebuild TensorFlow with the appropriate compiler flags.\n",
      "WARNING:tensorflow:`tf.keras.layers.experimental.SyncBatchNormalization` endpoint is deprecated and will be removed in a future release. Please use `tf.keras.layers.BatchNormalization` with parameter `synchronized` set to True.\n",
      "W0125 18:06:58.635662 28180 batch_normalization.py:1531] `tf.keras.layers.experimental.SyncBatchNormalization` endpoint is deprecated and will be removed in a future release. Please use `tf.keras.layers.BatchNormalization` with parameter `synchronized` set to True.\n",
      "D:\\Youtube\\TensorFlow Object Detection\\TFODCourse\\tfod\\Lib\\site-packages\\object_detection-0.1-py3.11.egg\\object_detection\\builders\\model_builder.py:1112: DeprecationWarning: The 'warn' function is deprecated, use 'warning' instead\n",
      "  logging.warn(('Building experimental DeepMAC meta-arch.'\n",
      "W0125 18:06:59.003132 28180 model_builder.py:1112] Building experimental DeepMAC meta-arch. Some features may be omitted.\n",
      "INFO:tensorflow:time(__main__.ModelBuilderTF2Test.test_create_center_net_deepmac): 0.74s\n",
      "I0125 18:06:59.322499 28180 test_util.py:2462] time(__main__.ModelBuilderTF2Test.test_create_center_net_deepmac): 0.74s\n",
      "[       OK ] ModelBuilderTF2Test.test_create_center_net_deepmac\n",
      "[ RUN      ] ModelBuilderTF2Test.test_create_center_net_model0 (customize_head_params=True)\n",
      "INFO:tensorflow:time(__main__.ModelBuilderTF2Test.test_create_center_net_model0 (customize_head_params=True)): 1.14s\n",
      "I0125 18:07:00.485487 28180 test_util.py:2462] time(__main__.ModelBuilderTF2Test.test_create_center_net_model0 (customize_head_params=True)): 1.14s\n",
      "[       OK ] ModelBuilderTF2Test.test_create_center_net_model0 (customize_head_params=True)\n",
      "[ RUN      ] ModelBuilderTF2Test.test_create_center_net_model1 (customize_head_params=False)\n",
      "INFO:tensorflow:time(__main__.ModelBuilderTF2Test.test_create_center_net_model1 (customize_head_params=False)): 0.32s\n",
      "I0125 18:07:00.801774 28180 test_util.py:2462] time(__main__.ModelBuilderTF2Test.test_create_center_net_model1 (customize_head_params=False)): 0.32s\n",
      "[       OK ] ModelBuilderTF2Test.test_create_center_net_model1 (customize_head_params=False)\n",
      "[ RUN      ] ModelBuilderTF2Test.test_create_center_net_model_from_keypoints\n",
      "INFO:tensorflow:time(__main__.ModelBuilderTF2Test.test_create_center_net_model_from_keypoints): 0.33s\n",
      "I0125 18:07:01.126987 28180 test_util.py:2462] time(__main__.ModelBuilderTF2Test.test_create_center_net_model_from_keypoints): 0.33s\n",
      "[       OK ] ModelBuilderTF2Test.test_create_center_net_model_from_keypoints\n",
      "[ RUN      ] ModelBuilderTF2Test.test_create_center_net_model_mobilenet\n",
      "INFO:tensorflow:time(__main__.ModelBuilderTF2Test.test_create_center_net_model_mobilenet): 3.01s\n",
      "I0125 18:07:04.133183 28180 test_util.py:2462] time(__main__.ModelBuilderTF2Test.test_create_center_net_model_mobilenet): 3.01s\n",
      "[       OK ] ModelBuilderTF2Test.test_create_center_net_model_mobilenet\n",
      "[ RUN      ] ModelBuilderTF2Test.test_create_experimental_model\n",
      "INFO:tensorflow:time(__main__.ModelBuilderTF2Test.test_create_experimental_model): 0.0s\n",
      "I0125 18:07:04.143327 28180 test_util.py:2462] time(__main__.ModelBuilderTF2Test.test_create_experimental_model): 0.0s\n",
      "[       OK ] ModelBuilderTF2Test.test_create_experimental_model\n",
      "[ RUN      ] ModelBuilderTF2Test.test_create_faster_rcnn_from_config_with_crop_feature0 (True)\n",
      "INFO:tensorflow:time(__main__.ModelBuilderTF2Test.test_create_faster_rcnn_from_config_with_crop_feature0 (True)): 0.02s\n",
      "I0125 18:07:04.163704 28180 test_util.py:2462] time(__main__.ModelBuilderTF2Test.test_create_faster_rcnn_from_config_with_crop_feature0 (True)): 0.02s\n",
      "[       OK ] ModelBuilderTF2Test.test_create_faster_rcnn_from_config_with_crop_feature0 (True)\n",
      "[ RUN      ] ModelBuilderTF2Test.test_create_faster_rcnn_from_config_with_crop_feature1 (False)\n",
      "INFO:tensorflow:time(__main__.ModelBuilderTF2Test.test_create_faster_rcnn_from_config_with_crop_feature1 (False)): 0.02s\n",
      "I0125 18:07:04.183927 28180 test_util.py:2462] time(__main__.ModelBuilderTF2Test.test_create_faster_rcnn_from_config_with_crop_feature1 (False)): 0.02s\n",
      "[       OK ] ModelBuilderTF2Test.test_create_faster_rcnn_from_config_with_crop_feature1 (False)\n",
      "[ RUN      ] ModelBuilderTF2Test.test_create_faster_rcnn_model_from_config_with_example_miner\n",
      "INFO:tensorflow:time(__main__.ModelBuilderTF2Test.test_create_faster_rcnn_model_from_config_with_example_miner): 0.02s\n",
      "I0125 18:07:04.204266 28180 test_util.py:2462] time(__main__.ModelBuilderTF2Test.test_create_faster_rcnn_model_from_config_with_example_miner): 0.02s\n",
      "[       OK ] ModelBuilderTF2Test.test_create_faster_rcnn_model_from_config_with_example_miner\n",
      "[ RUN      ] ModelBuilderTF2Test.test_create_faster_rcnn_models_from_config_faster_rcnn_with_matmul\n",
      "INFO:tensorflow:time(__main__.ModelBuilderTF2Test.test_create_faster_rcnn_models_from_config_faster_rcnn_with_matmul): 0.1s\n",
      "I0125 18:07:04.305542 28180 test_util.py:2462] time(__main__.ModelBuilderTF2Test.test_create_faster_rcnn_models_from_config_faster_rcnn_with_matmul): 0.1s\n",
      "[       OK ] ModelBuilderTF2Test.test_create_faster_rcnn_models_from_config_faster_rcnn_with_matmul\n",
      "[ RUN      ] ModelBuilderTF2Test.test_create_faster_rcnn_models_from_config_faster_rcnn_without_matmul\n",
      "INFO:tensorflow:time(__main__.ModelBuilderTF2Test.test_create_faster_rcnn_models_from_config_faster_rcnn_without_matmul): 0.1s\n",
      "I0125 18:07:04.408507 28180 test_util.py:2462] time(__main__.ModelBuilderTF2Test.test_create_faster_rcnn_models_from_config_faster_rcnn_without_matmul): 0.1s\n",
      "[       OK ] ModelBuilderTF2Test.test_create_faster_rcnn_models_from_config_faster_rcnn_without_matmul\n",
      "[ RUN      ] ModelBuilderTF2Test.test_create_faster_rcnn_models_from_config_mask_rcnn_with_matmul\n",
      "INFO:tensorflow:time(__main__.ModelBuilderTF2Test.test_create_faster_rcnn_models_from_config_mask_rcnn_with_matmul): 0.1s\n",
      "I0125 18:07:04.510728 28180 test_util.py:2462] time(__main__.ModelBuilderTF2Test.test_create_faster_rcnn_models_from_config_mask_rcnn_with_matmul): 0.1s\n",
      "[       OK ] ModelBuilderTF2Test.test_create_faster_rcnn_models_from_config_mask_rcnn_with_matmul\n",
      "[ RUN      ] ModelBuilderTF2Test.test_create_faster_rcnn_models_from_config_mask_rcnn_without_matmul\n",
      "INFO:tensorflow:time(__main__.ModelBuilderTF2Test.test_create_faster_rcnn_models_from_config_mask_rcnn_without_matmul): 0.1s\n",
      "I0125 18:07:04.613376 28180 test_util.py:2462] time(__main__.ModelBuilderTF2Test.test_create_faster_rcnn_models_from_config_mask_rcnn_without_matmul): 0.1s\n",
      "[       OK ] ModelBuilderTF2Test.test_create_faster_rcnn_models_from_config_mask_rcnn_without_matmul\n",
      "[ RUN      ] ModelBuilderTF2Test.test_create_rfcn_model_from_config\n",
      "INFO:tensorflow:time(__main__.ModelBuilderTF2Test.test_create_rfcn_model_from_config): 0.1s\n",
      "I0125 18:07:04.714786 28180 test_util.py:2462] time(__main__.ModelBuilderTF2Test.test_create_rfcn_model_from_config): 0.1s\n",
      "[       OK ] ModelBuilderTF2Test.test_create_rfcn_model_from_config\n",
      "[ RUN      ] ModelBuilderTF2Test.test_create_ssd_fpn_model_from_config\n",
      "INFO:tensorflow:time(__main__.ModelBuilderTF2Test.test_create_ssd_fpn_model_from_config): 0.03s\n",
      "I0125 18:07:04.745016 28180 test_util.py:2462] time(__main__.ModelBuilderTF2Test.test_create_ssd_fpn_model_from_config): 0.03s\n",
      "[       OK ] ModelBuilderTF2Test.test_create_ssd_fpn_model_from_config\n",
      "[ RUN      ] ModelBuilderTF2Test.test_create_ssd_models_from_config\n",
      "I0125 18:07:04.928886 28180 ssd_efficientnet_bifpn_feature_extractor.py:161] EfficientDet EfficientNet backbone version: efficientnet-b0\n",
      "I0125 18:07:04.928886 28180 ssd_efficientnet_bifpn_feature_extractor.py:163] EfficientDet BiFPN num filters: 64\n",
      "I0125 18:07:04.928886 28180 ssd_efficientnet_bifpn_feature_extractor.py:164] EfficientDet BiFPN num iterations: 3\n",
      "I0125 18:07:04.928886 28180 efficientnet_model.py:143] round_filter input=32 output=32\n",
      "I0125 18:07:05.010818 28180 efficientnet_model.py:143] round_filter input=32 output=32\n",
      "I0125 18:07:05.010818 28180 efficientnet_model.py:143] round_filter input=16 output=16\n",
      "I0125 18:07:05.122894 28180 efficientnet_model.py:143] round_filter input=16 output=16\n",
      "I0125 18:07:05.122894 28180 efficientnet_model.py:143] round_filter input=24 output=24\n",
      "I0125 18:07:05.370636 28180 efficientnet_model.py:143] round_filter input=24 output=24\n",
      "I0125 18:07:05.370636 28180 efficientnet_model.py:143] round_filter input=40 output=40\n",
      "I0125 18:07:05.606994 28180 efficientnet_model.py:143] round_filter input=40 output=40\n",
      "I0125 18:07:05.611627 28180 efficientnet_model.py:143] round_filter input=80 output=80\n",
      "I0125 18:07:05.969197 28180 efficientnet_model.py:143] round_filter input=80 output=80\n",
      "I0125 18:07:05.969197 28180 efficientnet_model.py:143] round_filter input=112 output=112\n",
      "I0125 18:07:06.417813 28180 efficientnet_model.py:143] round_filter input=112 output=112\n",
      "I0125 18:07:06.418876 28180 efficientnet_model.py:143] round_filter input=192 output=192\n",
      "I0125 18:07:06.927167 28180 efficientnet_model.py:143] round_filter input=192 output=192\n",
      "I0125 18:07:06.927167 28180 efficientnet_model.py:143] round_filter input=320 output=320\n",
      "I0125 18:07:07.038743 28180 efficientnet_model.py:143] round_filter input=1280 output=1280\n",
      "I0125 18:07:07.103585 28180 efficientnet_model.py:453] Building model efficientnet with params ModelConfig(width_coefficient=1.0, depth_coefficient=1.0, resolution=224, dropout_rate=0.2, blocks=(BlockConfig(input_filters=32, output_filters=16, kernel_size=3, num_repeat=1, expand_ratio=1, strides=(1, 1), se_ratio=0.25, id_skip=True, fused_conv=False, conv_type='depthwise'), BlockConfig(input_filters=16, output_filters=24, kernel_size=3, num_repeat=2, expand_ratio=6, strides=(2, 2), se_ratio=0.25, id_skip=True, fused_conv=False, conv_type='depthwise'), BlockConfig(input_filters=24, output_filters=40, kernel_size=5, num_repeat=2, expand_ratio=6, strides=(2, 2), se_ratio=0.25, id_skip=True, fused_conv=False, conv_type='depthwise'), BlockConfig(input_filters=40, output_filters=80, kernel_size=3, num_repeat=3, expand_ratio=6, strides=(2, 2), se_ratio=0.25, id_skip=True, fused_conv=False, conv_type='depthwise'), BlockConfig(input_filters=80, output_filters=112, kernel_size=5, num_repeat=3, expand_ratio=6, strides=(1, 1), se_ratio=0.25, id_skip=True, fused_conv=False, conv_type='depthwise'), BlockConfig(input_filters=112, output_filters=192, kernel_size=5, num_repeat=4, expand_ratio=6, strides=(2, 2), se_ratio=0.25, id_skip=True, fused_conv=False, conv_type='depthwise'), BlockConfig(input_filters=192, output_filters=320, kernel_size=3, num_repeat=1, expand_ratio=6, strides=(1, 1), se_ratio=0.25, id_skip=True, fused_conv=False, conv_type='depthwise')), stem_base_filters=32, top_base_filters=1280, activation='simple_swish', batch_norm='default', bn_momentum=0.99, bn_epsilon=0.001, weight_decay=5e-06, drop_connect_rate=0.2, depth_divisor=8, min_depth=None, use_se=True, input_channels=3, num_classes=1000, model_name='efficientnet', rescale_input=False, data_format='channels_last', dtype='float32')\n",
      "I0125 18:07:07.164524 28180 ssd_efficientnet_bifpn_feature_extractor.py:161] EfficientDet EfficientNet backbone version: efficientnet-b1\n",
      "I0125 18:07:07.164524 28180 ssd_efficientnet_bifpn_feature_extractor.py:163] EfficientDet BiFPN num filters: 88\n",
      "I0125 18:07:07.164524 28180 ssd_efficientnet_bifpn_feature_extractor.py:164] EfficientDet BiFPN num iterations: 4\n",
      "I0125 18:07:07.164524 28180 efficientnet_model.py:143] round_filter input=32 output=32\n",
      "I0125 18:07:07.184818 28180 efficientnet_model.py:143] round_filter input=32 output=32\n",
      "I0125 18:07:07.184818 28180 efficientnet_model.py:143] round_filter input=16 output=16\n",
      "I0125 18:07:07.366718 28180 efficientnet_model.py:143] round_filter input=16 output=16\n",
      "I0125 18:07:07.366718 28180 efficientnet_model.py:143] round_filter input=24 output=24\n",
      "I0125 18:07:07.696979 28180 efficientnet_model.py:143] round_filter input=24 output=24\n",
      "I0125 18:07:07.696979 28180 efficientnet_model.py:143] round_filter input=40 output=40\n",
      "I0125 18:07:08.021711 28180 efficientnet_model.py:143] round_filter input=40 output=40\n",
      "I0125 18:07:08.021711 28180 efficientnet_model.py:143] round_filter input=80 output=80\n",
      "I0125 18:07:08.706958 28180 efficientnet_model.py:143] round_filter input=80 output=80\n",
      "I0125 18:07:08.706958 28180 efficientnet_model.py:143] round_filter input=112 output=112\n",
      "I0125 18:07:09.162010 28180 efficientnet_model.py:143] round_filter input=112 output=112\n",
      "I0125 18:07:09.162010 28180 efficientnet_model.py:143] round_filter input=192 output=192\n",
      "I0125 18:07:09.772401 28180 efficientnet_model.py:143] round_filter input=192 output=192\n",
      "I0125 18:07:09.772401 28180 efficientnet_model.py:143] round_filter input=320 output=320\n",
      "I0125 18:07:10.069453 28180 efficientnet_model.py:143] round_filter input=1280 output=1280\n",
      "I0125 18:07:10.121573 28180 efficientnet_model.py:453] Building model efficientnet with params ModelConfig(width_coefficient=1.0, depth_coefficient=1.1, resolution=240, dropout_rate=0.2, blocks=(BlockConfig(input_filters=32, output_filters=16, kernel_size=3, num_repeat=1, expand_ratio=1, strides=(1, 1), se_ratio=0.25, id_skip=True, fused_conv=False, conv_type='depthwise'), BlockConfig(input_filters=16, output_filters=24, kernel_size=3, num_repeat=2, expand_ratio=6, strides=(2, 2), se_ratio=0.25, id_skip=True, fused_conv=False, conv_type='depthwise'), BlockConfig(input_filters=24, output_filters=40, kernel_size=5, num_repeat=2, expand_ratio=6, strides=(2, 2), se_ratio=0.25, id_skip=True, fused_conv=False, conv_type='depthwise'), BlockConfig(input_filters=40, output_filters=80, kernel_size=3, num_repeat=3, expand_ratio=6, strides=(2, 2), se_ratio=0.25, id_skip=True, fused_conv=False, conv_type='depthwise'), BlockConfig(input_filters=80, output_filters=112, kernel_size=5, num_repeat=3, expand_ratio=6, strides=(1, 1), se_ratio=0.25, id_skip=True, fused_conv=False, conv_type='depthwise'), BlockConfig(input_filters=112, output_filters=192, kernel_size=5, num_repeat=4, expand_ratio=6, strides=(2, 2), se_ratio=0.25, id_skip=True, fused_conv=False, conv_type='depthwise'), BlockConfig(input_filters=192, output_filters=320, kernel_size=3, num_repeat=1, expand_ratio=6, strides=(1, 1), se_ratio=0.25, id_skip=True, fused_conv=False, conv_type='depthwise')), stem_base_filters=32, top_base_filters=1280, activation='simple_swish', batch_norm='default', bn_momentum=0.99, bn_epsilon=0.001, weight_decay=5e-06, drop_connect_rate=0.2, depth_divisor=8, min_depth=None, use_se=True, input_channels=3, num_classes=1000, model_name='efficientnet', rescale_input=False, data_format='channels_last', dtype='float32')\n",
      "I0125 18:07:10.182500 28180 ssd_efficientnet_bifpn_feature_extractor.py:161] EfficientDet EfficientNet backbone version: efficientnet-b2\n",
      "I0125 18:07:10.182500 28180 ssd_efficientnet_bifpn_feature_extractor.py:163] EfficientDet BiFPN num filters: 112\n",
      "I0125 18:07:10.182500 28180 ssd_efficientnet_bifpn_feature_extractor.py:164] EfficientDet BiFPN num iterations: 5\n",
      "I0125 18:07:10.182500 28180 efficientnet_model.py:143] round_filter input=32 output=32\n",
      "I0125 18:07:10.209290 28180 efficientnet_model.py:143] round_filter input=32 output=32\n",
      "I0125 18:07:10.209290 28180 efficientnet_model.py:143] round_filter input=16 output=16\n",
      "I0125 18:07:10.382420 28180 efficientnet_model.py:143] round_filter input=16 output=16\n",
      "I0125 18:07:10.382420 28180 efficientnet_model.py:143] round_filter input=24 output=24\n",
      "I0125 18:07:10.712023 28180 efficientnet_model.py:143] round_filter input=24 output=24\n",
      "I0125 18:07:10.712023 28180 efficientnet_model.py:143] round_filter input=40 output=48\n",
      "I0125 18:07:11.070842 28180 efficientnet_model.py:143] round_filter input=40 output=48\n",
      "I0125 18:07:11.070842 28180 efficientnet_model.py:143] round_filter input=80 output=88\n",
      "I0125 18:07:11.566860 28180 efficientnet_model.py:143] round_filter input=80 output=88\n",
      "I0125 18:07:11.566860 28180 efficientnet_model.py:143] round_filter input=112 output=120\n",
      "I0125 18:07:12.068158 28180 efficientnet_model.py:143] round_filter input=112 output=120\n",
      "I0125 18:07:12.068158 28180 efficientnet_model.py:143] round_filter input=192 output=208\n",
      "I0125 18:07:12.677469 28180 efficientnet_model.py:143] round_filter input=192 output=208\n",
      "I0125 18:07:12.677469 28180 efficientnet_model.py:143] round_filter input=320 output=352\n",
      "I0125 18:07:12.945398 28180 efficientnet_model.py:143] round_filter input=1280 output=1408\n",
      "I0125 18:07:13.009301 28180 efficientnet_model.py:453] Building model efficientnet with params ModelConfig(width_coefficient=1.1, depth_coefficient=1.2, resolution=260, dropout_rate=0.3, blocks=(BlockConfig(input_filters=32, output_filters=16, kernel_size=3, num_repeat=1, expand_ratio=1, strides=(1, 1), se_ratio=0.25, id_skip=True, fused_conv=False, conv_type='depthwise'), BlockConfig(input_filters=16, output_filters=24, kernel_size=3, num_repeat=2, expand_ratio=6, strides=(2, 2), se_ratio=0.25, id_skip=True, fused_conv=False, conv_type='depthwise'), BlockConfig(input_filters=24, output_filters=40, kernel_size=5, num_repeat=2, expand_ratio=6, strides=(2, 2), se_ratio=0.25, id_skip=True, fused_conv=False, conv_type='depthwise'), BlockConfig(input_filters=40, output_filters=80, kernel_size=3, num_repeat=3, expand_ratio=6, strides=(2, 2), se_ratio=0.25, id_skip=True, fused_conv=False, conv_type='depthwise'), BlockConfig(input_filters=80, output_filters=112, kernel_size=5, num_repeat=3, expand_ratio=6, strides=(1, 1), se_ratio=0.25, id_skip=True, fused_conv=False, conv_type='depthwise'), BlockConfig(input_filters=112, output_filters=192, kernel_size=5, num_repeat=4, expand_ratio=6, strides=(2, 2), se_ratio=0.25, id_skip=True, fused_conv=False, conv_type='depthwise'), BlockConfig(input_filters=192, output_filters=320, kernel_size=3, num_repeat=1, expand_ratio=6, strides=(1, 1), se_ratio=0.25, id_skip=True, fused_conv=False, conv_type='depthwise')), stem_base_filters=32, top_base_filters=1280, activation='simple_swish', batch_norm='default', bn_momentum=0.99, bn_epsilon=0.001, weight_decay=5e-06, drop_connect_rate=0.2, depth_divisor=8, min_depth=None, use_se=True, input_channels=3, num_classes=1000, model_name='efficientnet', rescale_input=False, data_format='channels_last', dtype='float32')\n",
      "I0125 18:07:13.064213 28180 ssd_efficientnet_bifpn_feature_extractor.py:161] EfficientDet EfficientNet backbone version: efficientnet-b3\n",
      "I0125 18:07:13.064213 28180 ssd_efficientnet_bifpn_feature_extractor.py:163] EfficientDet BiFPN num filters: 160\n",
      "I0125 18:07:13.064213 28180 ssd_efficientnet_bifpn_feature_extractor.py:164] EfficientDet BiFPN num iterations: 6\n",
      "I0125 18:07:13.074283 28180 efficientnet_model.py:143] round_filter input=32 output=40\n",
      "I0125 18:07:13.094373 28180 efficientnet_model.py:143] round_filter input=32 output=40\n",
      "I0125 18:07:13.094373 28180 efficientnet_model.py:143] round_filter input=16 output=24\n",
      "I0125 18:07:13.279290 28180 efficientnet_model.py:143] round_filter input=16 output=24\n",
      "I0125 18:07:13.279290 28180 efficientnet_model.py:143] round_filter input=24 output=32\n",
      "I0125 18:07:13.624993 28180 efficientnet_model.py:143] round_filter input=24 output=32\n",
      "I0125 18:07:13.624993 28180 efficientnet_model.py:143] round_filter input=40 output=48\n",
      "I0125 18:07:13.957905 28180 efficientnet_model.py:143] round_filter input=40 output=48\n",
      "I0125 18:07:13.957905 28180 efficientnet_model.py:143] round_filter input=80 output=96\n",
      "I0125 18:07:14.527941 28180 efficientnet_model.py:143] round_filter input=80 output=96\n",
      "I0125 18:07:14.527941 28180 efficientnet_model.py:143] round_filter input=112 output=136\n",
      "I0125 18:07:15.169034 28180 efficientnet_model.py:143] round_filter input=112 output=136\n",
      "I0125 18:07:15.169034 28180 efficientnet_model.py:143] round_filter input=192 output=232\n",
      "I0125 18:07:15.915829 28180 efficientnet_model.py:143] round_filter input=192 output=232\n",
      "I0125 18:07:15.915829 28180 efficientnet_model.py:143] round_filter input=320 output=384\n",
      "I0125 18:07:16.184391 28180 efficientnet_model.py:143] round_filter input=1280 output=1536\n",
      "I0125 18:07:16.249706 28180 efficientnet_model.py:453] Building model efficientnet with params ModelConfig(width_coefficient=1.2, depth_coefficient=1.4, resolution=300, dropout_rate=0.3, blocks=(BlockConfig(input_filters=32, output_filters=16, kernel_size=3, num_repeat=1, expand_ratio=1, strides=(1, 1), se_ratio=0.25, id_skip=True, fused_conv=False, conv_type='depthwise'), BlockConfig(input_filters=16, output_filters=24, kernel_size=3, num_repeat=2, expand_ratio=6, strides=(2, 2), se_ratio=0.25, id_skip=True, fused_conv=False, conv_type='depthwise'), BlockConfig(input_filters=24, output_filters=40, kernel_size=5, num_repeat=2, expand_ratio=6, strides=(2, 2), se_ratio=0.25, id_skip=True, fused_conv=False, conv_type='depthwise'), BlockConfig(input_filters=40, output_filters=80, kernel_size=3, num_repeat=3, expand_ratio=6, strides=(2, 2), se_ratio=0.25, id_skip=True, fused_conv=False, conv_type='depthwise'), BlockConfig(input_filters=80, output_filters=112, kernel_size=5, num_repeat=3, expand_ratio=6, strides=(1, 1), se_ratio=0.25, id_skip=True, fused_conv=False, conv_type='depthwise'), BlockConfig(input_filters=112, output_filters=192, kernel_size=5, num_repeat=4, expand_ratio=6, strides=(2, 2), se_ratio=0.25, id_skip=True, fused_conv=False, conv_type='depthwise'), BlockConfig(input_filters=192, output_filters=320, kernel_size=3, num_repeat=1, expand_ratio=6, strides=(1, 1), se_ratio=0.25, id_skip=True, fused_conv=False, conv_type='depthwise')), stem_base_filters=32, top_base_filters=1280, activation='simple_swish', batch_norm='default', bn_momentum=0.99, bn_epsilon=0.001, weight_decay=5e-06, drop_connect_rate=0.2, depth_divisor=8, min_depth=None, use_se=True, input_channels=3, num_classes=1000, model_name='efficientnet', rescale_input=False, data_format='channels_last', dtype='float32')\n",
      "I0125 18:07:16.320729 28180 ssd_efficientnet_bifpn_feature_extractor.py:161] EfficientDet EfficientNet backbone version: efficientnet-b4\n",
      "I0125 18:07:16.320729 28180 ssd_efficientnet_bifpn_feature_extractor.py:163] EfficientDet BiFPN num filters: 224\n",
      "I0125 18:07:16.320729 28180 ssd_efficientnet_bifpn_feature_extractor.py:164] EfficientDet BiFPN num iterations: 7\n",
      "I0125 18:07:16.320729 28180 efficientnet_model.py:143] round_filter input=32 output=48\n",
      "I0125 18:07:16.341058 28180 efficientnet_model.py:143] round_filter input=32 output=48\n",
      "I0125 18:07:16.341058 28180 efficientnet_model.py:143] round_filter input=16 output=24\n",
      "I0125 18:07:16.525146 28180 efficientnet_model.py:143] round_filter input=16 output=24\n",
      "I0125 18:07:16.525146 28180 efficientnet_model.py:143] round_filter input=24 output=32\n",
      "I0125 18:07:17.263201 28180 efficientnet_model.py:143] round_filter input=24 output=32\n",
      "I0125 18:07:17.263201 28180 efficientnet_model.py:143] round_filter input=40 output=56\n",
      "I0125 18:07:17.738629 28180 efficientnet_model.py:143] round_filter input=40 output=56\n",
      "I0125 18:07:17.738629 28180 efficientnet_model.py:143] round_filter input=80 output=112\n",
      "I0125 18:07:18.441826 28180 efficientnet_model.py:143] round_filter input=80 output=112\n",
      "I0125 18:07:18.441826 28180 efficientnet_model.py:143] round_filter input=112 output=160\n",
      "I0125 18:07:19.154393 28180 efficientnet_model.py:143] round_filter input=112 output=160\n",
      "I0125 18:07:19.154393 28180 efficientnet_model.py:143] round_filter input=192 output=272\n",
      "I0125 18:07:20.197963 28180 efficientnet_model.py:143] round_filter input=192 output=272\n",
      "I0125 18:07:20.197963 28180 efficientnet_model.py:143] round_filter input=320 output=448\n",
      "I0125 18:07:20.482645 28180 efficientnet_model.py:143] round_filter input=1280 output=1792\n",
      "I0125 18:07:20.548121 28180 efficientnet_model.py:453] Building model efficientnet with params ModelConfig(width_coefficient=1.4, depth_coefficient=1.8, resolution=380, dropout_rate=0.4, blocks=(BlockConfig(input_filters=32, output_filters=16, kernel_size=3, num_repeat=1, expand_ratio=1, strides=(1, 1), se_ratio=0.25, id_skip=True, fused_conv=False, conv_type='depthwise'), BlockConfig(input_filters=16, output_filters=24, kernel_size=3, num_repeat=2, expand_ratio=6, strides=(2, 2), se_ratio=0.25, id_skip=True, fused_conv=False, conv_type='depthwise'), BlockConfig(input_filters=24, output_filters=40, kernel_size=5, num_repeat=2, expand_ratio=6, strides=(2, 2), se_ratio=0.25, id_skip=True, fused_conv=False, conv_type='depthwise'), BlockConfig(input_filters=40, output_filters=80, kernel_size=3, num_repeat=3, expand_ratio=6, strides=(2, 2), se_ratio=0.25, id_skip=True, fused_conv=False, conv_type='depthwise'), BlockConfig(input_filters=80, output_filters=112, kernel_size=5, num_repeat=3, expand_ratio=6, strides=(1, 1), se_ratio=0.25, id_skip=True, fused_conv=False, conv_type='depthwise'), BlockConfig(input_filters=112, output_filters=192, kernel_size=5, num_repeat=4, expand_ratio=6, strides=(2, 2), se_ratio=0.25, id_skip=True, fused_conv=False, conv_type='depthwise'), BlockConfig(input_filters=192, output_filters=320, kernel_size=3, num_repeat=1, expand_ratio=6, strides=(1, 1), se_ratio=0.25, id_skip=True, fused_conv=False, conv_type='depthwise')), stem_base_filters=32, top_base_filters=1280, activation='simple_swish', batch_norm='default', bn_momentum=0.99, bn_epsilon=0.001, weight_decay=5e-06, drop_connect_rate=0.2, depth_divisor=8, min_depth=None, use_se=True, input_channels=3, num_classes=1000, model_name='efficientnet', rescale_input=False, data_format='channels_last', dtype='float32')\n",
      "I0125 18:07:20.630215 28180 ssd_efficientnet_bifpn_feature_extractor.py:161] EfficientDet EfficientNet backbone version: efficientnet-b5\n",
      "I0125 18:07:20.630215 28180 ssd_efficientnet_bifpn_feature_extractor.py:163] EfficientDet BiFPN num filters: 288\n",
      "I0125 18:07:20.630215 28180 ssd_efficientnet_bifpn_feature_extractor.py:164] EfficientDet BiFPN num iterations: 7\n",
      "I0125 18:07:20.633757 28180 efficientnet_model.py:143] round_filter input=32 output=48\n",
      "I0125 18:07:20.650478 28180 efficientnet_model.py:143] round_filter input=32 output=48\n",
      "I0125 18:07:20.650478 28180 efficientnet_model.py:143] round_filter input=16 output=24\n",
      "I0125 18:07:20.913408 28180 efficientnet_model.py:143] round_filter input=16 output=24\n",
      "I0125 18:07:20.913408 28180 efficientnet_model.py:143] round_filter input=24 output=40\n",
      "I0125 18:07:21.484699 28180 efficientnet_model.py:143] round_filter input=24 output=40\n",
      "I0125 18:07:21.484699 28180 efficientnet_model.py:143] round_filter input=40 output=64\n",
      "I0125 18:07:22.079263 28180 efficientnet_model.py:143] round_filter input=40 output=64\n",
      "I0125 18:07:22.079263 28180 efficientnet_model.py:143] round_filter input=80 output=128\n",
      "I0125 18:07:22.913864 28180 efficientnet_model.py:143] round_filter input=80 output=128\n",
      "I0125 18:07:22.913864 28180 efficientnet_model.py:143] round_filter input=112 output=176\n",
      "I0125 18:07:23.757847 28180 efficientnet_model.py:143] round_filter input=112 output=176\n",
      "I0125 18:07:23.757847 28180 efficientnet_model.py:143] round_filter input=192 output=304\n",
      "I0125 18:07:24.933799 28180 efficientnet_model.py:143] round_filter input=192 output=304\n",
      "I0125 18:07:24.938343 28180 efficientnet_model.py:143] round_filter input=320 output=512\n",
      "I0125 18:07:25.379787 28180 efficientnet_model.py:143] round_filter input=1280 output=2048\n",
      "I0125 18:07:25.450206 28180 efficientnet_model.py:453] Building model efficientnet with params ModelConfig(width_coefficient=1.6, depth_coefficient=2.2, resolution=456, dropout_rate=0.4, blocks=(BlockConfig(input_filters=32, output_filters=16, kernel_size=3, num_repeat=1, expand_ratio=1, strides=(1, 1), se_ratio=0.25, id_skip=True, fused_conv=False, conv_type='depthwise'), BlockConfig(input_filters=16, output_filters=24, kernel_size=3, num_repeat=2, expand_ratio=6, strides=(2, 2), se_ratio=0.25, id_skip=True, fused_conv=False, conv_type='depthwise'), BlockConfig(input_filters=24, output_filters=40, kernel_size=5, num_repeat=2, expand_ratio=6, strides=(2, 2), se_ratio=0.25, id_skip=True, fused_conv=False, conv_type='depthwise'), BlockConfig(input_filters=40, output_filters=80, kernel_size=3, num_repeat=3, expand_ratio=6, strides=(2, 2), se_ratio=0.25, id_skip=True, fused_conv=False, conv_type='depthwise'), BlockConfig(input_filters=80, output_filters=112, kernel_size=5, num_repeat=3, expand_ratio=6, strides=(1, 1), se_ratio=0.25, id_skip=True, fused_conv=False, conv_type='depthwise'), BlockConfig(input_filters=112, output_filters=192, kernel_size=5, num_repeat=4, expand_ratio=6, strides=(2, 2), se_ratio=0.25, id_skip=True, fused_conv=False, conv_type='depthwise'), BlockConfig(input_filters=192, output_filters=320, kernel_size=3, num_repeat=1, expand_ratio=6, strides=(1, 1), se_ratio=0.25, id_skip=True, fused_conv=False, conv_type='depthwise')), stem_base_filters=32, top_base_filters=1280, activation='simple_swish', batch_norm='default', bn_momentum=0.99, bn_epsilon=0.001, weight_decay=5e-06, drop_connect_rate=0.2, depth_divisor=8, min_depth=None, use_se=True, input_channels=3, num_classes=1000, model_name='efficientnet', rescale_input=False, data_format='channels_last', dtype='float32')\n",
      "I0125 18:07:25.544622 28180 ssd_efficientnet_bifpn_feature_extractor.py:161] EfficientDet EfficientNet backbone version: efficientnet-b6\n",
      "I0125 18:07:25.544622 28180 ssd_efficientnet_bifpn_feature_extractor.py:163] EfficientDet BiFPN num filters: 384\n",
      "I0125 18:07:25.544622 28180 ssd_efficientnet_bifpn_feature_extractor.py:164] EfficientDet BiFPN num iterations: 8\n",
      "I0125 18:07:25.544622 28180 efficientnet_model.py:143] round_filter input=32 output=56\n",
      "I0125 18:07:25.571013 28180 efficientnet_model.py:143] round_filter input=32 output=56\n",
      "I0125 18:07:25.571013 28180 efficientnet_model.py:143] round_filter input=16 output=32\n",
      "I0125 18:07:25.836406 28180 efficientnet_model.py:143] round_filter input=16 output=32\n",
      "I0125 18:07:25.836406 28180 efficientnet_model.py:143] round_filter input=24 output=40\n",
      "I0125 18:07:26.920716 28180 efficientnet_model.py:143] round_filter input=24 output=40\n",
      "I0125 18:07:26.920716 28180 efficientnet_model.py:143] round_filter input=40 output=72\n",
      "I0125 18:07:27.610613 28180 efficientnet_model.py:143] round_filter input=40 output=72\n",
      "I0125 18:07:27.610613 28180 efficientnet_model.py:143] round_filter input=80 output=144\n",
      "I0125 18:07:28.548625 28180 efficientnet_model.py:143] round_filter input=80 output=144\n",
      "I0125 18:07:28.548625 28180 efficientnet_model.py:143] round_filter input=112 output=200\n",
      "I0125 18:07:29.537929 28180 efficientnet_model.py:143] round_filter input=112 output=200\n",
      "I0125 18:07:29.537929 28180 efficientnet_model.py:143] round_filter input=192 output=344\n",
      "I0125 18:07:30.991137 28180 efficientnet_model.py:143] round_filter input=192 output=344\n",
      "I0125 18:07:30.991137 28180 efficientnet_model.py:143] round_filter input=320 output=576\n",
      "I0125 18:07:31.480058 28180 efficientnet_model.py:143] round_filter input=1280 output=2304\n",
      "I0125 18:07:31.549098 28180 efficientnet_model.py:453] Building model efficientnet with params ModelConfig(width_coefficient=1.8, depth_coefficient=2.6, resolution=528, dropout_rate=0.5, blocks=(BlockConfig(input_filters=32, output_filters=16, kernel_size=3, num_repeat=1, expand_ratio=1, strides=(1, 1), se_ratio=0.25, id_skip=True, fused_conv=False, conv_type='depthwise'), BlockConfig(input_filters=16, output_filters=24, kernel_size=3, num_repeat=2, expand_ratio=6, strides=(2, 2), se_ratio=0.25, id_skip=True, fused_conv=False, conv_type='depthwise'), BlockConfig(input_filters=24, output_filters=40, kernel_size=5, num_repeat=2, expand_ratio=6, strides=(2, 2), se_ratio=0.25, id_skip=True, fused_conv=False, conv_type='depthwise'), BlockConfig(input_filters=40, output_filters=80, kernel_size=3, num_repeat=3, expand_ratio=6, strides=(2, 2), se_ratio=0.25, id_skip=True, fused_conv=False, conv_type='depthwise'), BlockConfig(input_filters=80, output_filters=112, kernel_size=5, num_repeat=3, expand_ratio=6, strides=(1, 1), se_ratio=0.25, id_skip=True, fused_conv=False, conv_type='depthwise'), BlockConfig(input_filters=112, output_filters=192, kernel_size=5, num_repeat=4, expand_ratio=6, strides=(2, 2), se_ratio=0.25, id_skip=True, fused_conv=False, conv_type='depthwise'), BlockConfig(input_filters=192, output_filters=320, kernel_size=3, num_repeat=1, expand_ratio=6, strides=(1, 1), se_ratio=0.25, id_skip=True, fused_conv=False, conv_type='depthwise')), stem_base_filters=32, top_base_filters=1280, activation='simple_swish', batch_norm='default', bn_momentum=0.99, bn_epsilon=0.001, weight_decay=5e-06, drop_connect_rate=0.2, depth_divisor=8, min_depth=None, use_se=True, input_channels=3, num_classes=1000, model_name='efficientnet', rescale_input=False, data_format='channels_last', dtype='float32')\n",
      "I0125 18:07:31.660724 28180 ssd_efficientnet_bifpn_feature_extractor.py:161] EfficientDet EfficientNet backbone version: efficientnet-b7\n",
      "I0125 18:07:31.660724 28180 ssd_efficientnet_bifpn_feature_extractor.py:163] EfficientDet BiFPN num filters: 384\n",
      "I0125 18:07:31.660724 28180 ssd_efficientnet_bifpn_feature_extractor.py:164] EfficientDet BiFPN num iterations: 8\n",
      "I0125 18:07:31.660724 28180 efficientnet_model.py:143] round_filter input=32 output=64\n",
      "I0125 18:07:31.684993 28180 efficientnet_model.py:143] round_filter input=32 output=64\n",
      "I0125 18:07:31.684993 28180 efficientnet_model.py:143] round_filter input=16 output=32\n",
      "I0125 18:07:32.038398 28180 efficientnet_model.py:143] round_filter input=16 output=32\n",
      "I0125 18:07:32.038398 28180 efficientnet_model.py:143] round_filter input=24 output=48\n",
      "I0125 18:07:32.822230 28180 efficientnet_model.py:143] round_filter input=24 output=48\n",
      "I0125 18:07:32.823278 28180 efficientnet_model.py:143] round_filter input=40 output=80\n",
      "I0125 18:07:33.616051 28180 efficientnet_model.py:143] round_filter input=40 output=80\n",
      "I0125 18:07:33.616051 28180 efficientnet_model.py:143] round_filter input=80 output=160\n",
      "I0125 18:07:34.791430 28180 efficientnet_model.py:143] round_filter input=80 output=160\n",
      "I0125 18:07:34.791430 28180 efficientnet_model.py:143] round_filter input=112 output=224\n",
      "I0125 18:07:36.008372 28180 efficientnet_model.py:143] round_filter input=112 output=224\n",
      "I0125 18:07:36.008372 28180 efficientnet_model.py:143] round_filter input=192 output=384\n",
      "I0125 18:07:38.149193 28180 efficientnet_model.py:143] round_filter input=192 output=384\n",
      "I0125 18:07:38.149193 28180 efficientnet_model.py:143] round_filter input=320 output=640\n",
      "I0125 18:07:38.851660 28180 efficientnet_model.py:143] round_filter input=1280 output=2560\n",
      "I0125 18:07:38.929300 28180 efficientnet_model.py:453] Building model efficientnet with params ModelConfig(width_coefficient=2.0, depth_coefficient=3.1, resolution=600, dropout_rate=0.5, blocks=(BlockConfig(input_filters=32, output_filters=16, kernel_size=3, num_repeat=1, expand_ratio=1, strides=(1, 1), se_ratio=0.25, id_skip=True, fused_conv=False, conv_type='depthwise'), BlockConfig(input_filters=16, output_filters=24, kernel_size=3, num_repeat=2, expand_ratio=6, strides=(2, 2), se_ratio=0.25, id_skip=True, fused_conv=False, conv_type='depthwise'), BlockConfig(input_filters=24, output_filters=40, kernel_size=5, num_repeat=2, expand_ratio=6, strides=(2, 2), se_ratio=0.25, id_skip=True, fused_conv=False, conv_type='depthwise'), BlockConfig(input_filters=40, output_filters=80, kernel_size=3, num_repeat=3, expand_ratio=6, strides=(2, 2), se_ratio=0.25, id_skip=True, fused_conv=False, conv_type='depthwise'), BlockConfig(input_filters=80, output_filters=112, kernel_size=5, num_repeat=3, expand_ratio=6, strides=(1, 1), se_ratio=0.25, id_skip=True, fused_conv=False, conv_type='depthwise'), BlockConfig(input_filters=112, output_filters=192, kernel_size=5, num_repeat=4, expand_ratio=6, strides=(2, 2), se_ratio=0.25, id_skip=True, fused_conv=False, conv_type='depthwise'), BlockConfig(input_filters=192, output_filters=320, kernel_size=3, num_repeat=1, expand_ratio=6, strides=(1, 1), se_ratio=0.25, id_skip=True, fused_conv=False, conv_type='depthwise')), stem_base_filters=32, top_base_filters=1280, activation='simple_swish', batch_norm='default', bn_momentum=0.99, bn_epsilon=0.001, weight_decay=5e-06, drop_connect_rate=0.2, depth_divisor=8, min_depth=None, use_se=True, input_channels=3, num_classes=1000, model_name='efficientnet', rescale_input=False, data_format='channels_last', dtype='float32')\n",
      "INFO:tensorflow:time(__main__.ModelBuilderTF2Test.test_create_ssd_models_from_config): 34.31s\n",
      "I0125 18:07:39.052205 28180 test_util.py:2462] time(__main__.ModelBuilderTF2Test.test_create_ssd_models_from_config): 34.31s\n",
      "[       OK ] ModelBuilderTF2Test.test_create_ssd_models_from_config\n",
      "[ RUN      ] ModelBuilderTF2Test.test_invalid_faster_rcnn_batchnorm_update\n",
      "INFO:tensorflow:time(__main__.ModelBuilderTF2Test.test_invalid_faster_rcnn_batchnorm_update): 0.0s\n",
      "I0125 18:07:39.068039 28180 test_util.py:2462] time(__main__.ModelBuilderTF2Test.test_invalid_faster_rcnn_batchnorm_update): 0.0s\n",
      "[       OK ] ModelBuilderTF2Test.test_invalid_faster_rcnn_batchnorm_update\n",
      "[ RUN      ] ModelBuilderTF2Test.test_invalid_first_stage_nms_iou_threshold\n",
      "INFO:tensorflow:time(__main__.ModelBuilderTF2Test.test_invalid_first_stage_nms_iou_threshold): 0.01s\n",
      "I0125 18:07:39.077173 28180 test_util.py:2462] time(__main__.ModelBuilderTF2Test.test_invalid_first_stage_nms_iou_threshold): 0.01s\n",
      "[       OK ] ModelBuilderTF2Test.test_invalid_first_stage_nms_iou_threshold\n",
      "[ RUN      ] ModelBuilderTF2Test.test_invalid_model_config_proto\n",
      "INFO:tensorflow:time(__main__.ModelBuilderTF2Test.test_invalid_model_config_proto): 0.0s\n",
      "I0125 18:07:39.077173 28180 test_util.py:2462] time(__main__.ModelBuilderTF2Test.test_invalid_model_config_proto): 0.0s\n",
      "[       OK ] ModelBuilderTF2Test.test_invalid_model_config_proto\n",
      "[ RUN      ] ModelBuilderTF2Test.test_invalid_second_stage_batch_size\n",
      "INFO:tensorflow:time(__main__.ModelBuilderTF2Test.test_invalid_second_stage_batch_size): 0.0s\n",
      "I0125 18:07:39.077173 28180 test_util.py:2462] time(__main__.ModelBuilderTF2Test.test_invalid_second_stage_batch_size): 0.0s\n",
      "[       OK ] ModelBuilderTF2Test.test_invalid_second_stage_batch_size\n",
      "[ RUN      ] ModelBuilderTF2Test.test_session\n",
      "[  SKIPPED ] ModelBuilderTF2Test.test_session\n",
      "[ RUN      ] ModelBuilderTF2Test.test_unknown_faster_rcnn_feature_extractor\n",
      "INFO:tensorflow:time(__main__.ModelBuilderTF2Test.test_unknown_faster_rcnn_feature_extractor): 0.0s\n",
      "I0125 18:07:39.077173 28180 test_util.py:2462] time(__main__.ModelBuilderTF2Test.test_unknown_faster_rcnn_feature_extractor): 0.0s\n",
      "[       OK ] ModelBuilderTF2Test.test_unknown_faster_rcnn_feature_extractor\n",
      "[ RUN      ] ModelBuilderTF2Test.test_unknown_meta_architecture\n",
      "INFO:tensorflow:time(__main__.ModelBuilderTF2Test.test_unknown_meta_architecture): 0.0s\n",
      "I0125 18:07:39.077173 28180 test_util.py:2462] time(__main__.ModelBuilderTF2Test.test_unknown_meta_architecture): 0.0s\n",
      "[       OK ] ModelBuilderTF2Test.test_unknown_meta_architecture\n",
      "[ RUN      ] ModelBuilderTF2Test.test_unknown_ssd_feature_extractor\n",
      "INFO:tensorflow:time(__main__.ModelBuilderTF2Test.test_unknown_ssd_feature_extractor): 0.0s\n",
      "I0125 18:07:39.077173 28180 test_util.py:2462] time(__main__.ModelBuilderTF2Test.test_unknown_ssd_feature_extractor): 0.0s\n",
      "[       OK ] ModelBuilderTF2Test.test_unknown_ssd_feature_extractor\n",
      "----------------------------------------------------------------------\n",
      "Ran 24 tests in 40.502s\n",
      "\n",
      "OK (skipped=1)\n"
     ]
    }
   ],
   "source": [
    "VERIFICATION_SCRIPT = os.path.join(paths['APIMODEL_PATH'], 'research', 'object_detection', 'builders', 'model_builder_tf2_test.py')\n",
    "# Verify Installation\n",
    "!python {VERIFICATION_SCRIPT}"
   ]
  },
  {
   "cell_type": "code",
   "execution_count": null,
   "metadata": {},
   "outputs": [],
   "source": [
    "!pip install tensorflow --upgrade"
   ]
  },
  {
   "cell_type": "code",
   "execution_count": 11,
   "metadata": {},
   "outputs": [
    {
     "name": "stdout",
     "output_type": "stream",
     "text": [
      "Requirement already satisfied: pyyaml in d:\\youtube\\tensorflow object detection\\tfodcourse\\tfod\\lib\\site-packages (6.0.1)\n"
     ]
    },
    {
     "name": "stderr",
     "output_type": "stream",
     "text": [
      "DEPRECATION: Loading egg at d:\\youtube\\tensorflow object detection\\tfodcourse\\tfod\\lib\\site-packages\\absl_py-2.0.0-py3.11.egg is deprecated. pip 24.3 will enforce this behaviour change. A possible replacement is to use pip for package installation.. Discussion can be found at https://github.com/pypa/pip/issues/12330\n",
      "DEPRECATION: Loading egg at d:\\youtube\\tensorflow object detection\\tfodcourse\\tfod\\lib\\site-packages\\apache_beam-2.52.0-py3.11-win-amd64.egg is deprecated. pip 24.3 will enforce this behaviour change. A possible replacement is to use pip for package installation.. Discussion can be found at https://github.com/pypa/pip/issues/12330\n",
      "DEPRECATION: Loading egg at d:\\youtube\\tensorflow object detection\\tfodcourse\\tfod\\lib\\site-packages\\avro_python3-1.10.2-py3.11.egg is deprecated. pip 24.3 will enforce this behaviour change. A possible replacement is to use pip for package installation.. Discussion can be found at https://github.com/pypa/pip/issues/12330\n",
      "DEPRECATION: Loading egg at d:\\youtube\\tensorflow object detection\\tfodcourse\\tfod\\lib\\site-packages\\contextlib2-21.6.0-py3.11.egg is deprecated. pip 24.3 will enforce this behaviour change. A possible replacement is to use pip for package installation.. Discussion can be found at https://github.com/pypa/pip/issues/12330\n",
      "DEPRECATION: Loading egg at d:\\youtube\\tensorflow object detection\\tfodcourse\\tfod\\lib\\site-packages\\cython-3.0.6-py3.11.egg is deprecated. pip 24.3 will enforce this behaviour change. A possible replacement is to use pip for package installation.. Discussion can be found at https://github.com/pypa/pip/issues/12330\n",
      "DEPRECATION: Loading egg at d:\\youtube\\tensorflow object detection\\tfodcourse\\tfod\\lib\\site-packages\\dm_tree-0.1.8-py3.11-win-amd64.egg is deprecated. pip 24.3 will enforce this behaviour change. A possible replacement is to use pip for package installation.. Discussion can be found at https://github.com/pypa/pip/issues/12330\n",
      "DEPRECATION: Loading egg at d:\\youtube\\tensorflow object detection\\tfodcourse\\tfod\\lib\\site-packages\\h5py-3.10.0-py3.11-win-amd64.egg is deprecated. pip 24.3 will enforce this behaviour change. A possible replacement is to use pip for package installation.. Discussion can be found at https://github.com/pypa/pip/issues/12330\n",
      "DEPRECATION: Loading egg at d:\\youtube\\tensorflow object detection\\tfodcourse\\tfod\\lib\\site-packages\\lvis-0.5.3-py3.11.egg is deprecated. pip 24.3 will enforce this behaviour change. A possible replacement is to use pip for package installation.. Discussion can be found at https://github.com/pypa/pip/issues/12330\n",
      "DEPRECATION: Loading egg at d:\\youtube\\tensorflow object detection\\tfodcourse\\tfod\\lib\\site-packages\\namex-0.0.7-py3.11.egg is deprecated. pip 24.3 will enforce this behaviour change. A possible replacement is to use pip for package installation.. Discussion can be found at https://github.com/pypa/pip/issues/12330\n",
      "DEPRECATION: Loading egg at d:\\youtube\\tensorflow object detection\\tfodcourse\\tfod\\lib\\site-packages\\object_detection-0.1-py3.11.egg is deprecated. pip 24.3 will enforce this behaviour change. A possible replacement is to use pip for package installation.. Discussion can be found at https://github.com/pypa/pip/issues/12330\n",
      "DEPRECATION: Loading egg at d:\\youtube\\tensorflow object detection\\tfodcourse\\tfod\\lib\\site-packages\\pandas-2.1.4-py3.11-win-amd64.egg is deprecated. pip 24.3 will enforce this behaviour change. A possible replacement is to use pip for package installation.. Discussion can be found at https://github.com/pypa/pip/issues/12330\n",
      "DEPRECATION: Loading egg at d:\\youtube\\tensorflow object detection\\tfodcourse\\tfod\\lib\\site-packages\\pillow-10.1.0-py3.11-win-amd64.egg is deprecated. pip 24.3 will enforce this behaviour change. A possible replacement is to use pip for package installation.. Discussion can be found at https://github.com/pypa/pip/issues/12330\n",
      "DEPRECATION: Loading egg at d:\\youtube\\tensorflow object detection\\tfodcourse\\tfod\\lib\\site-packages\\portalocker-2.8.2-py3.11.egg is deprecated. pip 24.3 will enforce this behaviour change. A possible replacement is to use pip for package installation.. Discussion can be found at https://github.com/pypa/pip/issues/12330\n",
      "DEPRECATION: Loading egg at d:\\youtube\\tensorflow object detection\\tfodcourse\\tfod\\lib\\site-packages\\pycocotools-2.0.7-py3.11-win-amd64.egg is deprecated. pip 24.3 will enforce this behaviour change. A possible replacement is to use pip for package installation.. Discussion can be found at https://github.com/pypa/pip/issues/12330\n",
      "DEPRECATION: Loading egg at d:\\youtube\\tensorflow object detection\\tfodcourse\\tfod\\lib\\site-packages\\pyparsing-2.4.7-py3.11.egg is deprecated. pip 24.3 will enforce this behaviour change. A possible replacement is to use pip for package installation.. Discussion can be found at https://github.com/pypa/pip/issues/12330\n",
      "DEPRECATION: Loading egg at d:\\youtube\\tensorflow object detection\\tfodcourse\\tfod\\lib\\site-packages\\regex-2023.10.3-py3.11-win-amd64.egg is deprecated. pip 24.3 will enforce this behaviour change. A possible replacement is to use pip for package installation.. Discussion can be found at https://github.com/pypa/pip/issues/12330\n",
      "DEPRECATION: Loading egg at d:\\youtube\\tensorflow object detection\\tfodcourse\\tfod\\lib\\site-packages\\rich-13.7.0-py3.11.egg is deprecated. pip 24.3 will enforce this behaviour change. A possible replacement is to use pip for package installation.. Discussion can be found at https://github.com/pypa/pip/issues/12330\n",
      "DEPRECATION: Loading egg at d:\\youtube\\tensorflow object detection\\tfodcourse\\tfod\\lib\\site-packages\\sacrebleu-2.2.0-py3.11.egg is deprecated. pip 24.3 will enforce this behaviour change. A possible replacement is to use pip for package installation.. Discussion can be found at https://github.com/pypa/pip/issues/12330\n",
      "DEPRECATION: Loading egg at d:\\youtube\\tensorflow object detection\\tfodcourse\\tfod\\lib\\site-packages\\scipy-1.11.4-py3.11-win-amd64.egg is deprecated. pip 24.3 will enforce this behaviour change. A possible replacement is to use pip for package installation.. Discussion can be found at https://github.com/pypa/pip/issues/12330\n",
      "DEPRECATION: Loading egg at d:\\youtube\\tensorflow object detection\\tfodcourse\\tfod\\lib\\site-packages\\tabulate-0.9.0-py3.11.egg is deprecated. pip 24.3 will enforce this behaviour change. A possible replacement is to use pip for package installation.. Discussion can be found at https://github.com/pypa/pip/issues/12330\n",
      "DEPRECATION: Loading egg at d:\\youtube\\tensorflow object detection\\tfodcourse\\tfod\\lib\\site-packages\\tensorflow-2.15.0-py3.11-win-amd64.egg is deprecated. pip 24.3 will enforce this behaviour change. A possible replacement is to use pip for package installation.. Discussion can be found at https://github.com/pypa/pip/issues/12330\n",
      "DEPRECATION: Loading egg at d:\\youtube\\tensorflow object detection\\tfodcourse\\tfod\\lib\\site-packages\\tensorflow_io-0.31.0-py3.11-win-amd64.egg is deprecated. pip 24.3 will enforce this behaviour change. A possible replacement is to use pip for package installation.. Discussion can be found at https://github.com/pypa/pip/issues/12330\n",
      "DEPRECATION: Loading egg at d:\\youtube\\tensorflow object detection\\tfodcourse\\tfod\\lib\\site-packages\\tensorflow_io_gcs_filesystem-0.31.0-py3.11-win-amd64.egg is deprecated. pip 24.3 will enforce this behaviour change. A possible replacement is to use pip for package installation.. Discussion can be found at https://github.com/pypa/pip/issues/12330\n",
      "DEPRECATION: Loading egg at d:\\youtube\\tensorflow object detection\\tfodcourse\\tfod\\lib\\site-packages\\tf_models_official-2.15.0-py3.11.egg is deprecated. pip 24.3 will enforce this behaviour change. A possible replacement is to use pip for package installation.. Discussion can be found at https://github.com/pypa/pip/issues/12330\n",
      "DEPRECATION: Loading egg at d:\\youtube\\tensorflow object detection\\tfodcourse\\tfod\\lib\\site-packages\\tf_slim-1.1.0-py3.11.egg is deprecated. pip 24.3 will enforce this behaviour change. A possible replacement is to use pip for package installation.. Discussion can be found at https://github.com/pypa/pip/issues/12330\n"
     ]
    }
   ],
   "source": [
    "!pip install pyyaml"
   ]
  },
  {
   "cell_type": "code",
   "execution_count": null,
   "metadata": {},
   "outputs": [],
   "source": [
    "!pip uninstall protobuf matplotlib -y\n",
    "!pip install protobuf matplotlib==3.2"
   ]
  },
  {
   "cell_type": "code",
   "execution_count": 24,
   "metadata": {
    "scrolled": true
   },
   "outputs": [
    {
     "name": "stdout",
     "output_type": "stream",
     "text": [
      "Requirement already satisfied: protobuf==3.20.1 in d:\\youtube\\tensorflow object detection\\tfodcourse\\tfod\\lib\\site-packages (3.20.1)\n",
      "Note: you may need to restart the kernel to use updated packages.\n"
     ]
    },
    {
     "name": "stderr",
     "output_type": "stream",
     "text": [
      "DEPRECATION: Loading egg at d:\\youtube\\tensorflow object detection\\tfodcourse\\tfod\\lib\\site-packages\\absl_py-2.0.0-py3.11.egg is deprecated. pip 24.3 will enforce this behaviour change. A possible replacement is to use pip for package installation.. Discussion can be found at https://github.com/pypa/pip/issues/12330\n",
      "DEPRECATION: Loading egg at d:\\youtube\\tensorflow object detection\\tfodcourse\\tfod\\lib\\site-packages\\apache_beam-2.52.0-py3.11-win-amd64.egg is deprecated. pip 24.3 will enforce this behaviour change. A possible replacement is to use pip for package installation.. Discussion can be found at https://github.com/pypa/pip/issues/12330\n",
      "DEPRECATION: Loading egg at d:\\youtube\\tensorflow object detection\\tfodcourse\\tfod\\lib\\site-packages\\avro_python3-1.10.2-py3.11.egg is deprecated. pip 24.3 will enforce this behaviour change. A possible replacement is to use pip for package installation.. Discussion can be found at https://github.com/pypa/pip/issues/12330\n",
      "DEPRECATION: Loading egg at d:\\youtube\\tensorflow object detection\\tfodcourse\\tfod\\lib\\site-packages\\contextlib2-21.6.0-py3.11.egg is deprecated. pip 24.3 will enforce this behaviour change. A possible replacement is to use pip for package installation.. Discussion can be found at https://github.com/pypa/pip/issues/12330\n",
      "DEPRECATION: Loading egg at d:\\youtube\\tensorflow object detection\\tfodcourse\\tfod\\lib\\site-packages\\cython-3.0.6-py3.11.egg is deprecated. pip 24.3 will enforce this behaviour change. A possible replacement is to use pip for package installation.. Discussion can be found at https://github.com/pypa/pip/issues/12330\n",
      "DEPRECATION: Loading egg at d:\\youtube\\tensorflow object detection\\tfodcourse\\tfod\\lib\\site-packages\\dm_tree-0.1.8-py3.11-win-amd64.egg is deprecated. pip 24.3 will enforce this behaviour change. A possible replacement is to use pip for package installation.. Discussion can be found at https://github.com/pypa/pip/issues/12330\n",
      "DEPRECATION: Loading egg at d:\\youtube\\tensorflow object detection\\tfodcourse\\tfod\\lib\\site-packages\\h5py-3.10.0-py3.11-win-amd64.egg is deprecated. pip 24.3 will enforce this behaviour change. A possible replacement is to use pip for package installation.. Discussion can be found at https://github.com/pypa/pip/issues/12330\n",
      "DEPRECATION: Loading egg at d:\\youtube\\tensorflow object detection\\tfodcourse\\tfod\\lib\\site-packages\\lvis-0.5.3-py3.11.egg is deprecated. pip 24.3 will enforce this behaviour change. A possible replacement is to use pip for package installation.. Discussion can be found at https://github.com/pypa/pip/issues/12330\n",
      "DEPRECATION: Loading egg at d:\\youtube\\tensorflow object detection\\tfodcourse\\tfod\\lib\\site-packages\\namex-0.0.7-py3.11.egg is deprecated. pip 24.3 will enforce this behaviour change. A possible replacement is to use pip for package installation.. Discussion can be found at https://github.com/pypa/pip/issues/12330\n",
      "DEPRECATION: Loading egg at d:\\youtube\\tensorflow object detection\\tfodcourse\\tfod\\lib\\site-packages\\object_detection-0.1-py3.11.egg is deprecated. pip 24.3 will enforce this behaviour change. A possible replacement is to use pip for package installation.. Discussion can be found at https://github.com/pypa/pip/issues/12330\n",
      "DEPRECATION: Loading egg at d:\\youtube\\tensorflow object detection\\tfodcourse\\tfod\\lib\\site-packages\\pandas-2.1.4-py3.11-win-amd64.egg is deprecated. pip 24.3 will enforce this behaviour change. A possible replacement is to use pip for package installation.. Discussion can be found at https://github.com/pypa/pip/issues/12330\n",
      "DEPRECATION: Loading egg at d:\\youtube\\tensorflow object detection\\tfodcourse\\tfod\\lib\\site-packages\\pillow-10.1.0-py3.11-win-amd64.egg is deprecated. pip 24.3 will enforce this behaviour change. A possible replacement is to use pip for package installation.. Discussion can be found at https://github.com/pypa/pip/issues/12330\n",
      "DEPRECATION: Loading egg at d:\\youtube\\tensorflow object detection\\tfodcourse\\tfod\\lib\\site-packages\\portalocker-2.8.2-py3.11.egg is deprecated. pip 24.3 will enforce this behaviour change. A possible replacement is to use pip for package installation.. Discussion can be found at https://github.com/pypa/pip/issues/12330\n",
      "DEPRECATION: Loading egg at d:\\youtube\\tensorflow object detection\\tfodcourse\\tfod\\lib\\site-packages\\pycocotools-2.0.7-py3.11-win-amd64.egg is deprecated. pip 24.3 will enforce this behaviour change. A possible replacement is to use pip for package installation.. Discussion can be found at https://github.com/pypa/pip/issues/12330\n",
      "DEPRECATION: Loading egg at d:\\youtube\\tensorflow object detection\\tfodcourse\\tfod\\lib\\site-packages\\pyparsing-2.4.7-py3.11.egg is deprecated. pip 24.3 will enforce this behaviour change. A possible replacement is to use pip for package installation.. Discussion can be found at https://github.com/pypa/pip/issues/12330\n",
      "DEPRECATION: Loading egg at d:\\youtube\\tensorflow object detection\\tfodcourse\\tfod\\lib\\site-packages\\regex-2023.10.3-py3.11-win-amd64.egg is deprecated. pip 24.3 will enforce this behaviour change. A possible replacement is to use pip for package installation.. Discussion can be found at https://github.com/pypa/pip/issues/12330\n",
      "DEPRECATION: Loading egg at d:\\youtube\\tensorflow object detection\\tfodcourse\\tfod\\lib\\site-packages\\rich-13.7.0-py3.11.egg is deprecated. pip 24.3 will enforce this behaviour change. A possible replacement is to use pip for package installation.. Discussion can be found at https://github.com/pypa/pip/issues/12330\n",
      "DEPRECATION: Loading egg at d:\\youtube\\tensorflow object detection\\tfodcourse\\tfod\\lib\\site-packages\\sacrebleu-2.2.0-py3.11.egg is deprecated. pip 24.3 will enforce this behaviour change. A possible replacement is to use pip for package installation.. Discussion can be found at https://github.com/pypa/pip/issues/12330\n",
      "DEPRECATION: Loading egg at d:\\youtube\\tensorflow object detection\\tfodcourse\\tfod\\lib\\site-packages\\scipy-1.11.4-py3.11-win-amd64.egg is deprecated. pip 24.3 will enforce this behaviour change. A possible replacement is to use pip for package installation.. Discussion can be found at https://github.com/pypa/pip/issues/12330\n",
      "DEPRECATION: Loading egg at d:\\youtube\\tensorflow object detection\\tfodcourse\\tfod\\lib\\site-packages\\tabulate-0.9.0-py3.11.egg is deprecated. pip 24.3 will enforce this behaviour change. A possible replacement is to use pip for package installation.. Discussion can be found at https://github.com/pypa/pip/issues/12330\n",
      "DEPRECATION: Loading egg at d:\\youtube\\tensorflow object detection\\tfodcourse\\tfod\\lib\\site-packages\\tensorflow-2.15.0-py3.11-win-amd64.egg is deprecated. pip 24.3 will enforce this behaviour change. A possible replacement is to use pip for package installation.. Discussion can be found at https://github.com/pypa/pip/issues/12330\n",
      "DEPRECATION: Loading egg at d:\\youtube\\tensorflow object detection\\tfodcourse\\tfod\\lib\\site-packages\\tensorflow_io-0.31.0-py3.11-win-amd64.egg is deprecated. pip 24.3 will enforce this behaviour change. A possible replacement is to use pip for package installation.. Discussion can be found at https://github.com/pypa/pip/issues/12330\n",
      "DEPRECATION: Loading egg at d:\\youtube\\tensorflow object detection\\tfodcourse\\tfod\\lib\\site-packages\\tensorflow_io_gcs_filesystem-0.31.0-py3.11-win-amd64.egg is deprecated. pip 24.3 will enforce this behaviour change. A possible replacement is to use pip for package installation.. Discussion can be found at https://github.com/pypa/pip/issues/12330\n",
      "DEPRECATION: Loading egg at d:\\youtube\\tensorflow object detection\\tfodcourse\\tfod\\lib\\site-packages\\tf_models_official-2.15.0-py3.11.egg is deprecated. pip 24.3 will enforce this behaviour change. A possible replacement is to use pip for package installation.. Discussion can be found at https://github.com/pypa/pip/issues/12330\n",
      "DEPRECATION: Loading egg at d:\\youtube\\tensorflow object detection\\tfodcourse\\tfod\\lib\\site-packages\\tf_slim-1.1.0-py3.11.egg is deprecated. pip 24.3 will enforce this behaviour change. A possible replacement is to use pip for package installation.. Discussion can be found at https://github.com/pypa/pip/issues/12330\n",
      "\n",
      "[notice] A new release of pip is available: 23.3.1 -> 23.3.2\n",
      "[notice] To update, run: python.exe -m pip install --upgrade pip\n"
     ]
    }
   ],
   "source": [
    "pip install protobuf==3.20.1"
   ]
  },
  {
   "cell_type": "code",
   "execution_count": 1,
   "metadata": {},
   "outputs": [],
   "source": [
    "import object_detection"
   ]
  },
  {
   "cell_type": "code",
   "execution_count": 5,
   "metadata": {
    "scrolled": true
   },
   "outputs": [
    {
     "name": "stdout",
     "output_type": "stream",
     "text": [
      "Package                      Version      Editable project location\n",
      "---------------------------- ------------ ---------------------------------------------------------------------------------\n",
      "absl-py                      2.0.0\n",
      "absl-py                      2.0.0\n",
      "anyio                        4.1.0\n",
      "apache-beam                  2.52.0\n",
      "apache-beam                  2.52.0\n",
      "argon2-cffi                  23.1.0\n",
      "argon2-cffi-bindings         21.2.0\n",
      "arrow                        1.3.0\n",
      "asttokens                    2.4.1\n",
      "astunparse                   1.6.3\n",
      "async-lru                    2.0.4\n",
      "attrs                        23.1.0\n",
      "avro-python3                 1.10.2\n",
      "avro-python3                 1.10.2\n",
      "avro-python3                 1.10.2\n",
      "Babel                        2.13.1\n",
      "beautifulsoup4               4.12.2\n",
      "bleach                       6.1.0\n",
      "cachetools                   5.3.2\n",
      "certifi                      2023.11.17\n",
      "cffi                         1.16.0\n",
      "charset-normalizer           3.3.2\n",
      "chex                         0.1.85\n",
      "colorama                     0.4.6\n",
      "comm                         0.2.0\n",
      "comtypes                     1.2.1\n",
      "contextlib2                  21.6.0\n",
      "contextlib2                  21.6.0\n",
      "contourpy                    1.2.0\n",
      "cycler                       0.12.1\n",
      "Cython                       3.0.6\n",
      "Cython                       3.0.6\n",
      "debugpy                      1.8.0\n",
      "decorator                    5.1.1\n",
      "defusedxml                   0.7.1\n",
      "dm-tree                      0.1.8\n",
      "dm-tree                      0.1.8\n",
      "etils                        1.6.0\n",
      "executing                    2.0.1\n",
      "fastjsonschema               2.19.0\n",
      "flatbuffers                  23.5.26\n",
      "flax                         0.8.1\n",
      "fonttools                    4.46.0\n",
      "fqdn                         1.5.1\n",
      "fsspec                       2024.2.0\n",
      "gast                         0.4.0\n",
      "gin-config                   0.5.0\n",
      "google                       3.0.0\n",
      "google-auth                  2.25.2\n",
      "google-auth-oauthlib         1.0.0\n",
      "google-cloud                 0.34.0\n",
      "google-pasta                 0.2.0\n",
      "grpcio                       1.60.0\n",
      "h5py                         3.10.0\n",
      "h5py                         3.10.0\n",
      "idna                         3.6\n",
      "importlib-resources          6.1.1\n",
      "ipykernel                    6.27.1\n",
      "ipython                      8.18.1\n",
      "ipywidgets                   8.1.1\n",
      "isoduration                  20.11.0\n",
      "jax                          0.4.24\n",
      "jaxlib                       0.4.23\n",
      "jedi                         0.19.1\n",
      "Jinja2                       3.1.2\n",
      "json5                        0.9.14\n",
      "jsonpointer                  2.4\n",
      "jsonschema                   4.20.0\n",
      "jsonschema-specifications    2023.11.2\n",
      "jupyter                      1.0.0\n",
      "jupyter_client               8.6.0\n",
      "jupyter-console              6.6.3\n",
      "jupyter_core                 5.5.0\n",
      "jupyter-events               0.9.0\n",
      "jupyter-lsp                  2.2.1\n",
      "jupyter_server               2.11.1\n",
      "jupyter_server_terminals     0.4.4\n",
      "jupyterlab                   4.0.9\n",
      "jupyterlab_pygments          0.3.0\n",
      "jupyterlab_server            2.25.2\n",
      "jupyterlab-widgets           3.0.9\n",
      "keras                        2.14.0\n",
      "kiwisolver                   1.4.5\n",
      "libclang                     16.0.6\n",
      "lvis                         0.5.3\n",
      "lvis                         0.5.3\n",
      "lxml                         4.9.3\n",
      "Markdown                     3.5.1\n",
      "markdown-it-py               3.0.0\n",
      "MarkupSafe                   2.1.3\n",
      "matplotlib                   3.8.2\n",
      "matplotlib-inline            0.1.6\n",
      "mdurl                        0.1.2\n",
      "mistune                      3.0.2\n",
      "ml-dtypes                    0.2.0\n",
      "msgpack                      1.0.7\n",
      "namex                        0.0.7\n",
      "namex                        0.0.7\n",
      "nbclient                     0.9.0\n",
      "nbconvert                    7.11.0\n",
      "nbformat                     5.9.2\n",
      "nest-asyncio                 1.5.8\n",
      "notebook                     7.0.6\n",
      "notebook_shim                0.2.3\n",
      "numpy                        1.24.3\n",
      "oauthlib                     3.2.2\n",
      "object-detection             0.1\n",
      "object-detection             0.1\n",
      "opencv-python                4.8.1.78\n",
      "opt-einsum                   3.3.0\n",
      "optax                        0.1.9\n",
      "orbax-checkpoint             0.4.4\n",
      "overrides                    7.4.0\n",
      "packaging                    23.2\n",
      "pandas                       2.1.4\n",
      "pandas                       2.1.4\n",
      "pandocfilters                1.5.0\n",
      "parso                        0.8.3\n",
      "Pillow                       10.1.0\n",
      "Pillow                       10.1.0\n",
      "pip                          23.3.1\n",
      "platformdirs                 4.0.0\n",
      "portalocker                  2.8.2\n",
      "portalocker                  2.8.2\n",
      "prometheus-client            0.19.0\n",
      "prompt-toolkit               3.0.41\n",
      "protobuf                     3.20.3\n",
      "psutil                       5.9.6\n",
      "pure-eval                    0.2.2\n",
      "pyasn1                       0.5.1\n",
      "pyasn1-modules               0.3.0\n",
      "pycocotools                  2.0.7\n",
      "pycocotools                  2.0.7\n",
      "pycparser                    2.21\n",
      "Pygments                     2.17.2\n",
      "pyparsing                    2.4.7\n",
      "pyparsing                    2.4.7\n",
      "pypiwin32                    223\n",
      "PyQt5                        5.15.10\n",
      "PyQt5-Qt5                    5.15.2\n",
      "PyQt5-sip                    12.13.0\n",
      "python-dateutil              2.8.2\n",
      "python-json-logger           2.0.7\n",
      "pyttsx3                      2.90\n",
      "pytz                         2023.3.post1\n",
      "pywin32                      306\n",
      "pywinpty                     2.0.12\n",
      "PyYAML                       6.0.1\n",
      "pyzmq                        25.1.1\n",
      "qtconsole                    5.5.1\n",
      "QtPy                         2.4.1\n",
      "referencing                  0.31.1\n",
      "regex                        2023.10.3\n",
      "regex                        2023.10.3\n",
      "requests                     2.31.0\n",
      "requests-oauthlib            1.3.1\n",
      "rfc3339-validator            0.1.4\n",
      "rfc3986-validator            0.1.1\n",
      "rich                         13.7.0\n",
      "rich                         13.7.0\n",
      "rpds-py                      0.13.2\n",
      "rsa                          4.9\n",
      "sacrebleu                    2.2.0\n",
      "sacrebleu                    2.2.0\n",
      "scipy                        1.11.4\n",
      "scipy                        1.11.4\n",
      "Send2Trash                   1.8.2\n",
      "setuptools                   65.5.0\n",
      "six                          1.16.0\n",
      "slim                         0.1          D:\\Youtube\\TensorFlow Object Detection\\TFODCourse\\Tensorflow\\models\\research\\slim\n",
      "sniffio                      1.3.0\n",
      "soupsieve                    2.5\n",
      "stack-data                   0.6.3\n",
      "tabulate                     0.9.0\n",
      "tabulate                     0.9.0\n",
      "tensorboard                  2.14.1\n",
      "tensorboard-data-server      0.7.2\n",
      "tensorflow-decision-forests  1.8.1\n",
      "tensorflow-estimator         2.14.0\n",
      "tensorflow-hub               0.16.1\n",
      "tensorflow-intel             2.14.0\n",
      "tensorflow-io                0.31.0\n",
      "tensorflow-io                0.31.0\n",
      "tensorflow-io-gcs-filesystem 0.31.0\n",
      "tensorflow-io-gcs-filesystem 0.31.0\n",
      "tensorflowjs                 4.17.0\n",
      "tensorstore                  0.1.45\n",
      "termcolor                    2.4.0\n",
      "terminado                    0.18.0\n",
      "tf-keras                     2.15.0\n",
      "tf-models-official           2.15.0\n",
      "tf-models-official           2.15.0\n",
      "tf-slim                      1.1.0\n",
      "tf-slim                      1.1.0\n",
      "tinycss2                     1.2.1\n",
      "toolz                        0.12.1\n",
      "tornado                      6.4\n",
      "traitlets                    5.14.0\n",
      "types-python-dateutil        2.8.19.14\n",
      "typing_extensions            4.5.0\n",
      "tzdata                       2023.4\n",
      "uri-template                 1.3.0\n",
      "urllib3                      2.1.0\n",
      "wcwidth                      0.2.12\n",
      "webcolors                    1.13\n",
      "webencodings                 0.5.1\n",
      "websocket-client             1.7.0\n",
      "Werkzeug                     3.0.1\n",
      "wget                         3.2\n",
      "wheel                        0.42.0\n",
      "widgetsnbextension           4.0.9\n",
      "wrapt                        1.14.1\n",
      "wurlitzer                    3.0.3\n",
      "zipp                         3.17.0\n"
     ]
    },
    {
     "name": "stderr",
     "output_type": "stream",
     "text": [
      "DEPRECATION: Loading egg at d:\\youtube\\tensorflow object detection\\tfodcourse\\tfod\\lib\\site-packages\\absl_py-2.0.0-py3.11.egg is deprecated. pip 24.3 will enforce this behaviour change. A possible replacement is to use pip for package installation.. Discussion can be found at https://github.com/pypa/pip/issues/12330\n",
      "DEPRECATION: Loading egg at d:\\youtube\\tensorflow object detection\\tfodcourse\\tfod\\lib\\site-packages\\apache_beam-2.52.0-py3.11-win-amd64.egg is deprecated. pip 24.3 will enforce this behaviour change. A possible replacement is to use pip for package installation.. Discussion can be found at https://github.com/pypa/pip/issues/12330\n",
      "DEPRECATION: Loading egg at d:\\youtube\\tensorflow object detection\\tfodcourse\\tfod\\lib\\site-packages\\avro_python3-1.10.2-py3.11.egg is deprecated. pip 24.3 will enforce this behaviour change. A possible replacement is to use pip for package installation.. Discussion can be found at https://github.com/pypa/pip/issues/12330\n",
      "DEPRECATION: Loading egg at d:\\youtube\\tensorflow object detection\\tfodcourse\\tfod\\lib\\site-packages\\contextlib2-21.6.0-py3.11.egg is deprecated. pip 24.3 will enforce this behaviour change. A possible replacement is to use pip for package installation.. Discussion can be found at https://github.com/pypa/pip/issues/12330\n",
      "DEPRECATION: Loading egg at d:\\youtube\\tensorflow object detection\\tfodcourse\\tfod\\lib\\site-packages\\cython-3.0.6-py3.11.egg is deprecated. pip 24.3 will enforce this behaviour change. A possible replacement is to use pip for package installation.. Discussion can be found at https://github.com/pypa/pip/issues/12330\n",
      "DEPRECATION: Loading egg at d:\\youtube\\tensorflow object detection\\tfodcourse\\tfod\\lib\\site-packages\\dm_tree-0.1.8-py3.11-win-amd64.egg is deprecated. pip 24.3 will enforce this behaviour change. A possible replacement is to use pip for package installation.. Discussion can be found at https://github.com/pypa/pip/issues/12330\n",
      "DEPRECATION: Loading egg at d:\\youtube\\tensorflow object detection\\tfodcourse\\tfod\\lib\\site-packages\\h5py-3.10.0-py3.11-win-amd64.egg is deprecated. pip 24.3 will enforce this behaviour change. A possible replacement is to use pip for package installation.. Discussion can be found at https://github.com/pypa/pip/issues/12330\n",
      "DEPRECATION: Loading egg at d:\\youtube\\tensorflow object detection\\tfodcourse\\tfod\\lib\\site-packages\\lvis-0.5.3-py3.11.egg is deprecated. pip 24.3 will enforce this behaviour change. A possible replacement is to use pip for package installation.. Discussion can be found at https://github.com/pypa/pip/issues/12330\n",
      "DEPRECATION: Loading egg at d:\\youtube\\tensorflow object detection\\tfodcourse\\tfod\\lib\\site-packages\\namex-0.0.7-py3.11.egg is deprecated. pip 24.3 will enforce this behaviour change. A possible replacement is to use pip for package installation.. Discussion can be found at https://github.com/pypa/pip/issues/12330\n",
      "DEPRECATION: Loading egg at d:\\youtube\\tensorflow object detection\\tfodcourse\\tfod\\lib\\site-packages\\object_detection-0.1-py3.11.egg is deprecated. pip 24.3 will enforce this behaviour change. A possible replacement is to use pip for package installation.. Discussion can be found at https://github.com/pypa/pip/issues/12330\n",
      "DEPRECATION: Loading egg at d:\\youtube\\tensorflow object detection\\tfodcourse\\tfod\\lib\\site-packages\\pandas-2.1.4-py3.11-win-amd64.egg is deprecated. pip 24.3 will enforce this behaviour change. A possible replacement is to use pip for package installation.. Discussion can be found at https://github.com/pypa/pip/issues/12330\n",
      "DEPRECATION: Loading egg at d:\\youtube\\tensorflow object detection\\tfodcourse\\tfod\\lib\\site-packages\\pillow-10.1.0-py3.11-win-amd64.egg is deprecated. pip 24.3 will enforce this behaviour change. A possible replacement is to use pip for package installation.. Discussion can be found at https://github.com/pypa/pip/issues/12330\n",
      "DEPRECATION: Loading egg at d:\\youtube\\tensorflow object detection\\tfodcourse\\tfod\\lib\\site-packages\\portalocker-2.8.2-py3.11.egg is deprecated. pip 24.3 will enforce this behaviour change. A possible replacement is to use pip for package installation.. Discussion can be found at https://github.com/pypa/pip/issues/12330\n",
      "DEPRECATION: Loading egg at d:\\youtube\\tensorflow object detection\\tfodcourse\\tfod\\lib\\site-packages\\pycocotools-2.0.7-py3.11-win-amd64.egg is deprecated. pip 24.3 will enforce this behaviour change. A possible replacement is to use pip for package installation.. Discussion can be found at https://github.com/pypa/pip/issues/12330\n",
      "DEPRECATION: Loading egg at d:\\youtube\\tensorflow object detection\\tfodcourse\\tfod\\lib\\site-packages\\pyparsing-2.4.7-py3.11.egg is deprecated. pip 24.3 will enforce this behaviour change. A possible replacement is to use pip for package installation.. Discussion can be found at https://github.com/pypa/pip/issues/12330\n",
      "DEPRECATION: Loading egg at d:\\youtube\\tensorflow object detection\\tfodcourse\\tfod\\lib\\site-packages\\regex-2023.10.3-py3.11-win-amd64.egg is deprecated. pip 24.3 will enforce this behaviour change. A possible replacement is to use pip for package installation.. Discussion can be found at https://github.com/pypa/pip/issues/12330\n",
      "DEPRECATION: Loading egg at d:\\youtube\\tensorflow object detection\\tfodcourse\\tfod\\lib\\site-packages\\rich-13.7.0-py3.11.egg is deprecated. pip 24.3 will enforce this behaviour change. A possible replacement is to use pip for package installation.. Discussion can be found at https://github.com/pypa/pip/issues/12330\n",
      "DEPRECATION: Loading egg at d:\\youtube\\tensorflow object detection\\tfodcourse\\tfod\\lib\\site-packages\\sacrebleu-2.2.0-py3.11.egg is deprecated. pip 24.3 will enforce this behaviour change. A possible replacement is to use pip for package installation.. Discussion can be found at https://github.com/pypa/pip/issues/12330\n",
      "DEPRECATION: Loading egg at d:\\youtube\\tensorflow object detection\\tfodcourse\\tfod\\lib\\site-packages\\scipy-1.11.4-py3.11-win-amd64.egg is deprecated. pip 24.3 will enforce this behaviour change. A possible replacement is to use pip for package installation.. Discussion can be found at https://github.com/pypa/pip/issues/12330\n",
      "DEPRECATION: Loading egg at d:\\youtube\\tensorflow object detection\\tfodcourse\\tfod\\lib\\site-packages\\tabulate-0.9.0-py3.11.egg is deprecated. pip 24.3 will enforce this behaviour change. A possible replacement is to use pip for package installation.. Discussion can be found at https://github.com/pypa/pip/issues/12330\n",
      "DEPRECATION: Loading egg at d:\\youtube\\tensorflow object detection\\tfodcourse\\tfod\\lib\\site-packages\\tensorflow_io-0.31.0-py3.11-win-amd64.egg is deprecated. pip 24.3 will enforce this behaviour change. A possible replacement is to use pip for package installation.. Discussion can be found at https://github.com/pypa/pip/issues/12330\n",
      "DEPRECATION: Loading egg at d:\\youtube\\tensorflow object detection\\tfodcourse\\tfod\\lib\\site-packages\\tensorflow_io_gcs_filesystem-0.31.0-py3.11-win-amd64.egg is deprecated. pip 24.3 will enforce this behaviour change. A possible replacement is to use pip for package installation.. Discussion can be found at https://github.com/pypa/pip/issues/12330\n",
      "DEPRECATION: Loading egg at d:\\youtube\\tensorflow object detection\\tfodcourse\\tfod\\lib\\site-packages\\tf_models_official-2.15.0-py3.11.egg is deprecated. pip 24.3 will enforce this behaviour change. A possible replacement is to use pip for package installation.. Discussion can be found at https://github.com/pypa/pip/issues/12330\n",
      "DEPRECATION: Loading egg at d:\\youtube\\tensorflow object detection\\tfodcourse\\tfod\\lib\\site-packages\\tf_slim-1.1.0-py3.11.egg is deprecated. pip 24.3 will enforce this behaviour change. A possible replacement is to use pip for package installation.. Discussion can be found at https://github.com/pypa/pip/issues/12330\n",
      "\n",
      "[notice] A new release of pip is available: 23.3.1 -> 24.0\n",
      "[notice] To update, run: python.exe -m pip install --upgrade pip\n"
     ]
    }
   ],
   "source": [
    "!pip list"
   ]
  },
  {
   "cell_type": "code",
   "execution_count": 14,
   "metadata": {
    "colab": {
     "base_uri": "https://localhost:8080/"
    },
    "id": "csofht2npfDE",
    "outputId": "ff5471b2-bed2-43f2-959c-327a706527b6"
   },
   "outputs": [
    {
     "name": "stdout",
     "output_type": "stream",
     "text": [
      "100% [........................................................................] 20515344 / 20515344        1 file(s) moved.\n"
     ]
    },
    {
     "name": "stderr",
     "output_type": "stream",
     "text": [
      "x ssd_mobilenet_v2_fpnlite_320x320_coco17_tpu-8/\n",
      "x ssd_mobilenet_v2_fpnlite_320x320_coco17_tpu-8/checkpoint/\n",
      "x ssd_mobilenet_v2_fpnlite_320x320_coco17_tpu-8/checkpoint/ckpt-0.data-00000-of-00001\n",
      "x ssd_mobilenet_v2_fpnlite_320x320_coco17_tpu-8/checkpoint/checkpoint\n",
      "x ssd_mobilenet_v2_fpnlite_320x320_coco17_tpu-8/checkpoint/ckpt-0.index\n",
      "x ssd_mobilenet_v2_fpnlite_320x320_coco17_tpu-8/pipeline.config\n",
      "x ssd_mobilenet_v2_fpnlite_320x320_coco17_tpu-8/saved_model/\n",
      "x ssd_mobilenet_v2_fpnlite_320x320_coco17_tpu-8/saved_model/saved_model.pb\n",
      "x ssd_mobilenet_v2_fpnlite_320x320_coco17_tpu-8/saved_model/variables/\n",
      "x ssd_mobilenet_v2_fpnlite_320x320_coco17_tpu-8/saved_model/variables/variables.data-00000-of-00001\n",
      "x ssd_mobilenet_v2_fpnlite_320x320_coco17_tpu-8/saved_model/variables/variables.index\n"
     ]
    }
   ],
   "source": [
    "if os.name =='posix':\n",
    "    !wget {PRETRAINED_MODEL_URL}\n",
    "    !mv {PRETRAINED_MODEL_NAME+'.tar.gz'} {paths['PRETRAINED_MODEL_PATH']}\n",
    "    !cd {paths['PRETRAINED_MODEL_PATH']} && tar -zxvf {PRETRAINED_MODEL_NAME+'.tar.gz'}\n",
    "if os.name == 'nt':\n",
    "    wget.download(PRETRAINED_MODEL_URL)\n",
    "    !move {PRETRAINED_MODEL_NAME+'.tar.gz'} {paths['PRETRAINED_MODEL_PATH']}\n",
    "    !cd {paths['PRETRAINED_MODEL_PATH']} && tar -zxvf {PRETRAINED_MODEL_NAME+'.tar.gz'}"
   ]
  },
  {
   "cell_type": "markdown",
   "metadata": {
    "id": "M5KJTnkfpfDC"
   },
   "source": [
    "# 2. Create Label Map"
   ]
  },
  {
   "cell_type": "code",
   "execution_count": 15,
   "metadata": {
    "id": "p1BVDWo7pfDC"
   },
   "outputs": [
    {
     "name": "stdout",
     "output_type": "stream",
     "text": [
      "[{'name': 'Carrot', 'id': 1}, {'name': 'Corn', 'id': 2}, {'name': 'Dijon_mustard', 'id': 3}, {'name': 'Egg', 'id': 4}, {'name': 'Basil_leaves', 'id': 5}, {'name': 'Honey', 'id': 6}, {'name': 'Balsamic_glaze', 'id': 7}, {'name': 'Mozzarella', 'id': 8}, {'name': 'Cheese', 'id': 9}, {'name': 'Onion', 'id': 10}, {'name': 'Zucchini', 'id': 11}, {'name': 'Spaghetti', 'id': 12}, {'name': 'Parsley', 'id': 13}, {'name': 'Rice', 'id': 14}, {'name': 'Pasta', 'id': 15}, {'name': 'Broccoli', 'id': 16}, {'name': 'Milk', 'id': 17}, {'name': 'Chicken_breast', 'id': 18}, {'name': 'Olive_oil', 'id': 19}, {'name': 'Beans', 'id': 20}, {'name': 'Red_pepper_flakes', 'id': 21}, {'name': 'Mushroom', 'id': 22}, {'name': 'Tortillas', 'id': 23}, {'name': 'Lettuce', 'id': 24}, {'name': 'Garlic', 'id': 25}, {'name': 'Mayonnaise', 'id': 26}, {'name': 'Tuna', 'id': 27}, {'name': 'Baguette', 'id': 28}, {'name': 'Tomatoes', 'id': 29}, {'name': 'Celery', 'id': 30}, {'name': 'Bell_pepper', 'id': 31}, {'name': 'Ginger', 'id': 32}, {'name': 'Soy_sauce', 'id': 33}]\n"
     ]
    }
   ],
   "source": [
    "labels = []\n",
    "Ingredients = ['Carrot', 'Corn', 'Dijon_mustard', 'Egg', 'Basil_leaves', \n",
    "               'Honey', 'Balsamic_glaze', 'Mozzarella', 'Cheese', 'Onion', 'Zucchini', \n",
    "               'Spaghetti', 'Parsley', 'Rice', 'Pasta', 'Broccoli', 'Milk', 'Chicken_breast', \n",
    "               'Olive_oil', 'Beans', 'Red_pepper_flakes', 'Mushroom', 'Tortillas', 'Lettuce',\n",
    "               'Garlic', 'Mayonnaise', 'Tuna', 'Baguette', 'Tomatoes', 'Celery', 'Bell_pepper', 'Ginger', 'Soy_sauce']\n",
    "x=1\n",
    "for ingredient in Ingredients:\n",
    "    dict = {'name':ingredient, 'id':x}\n",
    "    labels.append(dict)\n",
    "    x = x + 1\n",
    "\n",
    "print(labels)\n",
    "with open(files['LABELMAP'], 'w') as f:\n",
    "    for label in labels:\n",
    "        f.write('item { \\n')\n",
    "        f.write('\\tname:\\'{}\\'\\n'.format(label['name']))\n",
    "        f.write('\\tid:{}\\n'.format(label['id']))\n",
    "        f.write('}\\n')"
   ]
  },
  {
   "cell_type": "markdown",
   "metadata": {
    "id": "C88zyVELpfDC"
   },
   "source": [
    "# 3. Create TF records"
   ]
  },
  {
   "cell_type": "code",
   "execution_count": 16,
   "metadata": {
    "colab": {
     "base_uri": "https://localhost:8080/"
    },
    "id": "kvf5WccwrFGq",
    "outputId": "49902aeb-0bd7-4298-e1a0-5b4a64eb2064"
   },
   "outputs": [],
   "source": [
    "# OPTIONAL IF RUNNING ON COLAB\n",
    "ARCHIVE_FILES = os.path.join(paths['IMAGE_PATH'], 'archive.tar.gz')\n",
    "if os.path.exists(ARCHIVE_FILES):\n",
    "  !tar -zxvf {ARCHIVE_FILES}"
   ]
  },
  {
   "cell_type": "code",
   "execution_count": 17,
   "metadata": {
    "colab": {
     "base_uri": "https://localhost:8080/"
    },
    "id": "KWpb_BVUpfDD",
    "outputId": "56ce2a3f-3933-4ee6-8a9d-d5ec65f7d73c"
   },
   "outputs": [],
   "source": [
    "if not os.path.exists(files['TF_RECORD_SCRIPT']):\n",
    "    !git clone https://github.com/nicknochnack/GenerateTFRecord {paths['SCRIPTS_PATH']}"
   ]
  },
  {
   "cell_type": "code",
   "execution_count": 21,
   "metadata": {},
   "outputs": [
    {
     "name": "stdout",
     "output_type": "stream",
     "text": [
      "Collecting pytz\n",
      "  Downloading pytz-2023.3.post1-py2.py3-none-any.whl.metadata (22 kB)\n",
      "Downloading pytz-2023.3.post1-py2.py3-none-any.whl (502 kB)\n",
      "   ---------------------------------------- 0.0/502.5 kB ? eta -:--:--\n",
      "    --------------------------------------- 10.2/502.5 kB ? eta -:--:--\n",
      "   ----- --------------------------------- 71.7/502.5 kB 991.0 kB/s eta 0:00:01\n",
      "   -------------- ------------------------- 184.3/502.5 kB 1.6 MB/s eta 0:00:01\n",
      "   ------------------------------- -------- 399.4/502.5 kB 2.5 MB/s eta 0:00:01\n",
      "   ---------------------------------------  501.8/502.5 kB 2.9 MB/s eta 0:00:01\n",
      "   ---------------------------------------- 502.5/502.5 kB 2.3 MB/s eta 0:00:00\n",
      "Installing collected packages: pytz\n",
      "Successfully installed pytz-2023.3.post1\n"
     ]
    },
    {
     "name": "stderr",
     "output_type": "stream",
     "text": [
      "DEPRECATION: Loading egg at d:\\youtube\\tensorflow object detection\\tfodcourse\\tfod\\lib\\site-packages\\absl_py-2.0.0-py3.11.egg is deprecated. pip 24.3 will enforce this behaviour change. A possible replacement is to use pip for package installation.. Discussion can be found at https://github.com/pypa/pip/issues/12330\n",
      "DEPRECATION: Loading egg at d:\\youtube\\tensorflow object detection\\tfodcourse\\tfod\\lib\\site-packages\\apache_beam-2.52.0-py3.11-win-amd64.egg is deprecated. pip 24.3 will enforce this behaviour change. A possible replacement is to use pip for package installation.. Discussion can be found at https://github.com/pypa/pip/issues/12330\n",
      "DEPRECATION: Loading egg at d:\\youtube\\tensorflow object detection\\tfodcourse\\tfod\\lib\\site-packages\\avro_python3-1.10.2-py3.11.egg is deprecated. pip 24.3 will enforce this behaviour change. A possible replacement is to use pip for package installation.. Discussion can be found at https://github.com/pypa/pip/issues/12330\n",
      "DEPRECATION: Loading egg at d:\\youtube\\tensorflow object detection\\tfodcourse\\tfod\\lib\\site-packages\\contextlib2-21.6.0-py3.11.egg is deprecated. pip 24.3 will enforce this behaviour change. A possible replacement is to use pip for package installation.. Discussion can be found at https://github.com/pypa/pip/issues/12330\n",
      "DEPRECATION: Loading egg at d:\\youtube\\tensorflow object detection\\tfodcourse\\tfod\\lib\\site-packages\\cython-3.0.6-py3.11.egg is deprecated. pip 24.3 will enforce this behaviour change. A possible replacement is to use pip for package installation.. Discussion can be found at https://github.com/pypa/pip/issues/12330\n",
      "DEPRECATION: Loading egg at d:\\youtube\\tensorflow object detection\\tfodcourse\\tfod\\lib\\site-packages\\dm_tree-0.1.8-py3.11-win-amd64.egg is deprecated. pip 24.3 will enforce this behaviour change. A possible replacement is to use pip for package installation.. Discussion can be found at https://github.com/pypa/pip/issues/12330\n",
      "DEPRECATION: Loading egg at d:\\youtube\\tensorflow object detection\\tfodcourse\\tfod\\lib\\site-packages\\h5py-3.10.0-py3.11-win-amd64.egg is deprecated. pip 24.3 will enforce this behaviour change. A possible replacement is to use pip for package installation.. Discussion can be found at https://github.com/pypa/pip/issues/12330\n",
      "DEPRECATION: Loading egg at d:\\youtube\\tensorflow object detection\\tfodcourse\\tfod\\lib\\site-packages\\lvis-0.5.3-py3.11.egg is deprecated. pip 24.3 will enforce this behaviour change. A possible replacement is to use pip for package installation.. Discussion can be found at https://github.com/pypa/pip/issues/12330\n",
      "DEPRECATION: Loading egg at d:\\youtube\\tensorflow object detection\\tfodcourse\\tfod\\lib\\site-packages\\namex-0.0.7-py3.11.egg is deprecated. pip 24.3 will enforce this behaviour change. A possible replacement is to use pip for package installation.. Discussion can be found at https://github.com/pypa/pip/issues/12330\n",
      "DEPRECATION: Loading egg at d:\\youtube\\tensorflow object detection\\tfodcourse\\tfod\\lib\\site-packages\\object_detection-0.1-py3.11.egg is deprecated. pip 24.3 will enforce this behaviour change. A possible replacement is to use pip for package installation.. Discussion can be found at https://github.com/pypa/pip/issues/12330\n",
      "DEPRECATION: Loading egg at d:\\youtube\\tensorflow object detection\\tfodcourse\\tfod\\lib\\site-packages\\pandas-2.1.4-py3.11-win-amd64.egg is deprecated. pip 24.3 will enforce this behaviour change. A possible replacement is to use pip for package installation.. Discussion can be found at https://github.com/pypa/pip/issues/12330\n",
      "DEPRECATION: Loading egg at d:\\youtube\\tensorflow object detection\\tfodcourse\\tfod\\lib\\site-packages\\pillow-10.1.0-py3.11-win-amd64.egg is deprecated. pip 24.3 will enforce this behaviour change. A possible replacement is to use pip for package installation.. Discussion can be found at https://github.com/pypa/pip/issues/12330\n",
      "DEPRECATION: Loading egg at d:\\youtube\\tensorflow object detection\\tfodcourse\\tfod\\lib\\site-packages\\portalocker-2.8.2-py3.11.egg is deprecated. pip 24.3 will enforce this behaviour change. A possible replacement is to use pip for package installation.. Discussion can be found at https://github.com/pypa/pip/issues/12330\n",
      "DEPRECATION: Loading egg at d:\\youtube\\tensorflow object detection\\tfodcourse\\tfod\\lib\\site-packages\\pycocotools-2.0.7-py3.11-win-amd64.egg is deprecated. pip 24.3 will enforce this behaviour change. A possible replacement is to use pip for package installation.. Discussion can be found at https://github.com/pypa/pip/issues/12330\n",
      "DEPRECATION: Loading egg at d:\\youtube\\tensorflow object detection\\tfodcourse\\tfod\\lib\\site-packages\\pyparsing-2.4.7-py3.11.egg is deprecated. pip 24.3 will enforce this behaviour change. A possible replacement is to use pip for package installation.. Discussion can be found at https://github.com/pypa/pip/issues/12330\n",
      "DEPRECATION: Loading egg at d:\\youtube\\tensorflow object detection\\tfodcourse\\tfod\\lib\\site-packages\\regex-2023.10.3-py3.11-win-amd64.egg is deprecated. pip 24.3 will enforce this behaviour change. A possible replacement is to use pip for package installation.. Discussion can be found at https://github.com/pypa/pip/issues/12330\n",
      "DEPRECATION: Loading egg at d:\\youtube\\tensorflow object detection\\tfodcourse\\tfod\\lib\\site-packages\\rich-13.7.0-py3.11.egg is deprecated. pip 24.3 will enforce this behaviour change. A possible replacement is to use pip for package installation.. Discussion can be found at https://github.com/pypa/pip/issues/12330\n",
      "DEPRECATION: Loading egg at d:\\youtube\\tensorflow object detection\\tfodcourse\\tfod\\lib\\site-packages\\sacrebleu-2.2.0-py3.11.egg is deprecated. pip 24.3 will enforce this behaviour change. A possible replacement is to use pip for package installation.. Discussion can be found at https://github.com/pypa/pip/issues/12330\n",
      "DEPRECATION: Loading egg at d:\\youtube\\tensorflow object detection\\tfodcourse\\tfod\\lib\\site-packages\\scipy-1.11.4-py3.11-win-amd64.egg is deprecated. pip 24.3 will enforce this behaviour change. A possible replacement is to use pip for package installation.. Discussion can be found at https://github.com/pypa/pip/issues/12330\n",
      "DEPRECATION: Loading egg at d:\\youtube\\tensorflow object detection\\tfodcourse\\tfod\\lib\\site-packages\\tabulate-0.9.0-py3.11.egg is deprecated. pip 24.3 will enforce this behaviour change. A possible replacement is to use pip for package installation.. Discussion can be found at https://github.com/pypa/pip/issues/12330\n",
      "DEPRECATION: Loading egg at d:\\youtube\\tensorflow object detection\\tfodcourse\\tfod\\lib\\site-packages\\tensorflow-2.15.0-py3.11-win-amd64.egg is deprecated. pip 24.3 will enforce this behaviour change. A possible replacement is to use pip for package installation.. Discussion can be found at https://github.com/pypa/pip/issues/12330\n",
      "DEPRECATION: Loading egg at d:\\youtube\\tensorflow object detection\\tfodcourse\\tfod\\lib\\site-packages\\tensorflow_io-0.31.0-py3.11-win-amd64.egg is deprecated. pip 24.3 will enforce this behaviour change. A possible replacement is to use pip for package installation.. Discussion can be found at https://github.com/pypa/pip/issues/12330\n",
      "DEPRECATION: Loading egg at d:\\youtube\\tensorflow object detection\\tfodcourse\\tfod\\lib\\site-packages\\tensorflow_io_gcs_filesystem-0.31.0-py3.11-win-amd64.egg is deprecated. pip 24.3 will enforce this behaviour change. A possible replacement is to use pip for package installation.. Discussion can be found at https://github.com/pypa/pip/issues/12330\n",
      "DEPRECATION: Loading egg at d:\\youtube\\tensorflow object detection\\tfodcourse\\tfod\\lib\\site-packages\\tf_models_official-2.15.0-py3.11.egg is deprecated. pip 24.3 will enforce this behaviour change. A possible replacement is to use pip for package installation.. Discussion can be found at https://github.com/pypa/pip/issues/12330\n",
      "DEPRECATION: Loading egg at d:\\youtube\\tensorflow object detection\\tfodcourse\\tfod\\lib\\site-packages\\tf_slim-1.1.0-py3.11.egg is deprecated. pip 24.3 will enforce this behaviour change. A possible replacement is to use pip for package installation.. Discussion can be found at https://github.com/pypa/pip/issues/12330\n",
      "ERROR: pip's dependency resolver does not currently take into account all the packages that are installed. This behaviour is the source of the following dependency conflicts.\n",
      "apache-beam 2.52.0 requires cloudpickle~=2.2.1, which is not installed.\n",
      "apache-beam 2.52.0 requires crcmod<2.0,>=1.7, which is not installed.\n",
      "apache-beam 2.52.0 requires dill<0.3.2,>=0.3.1.1, which is not installed.\n",
      "apache-beam 2.52.0 requires fastavro<2,>=0.23.6, which is not installed.\n",
      "apache-beam 2.52.0 requires fasteners<1.0,>=0.3, which is not installed.\n",
      "apache-beam 2.52.0 requires hdfs<3.0.0,>=2.1.0, which is not installed.\n",
      "apache-beam 2.52.0 requires httplib2<0.23.0,>=0.8, which is not installed.\n",
      "apache-beam 2.52.0 requires js2py<1,>=0.74, which is not installed.\n",
      "apache-beam 2.52.0 requires objsize<0.7.0,>=0.6.1, which is not installed.\n",
      "apache-beam 2.52.0 requires orjson<4,>=3.9.7, which is not installed.\n",
      "apache-beam 2.52.0 requires proto-plus<2,>=1.7.1, which is not installed.\n",
      "apache-beam 2.52.0 requires pyarrow<12.0.0,>=3.0.0, which is not installed.\n",
      "apache-beam 2.52.0 requires pyarrow-hotfix<1, which is not installed.\n",
      "apache-beam 2.52.0 requires pydot<2,>=1.2.0, which is not installed.\n",
      "apache-beam 2.52.0 requires pymongo<5.0.0,>=3.8.0, which is not installed.\n",
      "apache-beam 2.52.0 requires zstandard<1,>=0.18.0, which is not installed.\n",
      "pandas 2.1.4 requires tzdata>=2022.1, which is not installed.\n",
      "tf-models-official 2.15.0 requires gin-config, which is not installed.\n",
      "tf-models-official 2.15.0 requires google-api-python-client>=1.6.7, which is not installed.\n",
      "tf-models-official 2.15.0 requires immutabledict, which is not installed.\n",
      "tf-models-official 2.15.0 requires kaggle>=1.3.9, which is not installed.\n",
      "tf-models-official 2.15.0 requires oauth2client, which is not installed.\n",
      "tf-models-official 2.15.0 requires opencv-python-headless, which is not installed.\n",
      "tf-models-official 2.15.0 requires py-cpuinfo>=3.3.0, which is not installed.\n",
      "tf-models-official 2.15.0 requires sentencepiece, which is not installed.\n",
      "tf-models-official 2.15.0 requires seqeval, which is not installed.\n",
      "tf-models-official 2.15.0 requires tensorflow-datasets, which is not installed.\n",
      "tf-models-official 2.15.0 requires tensorflow-hub>=0.6.0, which is not installed.\n",
      "tf-models-official 2.15.0 requires tensorflow-model-optimization>=0.4.1, which is not installed.\n",
      "tf-models-official 2.15.0 requires tensorflow-text~=2.15.0, which is not installed.\n",
      "apache-beam 2.52.0 requires numpy<1.25.0,>=1.14.3, but you have numpy 1.26.2 which is incompatible.\n",
      "apache-beam 2.52.0 requires protobuf!=4.0.*,!=4.21.*,!=4.22.0,!=4.23.*,!=4.24.*,<4.26.0,>=3.20.3, but you have protobuf 3.20.1 which is incompatible.\n"
     ]
    }
   ],
   "source": [
    "!pip install pytz"
   ]
  },
  {
   "cell_type": "code",
   "execution_count": 27,
   "metadata": {
    "colab": {
     "base_uri": "https://localhost:8080/"
    },
    "id": "UPFToGZqpfDD",
    "outputId": "0ebb456f-aadc-4a1f-96e6-fbfec1923e1c"
   },
   "outputs": [
    {
     "name": "stdout",
     "output_type": "stream",
     "text": [
      "Successfully created the TFRecord file: Tensorflow\\workspace\\annotations\\train.record\n",
      "Successfully created the TFRecord file: Tensorflow\\workspace\\annotations\\test.record\n"
     ]
    }
   ],
   "source": [
    "!python {files['TF_RECORD_SCRIPT']} -x {os.path.join(paths['IMAGE_PATH'], 'train')} -l {files['LABELMAP']} -o {os.path.join(paths['ANNOTATION_PATH'], 'train.record')} \n",
    "!python {files['TF_RECORD_SCRIPT']} -x {os.path.join(paths['IMAGE_PATH'], 'test')} -l {files['LABELMAP']} -o {os.path.join(paths['ANNOTATION_PATH'], 'test.record')} "
   ]
  },
  {
   "cell_type": "markdown",
   "metadata": {
    "id": "qT4QU7pLpfDE"
   },
   "source": [
    "# 4. Copy Model Config to Training Folder"
   ]
  },
  {
   "cell_type": "code",
   "execution_count": 28,
   "metadata": {
    "id": "cOjuTFbwpfDF"
   },
   "outputs": [
    {
     "name": "stdout",
     "output_type": "stream",
     "text": [
      "        1 file(s) copied.\n"
     ]
    }
   ],
   "source": [
    "if os.name =='posix':\n",
    "    !cp {os.path.join(paths['PRETRAINED_MODEL_PATH'], PRETRAINED_MODEL_NAME, 'pipeline.config')} {os.path.join(paths['CHECKPOINT_PATH'])}\n",
    "if os.name == 'nt':\n",
    "    !copy {os.path.join(paths['PRETRAINED_MODEL_PATH'], PRETRAINED_MODEL_NAME, 'pipeline.config')} {os.path.join(paths['CHECKPOINT_PATH'])}"
   ]
  },
  {
   "cell_type": "markdown",
   "metadata": {
    "id": "Ga8gpNslpfDF"
   },
   "source": [
    "# 5. Update Config For Transfer Learning"
   ]
  },
  {
   "cell_type": "code",
   "execution_count": 4,
   "metadata": {
    "id": "Z9hRrO_ppfDF"
   },
   "outputs": [
    {
     "name": "stdout",
     "output_type": "stream",
     "text": [
      "WARNING:tensorflow:From D:\\Youtube\\TensorFlow Object Detection\\TFODCourse\\tfod\\Lib\\site-packages\\keras\\src\\losses.py:2976: The name tf.losses.sparse_softmax_cross_entropy is deprecated. Please use tf.compat.v1.losses.sparse_softmax_cross_entropy instead.\n",
      "\n",
      "TensorFlow version: 2.15.0\n"
     ]
    }
   ],
   "source": [
    "import tensorflow as tf\n",
    "print(\"TensorFlow version:\", tf.__version__)\n",
    "from object_detection.utils import config_util\n",
    "from object_detection.protos import pipeline_pb2\n",
    "from google.protobuf import text_format"
   ]
  },
  {
   "cell_type": "code",
   "execution_count": 24,
   "metadata": {},
   "outputs": [
    {
     "name": "stdout",
     "output_type": "stream",
     "text": [
      "Collecting tensorflow\n",
      "  Using cached tensorflow-2.15.0-cp311-cp311-win_amd64.whl.metadata (3.6 kB)\n",
      "Collecting tensorflow-intel==2.15.0 (from tensorflow)\n",
      "  Using cached tensorflow_intel-2.15.0-cp311-cp311-win_amd64.whl.metadata (5.1 kB)\n",
      "Requirement already satisfied: absl-py>=1.0.0 in d:\\youtube\\tensorflow object detection\\tfodcourse\\tfod\\lib\\site-packages\\absl_py-2.0.0-py3.11.egg (from tensorflow-intel==2.15.0->tensorflow) (2.0.0)\n",
      "Requirement already satisfied: astunparse>=1.6.0 in d:\\youtube\\tensorflow object detection\\tfodcourse\\tfod\\lib\\site-packages (from tensorflow-intel==2.15.0->tensorflow) (1.6.3)\n",
      "Requirement already satisfied: flatbuffers>=23.5.26 in d:\\youtube\\tensorflow object detection\\tfodcourse\\tfod\\lib\\site-packages (from tensorflow-intel==2.15.0->tensorflow) (23.5.26)\n",
      "Requirement already satisfied: gast!=0.5.0,!=0.5.1,!=0.5.2,>=0.2.1 in d:\\youtube\\tensorflow object detection\\tfodcourse\\tfod\\lib\\site-packages (from tensorflow-intel==2.15.0->tensorflow) (0.4.0)\n",
      "Requirement already satisfied: google-pasta>=0.1.1 in d:\\youtube\\tensorflow object detection\\tfodcourse\\tfod\\lib\\site-packages (from tensorflow-intel==2.15.0->tensorflow) (0.2.0)\n",
      "Requirement already satisfied: h5py>=2.9.0 in d:\\youtube\\tensorflow object detection\\tfodcourse\\tfod\\lib\\site-packages\\h5py-3.10.0-py3.11-win-amd64.egg (from tensorflow-intel==2.15.0->tensorflow) (3.10.0)\n",
      "Requirement already satisfied: libclang>=13.0.0 in d:\\youtube\\tensorflow object detection\\tfodcourse\\tfod\\lib\\site-packages (from tensorflow-intel==2.15.0->tensorflow) (16.0.6)\n",
      "Requirement already satisfied: ml-dtypes~=0.2.0 in d:\\youtube\\tensorflow object detection\\tfodcourse\\tfod\\lib\\site-packages (from tensorflow-intel==2.15.0->tensorflow) (0.2.0)\n",
      "Requirement already satisfied: numpy<2.0.0,>=1.23.5 in d:\\youtube\\tensorflow object detection\\tfodcourse\\tfod\\lib\\site-packages (from tensorflow-intel==2.15.0->tensorflow) (1.24.3)\n",
      "Requirement already satisfied: opt-einsum>=2.3.2 in d:\\youtube\\tensorflow object detection\\tfodcourse\\tfod\\lib\\site-packages (from tensorflow-intel==2.15.0->tensorflow) (3.3.0)\n",
      "Requirement already satisfied: packaging in d:\\youtube\\tensorflow object detection\\tfodcourse\\tfod\\lib\\site-packages (from tensorflow-intel==2.15.0->tensorflow) (23.2)\n",
      "Requirement already satisfied: protobuf!=4.21.0,!=4.21.1,!=4.21.2,!=4.21.3,!=4.21.4,!=4.21.5,<5.0.0dev,>=3.20.3 in d:\\youtube\\tensorflow object detection\\tfodcourse\\tfod\\lib\\site-packages (from tensorflow-intel==2.15.0->tensorflow) (3.20.3)\n",
      "Requirement already satisfied: setuptools in d:\\youtube\\tensorflow object detection\\tfodcourse\\tfod\\lib\\site-packages (from tensorflow-intel==2.15.0->tensorflow) (65.5.0)\n",
      "Requirement already satisfied: six>=1.12.0 in d:\\youtube\\tensorflow object detection\\tfodcourse\\tfod\\lib\\site-packages (from tensorflow-intel==2.15.0->tensorflow) (1.16.0)\n",
      "Requirement already satisfied: termcolor>=1.1.0 in d:\\youtube\\tensorflow object detection\\tfodcourse\\tfod\\lib\\site-packages (from tensorflow-intel==2.15.0->tensorflow) (2.4.0)\n",
      "Requirement already satisfied: typing-extensions>=3.6.6 in d:\\youtube\\tensorflow object detection\\tfodcourse\\tfod\\lib\\site-packages (from tensorflow-intel==2.15.0->tensorflow) (4.5.0)\n",
      "Requirement already satisfied: wrapt<1.15,>=1.11.0 in d:\\youtube\\tensorflow object detection\\tfodcourse\\tfod\\lib\\site-packages (from tensorflow-intel==2.15.0->tensorflow) (1.14.1)\n",
      "Requirement already satisfied: tensorflow-io-gcs-filesystem>=0.23.1 in d:\\youtube\\tensorflow object detection\\tfodcourse\\tfod\\lib\\site-packages\\tensorflow_io_gcs_filesystem-0.31.0-py3.11-win-amd64.egg (from tensorflow-intel==2.15.0->tensorflow) (0.31.0)\n",
      "Requirement already satisfied: grpcio<2.0,>=1.24.3 in d:\\youtube\\tensorflow object detection\\tfodcourse\\tfod\\lib\\site-packages (from tensorflow-intel==2.15.0->tensorflow) (1.60.0)\n",
      "Collecting tensorboard<2.16,>=2.15 (from tensorflow-intel==2.15.0->tensorflow)\n",
      "  Using cached tensorboard-2.15.1-py3-none-any.whl.metadata (1.7 kB)\n",
      "Collecting tensorflow-estimator<2.16,>=2.15.0 (from tensorflow-intel==2.15.0->tensorflow)\n",
      "  Using cached tensorflow_estimator-2.15.0-py2.py3-none-any.whl.metadata (1.3 kB)\n",
      "Collecting keras<2.16,>=2.15.0 (from tensorflow-intel==2.15.0->tensorflow)\n",
      "  Using cached keras-2.15.0-py3-none-any.whl.metadata (2.4 kB)\n",
      "Requirement already satisfied: wheel<1.0,>=0.23.0 in d:\\youtube\\tensorflow object detection\\tfodcourse\\tfod\\lib\\site-packages (from astunparse>=1.6.0->tensorflow-intel==2.15.0->tensorflow) (0.42.0)\n",
      "Requirement already satisfied: google-auth<3,>=1.6.3 in d:\\youtube\\tensorflow object detection\\tfodcourse\\tfod\\lib\\site-packages (from tensorboard<2.16,>=2.15->tensorflow-intel==2.15.0->tensorflow) (2.25.2)\n",
      "Requirement already satisfied: google-auth-oauthlib<2,>=0.5 in d:\\youtube\\tensorflow object detection\\tfodcourse\\tfod\\lib\\site-packages (from tensorboard<2.16,>=2.15->tensorflow-intel==2.15.0->tensorflow) (1.0.0)\n",
      "Requirement already satisfied: markdown>=2.6.8 in d:\\youtube\\tensorflow object detection\\tfodcourse\\tfod\\lib\\site-packages (from tensorboard<2.16,>=2.15->tensorflow-intel==2.15.0->tensorflow) (3.5.1)\n",
      "Requirement already satisfied: requests<3,>=2.21.0 in d:\\youtube\\tensorflow object detection\\tfodcourse\\tfod\\lib\\site-packages (from tensorboard<2.16,>=2.15->tensorflow-intel==2.15.0->tensorflow) (2.31.0)\n",
      "Requirement already satisfied: tensorboard-data-server<0.8.0,>=0.7.0 in d:\\youtube\\tensorflow object detection\\tfodcourse\\tfod\\lib\\site-packages (from tensorboard<2.16,>=2.15->tensorflow-intel==2.15.0->tensorflow) (0.7.2)\n",
      "Requirement already satisfied: werkzeug>=1.0.1 in d:\\youtube\\tensorflow object detection\\tfodcourse\\tfod\\lib\\site-packages (from tensorboard<2.16,>=2.15->tensorflow-intel==2.15.0->tensorflow) (3.0.1)\n",
      "Requirement already satisfied: cachetools<6.0,>=2.0.0 in d:\\youtube\\tensorflow object detection\\tfodcourse\\tfod\\lib\\site-packages (from google-auth<3,>=1.6.3->tensorboard<2.16,>=2.15->tensorflow-intel==2.15.0->tensorflow) (5.3.2)\n",
      "Requirement already satisfied: pyasn1-modules>=0.2.1 in d:\\youtube\\tensorflow object detection\\tfodcourse\\tfod\\lib\\site-packages (from google-auth<3,>=1.6.3->tensorboard<2.16,>=2.15->tensorflow-intel==2.15.0->tensorflow) (0.3.0)\n",
      "Requirement already satisfied: rsa<5,>=3.1.4 in d:\\youtube\\tensorflow object detection\\tfodcourse\\tfod\\lib\\site-packages (from google-auth<3,>=1.6.3->tensorboard<2.16,>=2.15->tensorflow-intel==2.15.0->tensorflow) (4.9)\n",
      "Requirement already satisfied: requests-oauthlib>=0.7.0 in d:\\youtube\\tensorflow object detection\\tfodcourse\\tfod\\lib\\site-packages (from google-auth-oauthlib<2,>=0.5->tensorboard<2.16,>=2.15->tensorflow-intel==2.15.0->tensorflow) (1.3.1)\n",
      "Requirement already satisfied: charset-normalizer<4,>=2 in d:\\youtube\\tensorflow object detection\\tfodcourse\\tfod\\lib\\site-packages (from requests<3,>=2.21.0->tensorboard<2.16,>=2.15->tensorflow-intel==2.15.0->tensorflow) (3.3.2)\n",
      "Requirement already satisfied: idna<4,>=2.5 in d:\\youtube\\tensorflow object detection\\tfodcourse\\tfod\\lib\\site-packages (from requests<3,>=2.21.0->tensorboard<2.16,>=2.15->tensorflow-intel==2.15.0->tensorflow) (3.6)\n",
      "Requirement already satisfied: urllib3<3,>=1.21.1 in d:\\youtube\\tensorflow object detection\\tfodcourse\\tfod\\lib\\site-packages (from requests<3,>=2.21.0->tensorboard<2.16,>=2.15->tensorflow-intel==2.15.0->tensorflow) (2.1.0)\n",
      "Requirement already satisfied: certifi>=2017.4.17 in d:\\youtube\\tensorflow object detection\\tfodcourse\\tfod\\lib\\site-packages (from requests<3,>=2.21.0->tensorboard<2.16,>=2.15->tensorflow-intel==2.15.0->tensorflow) (2023.11.17)\n",
      "Requirement already satisfied: MarkupSafe>=2.1.1 in d:\\youtube\\tensorflow object detection\\tfodcourse\\tfod\\lib\\site-packages (from werkzeug>=1.0.1->tensorboard<2.16,>=2.15->tensorflow-intel==2.15.0->tensorflow) (2.1.3)\n",
      "Requirement already satisfied: pyasn1<0.6.0,>=0.4.6 in d:\\youtube\\tensorflow object detection\\tfodcourse\\tfod\\lib\\site-packages (from pyasn1-modules>=0.2.1->google-auth<3,>=1.6.3->tensorboard<2.16,>=2.15->tensorflow-intel==2.15.0->tensorflow) (0.5.1)\n",
      "Requirement already satisfied: oauthlib>=3.0.0 in d:\\youtube\\tensorflow object detection\\tfodcourse\\tfod\\lib\\site-packages (from requests-oauthlib>=0.7.0->google-auth-oauthlib<2,>=0.5->tensorboard<2.16,>=2.15->tensorflow-intel==2.15.0->tensorflow) (3.2.2)\n",
      "Using cached tensorflow-2.15.0-cp311-cp311-win_amd64.whl (2.1 kB)\n",
      "Using cached tensorflow_intel-2.15.0-cp311-cp311-win_amd64.whl (300.9 MB)\n",
      "Using cached keras-2.15.0-py3-none-any.whl (1.7 MB)\n",
      "Using cached tensorboard-2.15.1-py3-none-any.whl (5.5 MB)\n",
      "Using cached tensorflow_estimator-2.15.0-py2.py3-none-any.whl (441 kB)\n",
      "Installing collected packages: tensorflow-estimator, keras, tensorboard, tensorflow-intel, tensorflow\n",
      "  Attempting uninstall: tensorflow-estimator\n",
      "    Found existing installation: tensorflow-estimator 2.14.0\n",
      "    Uninstalling tensorflow-estimator-2.14.0:\n",
      "      Successfully uninstalled tensorflow-estimator-2.14.0\n",
      "  Attempting uninstall: keras\n",
      "    Found existing installation: keras 2.14.0\n",
      "    Uninstalling keras-2.14.0:\n",
      "      Successfully uninstalled keras-2.14.0\n",
      "  Attempting uninstall: tensorboard\n",
      "    Found existing installation: tensorboard 2.14.1\n",
      "    Uninstalling tensorboard-2.14.1:\n",
      "      Successfully uninstalled tensorboard-2.14.1\n",
      "  Attempting uninstall: tensorflow-intel\n",
      "    Found existing installation: tensorflow-intel 2.14.0\n",
      "    Uninstalling tensorflow-intel-2.14.0:\n",
      "      Successfully uninstalled tensorflow-intel-2.14.0\n",
      "Successfully installed keras-2.15.0 tensorboard-2.15.1 tensorflow-2.15.0 tensorflow-estimator-2.15.0 tensorflow-intel-2.15.0\n",
      "Note: you may need to restart the kernel to use updated packages.\n"
     ]
    },
    {
     "name": "stderr",
     "output_type": "stream",
     "text": [
      "DEPRECATION: Loading egg at d:\\youtube\\tensorflow object detection\\tfodcourse\\tfod\\lib\\site-packages\\absl_py-2.0.0-py3.11.egg is deprecated. pip 24.3 will enforce this behaviour change. A possible replacement is to use pip for package installation.. Discussion can be found at https://github.com/pypa/pip/issues/12330\n",
      "DEPRECATION: Loading egg at d:\\youtube\\tensorflow object detection\\tfodcourse\\tfod\\lib\\site-packages\\apache_beam-2.52.0-py3.11-win-amd64.egg is deprecated. pip 24.3 will enforce this behaviour change. A possible replacement is to use pip for package installation.. Discussion can be found at https://github.com/pypa/pip/issues/12330\n",
      "DEPRECATION: Loading egg at d:\\youtube\\tensorflow object detection\\tfodcourse\\tfod\\lib\\site-packages\\avro_python3-1.10.2-py3.11.egg is deprecated. pip 24.3 will enforce this behaviour change. A possible replacement is to use pip for package installation.. Discussion can be found at https://github.com/pypa/pip/issues/12330\n",
      "DEPRECATION: Loading egg at d:\\youtube\\tensorflow object detection\\tfodcourse\\tfod\\lib\\site-packages\\contextlib2-21.6.0-py3.11.egg is deprecated. pip 24.3 will enforce this behaviour change. A possible replacement is to use pip for package installation.. Discussion can be found at https://github.com/pypa/pip/issues/12330\n",
      "DEPRECATION: Loading egg at d:\\youtube\\tensorflow object detection\\tfodcourse\\tfod\\lib\\site-packages\\cython-3.0.6-py3.11.egg is deprecated. pip 24.3 will enforce this behaviour change. A possible replacement is to use pip for package installation.. Discussion can be found at https://github.com/pypa/pip/issues/12330\n",
      "DEPRECATION: Loading egg at d:\\youtube\\tensorflow object detection\\tfodcourse\\tfod\\lib\\site-packages\\dm_tree-0.1.8-py3.11-win-amd64.egg is deprecated. pip 24.3 will enforce this behaviour change. A possible replacement is to use pip for package installation.. Discussion can be found at https://github.com/pypa/pip/issues/12330\n",
      "DEPRECATION: Loading egg at d:\\youtube\\tensorflow object detection\\tfodcourse\\tfod\\lib\\site-packages\\h5py-3.10.0-py3.11-win-amd64.egg is deprecated. pip 24.3 will enforce this behaviour change. A possible replacement is to use pip for package installation.. Discussion can be found at https://github.com/pypa/pip/issues/12330\n",
      "DEPRECATION: Loading egg at d:\\youtube\\tensorflow object detection\\tfodcourse\\tfod\\lib\\site-packages\\lvis-0.5.3-py3.11.egg is deprecated. pip 24.3 will enforce this behaviour change. A possible replacement is to use pip for package installation.. Discussion can be found at https://github.com/pypa/pip/issues/12330\n",
      "DEPRECATION: Loading egg at d:\\youtube\\tensorflow object detection\\tfodcourse\\tfod\\lib\\site-packages\\namex-0.0.7-py3.11.egg is deprecated. pip 24.3 will enforce this behaviour change. A possible replacement is to use pip for package installation.. Discussion can be found at https://github.com/pypa/pip/issues/12330\n",
      "DEPRECATION: Loading egg at d:\\youtube\\tensorflow object detection\\tfodcourse\\tfod\\lib\\site-packages\\object_detection-0.1-py3.11.egg is deprecated. pip 24.3 will enforce this behaviour change. A possible replacement is to use pip for package installation.. Discussion can be found at https://github.com/pypa/pip/issues/12330\n",
      "DEPRECATION: Loading egg at d:\\youtube\\tensorflow object detection\\tfodcourse\\tfod\\lib\\site-packages\\pandas-2.1.4-py3.11-win-amd64.egg is deprecated. pip 24.3 will enforce this behaviour change. A possible replacement is to use pip for package installation.. Discussion can be found at https://github.com/pypa/pip/issues/12330\n",
      "DEPRECATION: Loading egg at d:\\youtube\\tensorflow object detection\\tfodcourse\\tfod\\lib\\site-packages\\pillow-10.1.0-py3.11-win-amd64.egg is deprecated. pip 24.3 will enforce this behaviour change. A possible replacement is to use pip for package installation.. Discussion can be found at https://github.com/pypa/pip/issues/12330\n",
      "DEPRECATION: Loading egg at d:\\youtube\\tensorflow object detection\\tfodcourse\\tfod\\lib\\site-packages\\portalocker-2.8.2-py3.11.egg is deprecated. pip 24.3 will enforce this behaviour change. A possible replacement is to use pip for package installation.. Discussion can be found at https://github.com/pypa/pip/issues/12330\n",
      "DEPRECATION: Loading egg at d:\\youtube\\tensorflow object detection\\tfodcourse\\tfod\\lib\\site-packages\\pycocotools-2.0.7-py3.11-win-amd64.egg is deprecated. pip 24.3 will enforce this behaviour change. A possible replacement is to use pip for package installation.. Discussion can be found at https://github.com/pypa/pip/issues/12330\n",
      "DEPRECATION: Loading egg at d:\\youtube\\tensorflow object detection\\tfodcourse\\tfod\\lib\\site-packages\\pyparsing-2.4.7-py3.11.egg is deprecated. pip 24.3 will enforce this behaviour change. A possible replacement is to use pip for package installation.. Discussion can be found at https://github.com/pypa/pip/issues/12330\n",
      "DEPRECATION: Loading egg at d:\\youtube\\tensorflow object detection\\tfodcourse\\tfod\\lib\\site-packages\\regex-2023.10.3-py3.11-win-amd64.egg is deprecated. pip 24.3 will enforce this behaviour change. A possible replacement is to use pip for package installation.. Discussion can be found at https://github.com/pypa/pip/issues/12330\n",
      "DEPRECATION: Loading egg at d:\\youtube\\tensorflow object detection\\tfodcourse\\tfod\\lib\\site-packages\\rich-13.7.0-py3.11.egg is deprecated. pip 24.3 will enforce this behaviour change. A possible replacement is to use pip for package installation.. Discussion can be found at https://github.com/pypa/pip/issues/12330\n",
      "DEPRECATION: Loading egg at d:\\youtube\\tensorflow object detection\\tfodcourse\\tfod\\lib\\site-packages\\sacrebleu-2.2.0-py3.11.egg is deprecated. pip 24.3 will enforce this behaviour change. A possible replacement is to use pip for package installation.. Discussion can be found at https://github.com/pypa/pip/issues/12330\n",
      "DEPRECATION: Loading egg at d:\\youtube\\tensorflow object detection\\tfodcourse\\tfod\\lib\\site-packages\\scipy-1.11.4-py3.11-win-amd64.egg is deprecated. pip 24.3 will enforce this behaviour change. A possible replacement is to use pip for package installation.. Discussion can be found at https://github.com/pypa/pip/issues/12330\n",
      "DEPRECATION: Loading egg at d:\\youtube\\tensorflow object detection\\tfodcourse\\tfod\\lib\\site-packages\\tabulate-0.9.0-py3.11.egg is deprecated. pip 24.3 will enforce this behaviour change. A possible replacement is to use pip for package installation.. Discussion can be found at https://github.com/pypa/pip/issues/12330\n",
      "DEPRECATION: Loading egg at d:\\youtube\\tensorflow object detection\\tfodcourse\\tfod\\lib\\site-packages\\tensorflow_io-0.31.0-py3.11-win-amd64.egg is deprecated. pip 24.3 will enforce this behaviour change. A possible replacement is to use pip for package installation.. Discussion can be found at https://github.com/pypa/pip/issues/12330\n",
      "DEPRECATION: Loading egg at d:\\youtube\\tensorflow object detection\\tfodcourse\\tfod\\lib\\site-packages\\tensorflow_io_gcs_filesystem-0.31.0-py3.11-win-amd64.egg is deprecated. pip 24.3 will enforce this behaviour change. A possible replacement is to use pip for package installation.. Discussion can be found at https://github.com/pypa/pip/issues/12330\n",
      "DEPRECATION: Loading egg at d:\\youtube\\tensorflow object detection\\tfodcourse\\tfod\\lib\\site-packages\\tf_models_official-2.15.0-py3.11.egg is deprecated. pip 24.3 will enforce this behaviour change. A possible replacement is to use pip for package installation.. Discussion can be found at https://github.com/pypa/pip/issues/12330\n",
      "DEPRECATION: Loading egg at d:\\youtube\\tensorflow object detection\\tfodcourse\\tfod\\lib\\site-packages\\tf_slim-1.1.0-py3.11.egg is deprecated. pip 24.3 will enforce this behaviour change. A possible replacement is to use pip for package installation.. Discussion can be found at https://github.com/pypa/pip/issues/12330\n",
      "  WARNING: Failed to remove contents in a temporary directory 'D:\\Youtube\\TensorFlow Object Detection\\TFODCourse\\tfod\\Lib\\site-packages\\~.nsorflow'.\n",
      "  You can safely remove it manually.\n",
      "ERROR: pip's dependency resolver does not currently take into account all the packages that are installed. This behaviour is the source of the following dependency conflicts.\n",
      "tf-models-official 2.15.0 requires google-api-python-client>=1.6.7, which is not installed.\n",
      "tf-models-official 2.15.0 requires immutabledict, which is not installed.\n",
      "tf-models-official 2.15.0 requires kaggle>=1.3.9, which is not installed.\n",
      "tf-models-official 2.15.0 requires oauth2client, which is not installed.\n",
      "tf-models-official 2.15.0 requires opencv-python-headless, which is not installed.\n",
      "tf-models-official 2.15.0 requires py-cpuinfo>=3.3.0, which is not installed.\n",
      "tf-models-official 2.15.0 requires sentencepiece, which is not installed.\n",
      "tf-models-official 2.15.0 requires seqeval, which is not installed.\n",
      "tf-models-official 2.15.0 requires tensorflow-datasets, which is not installed.\n",
      "tf-models-official 2.15.0 requires tensorflow-model-optimization>=0.4.1, which is not installed.\n",
      "tf-models-official 2.15.0 requires tensorflow-text~=2.15.0, which is not installed.\n",
      "\n",
      "[notice] A new release of pip is available: 23.3.1 -> 24.0\n",
      "[notice] To update, run: python.exe -m pip install --upgrade pip\n"
     ]
    }
   ],
   "source": [
    "pip install tensorflow"
   ]
  },
  {
   "cell_type": "code",
   "execution_count": 26,
   "metadata": {},
   "outputs": [
    {
     "data": {
      "text/plain": [
       "2"
      ]
     },
     "execution_count": 26,
     "metadata": {},
     "output_type": "execute_result"
    }
   ],
   "source": [
    "import subprocess\n",
    "\n",
    "# Define the command to uninstall the package\n",
    "command = 'pip uninstall protobuf'\n",
    "\n",
    "# Execute the command in the shell\n",
    "subprocess.call(command, shell=True)"
   ]
  },
  {
   "cell_type": "code",
   "execution_count": 29,
   "metadata": {},
   "outputs": [
    {
     "name": "stdout",
     "output_type": "stream",
     "text": [
      "Collecting protobuf==3.20.3\n",
      "  Using cached protobuf-3.20.3-py2.py3-none-any.whl (162 kB)\n",
      "Installing collected packages: protobuf\n",
      "  Attempting uninstall: protobuf\n",
      "    Found existing installation: protobuf 3.20.1\n",
      "    Uninstalling protobuf-3.20.1:\n",
      "      Successfully uninstalled protobuf-3.20.1\n",
      "Successfully installed protobuf-3.20.3\n",
      "Note: you may need to restart the kernel to use updated packages.\n"
     ]
    },
    {
     "name": "stderr",
     "output_type": "stream",
     "text": [
      "DEPRECATION: Loading egg at d:\\youtube\\tensorflow object detection\\tfodcourse\\tfod\\lib\\site-packages\\absl_py-2.0.0-py3.11.egg is deprecated. pip 24.3 will enforce this behaviour change. A possible replacement is to use pip for package installation.. Discussion can be found at https://github.com/pypa/pip/issues/12330\n",
      "DEPRECATION: Loading egg at d:\\youtube\\tensorflow object detection\\tfodcourse\\tfod\\lib\\site-packages\\apache_beam-2.52.0-py3.11-win-amd64.egg is deprecated. pip 24.3 will enforce this behaviour change. A possible replacement is to use pip for package installation.. Discussion can be found at https://github.com/pypa/pip/issues/12330\n",
      "DEPRECATION: Loading egg at d:\\youtube\\tensorflow object detection\\tfodcourse\\tfod\\lib\\site-packages\\avro_python3-1.10.2-py3.11.egg is deprecated. pip 24.3 will enforce this behaviour change. A possible replacement is to use pip for package installation.. Discussion can be found at https://github.com/pypa/pip/issues/12330\n",
      "DEPRECATION: Loading egg at d:\\youtube\\tensorflow object detection\\tfodcourse\\tfod\\lib\\site-packages\\contextlib2-21.6.0-py3.11.egg is deprecated. pip 24.3 will enforce this behaviour change. A possible replacement is to use pip for package installation.. Discussion can be found at https://github.com/pypa/pip/issues/12330\n",
      "DEPRECATION: Loading egg at d:\\youtube\\tensorflow object detection\\tfodcourse\\tfod\\lib\\site-packages\\cython-3.0.6-py3.11.egg is deprecated. pip 24.3 will enforce this behaviour change. A possible replacement is to use pip for package installation.. Discussion can be found at https://github.com/pypa/pip/issues/12330\n",
      "DEPRECATION: Loading egg at d:\\youtube\\tensorflow object detection\\tfodcourse\\tfod\\lib\\site-packages\\dm_tree-0.1.8-py3.11-win-amd64.egg is deprecated. pip 24.3 will enforce this behaviour change. A possible replacement is to use pip for package installation.. Discussion can be found at https://github.com/pypa/pip/issues/12330\n",
      "DEPRECATION: Loading egg at d:\\youtube\\tensorflow object detection\\tfodcourse\\tfod\\lib\\site-packages\\h5py-3.10.0-py3.11-win-amd64.egg is deprecated. pip 24.3 will enforce this behaviour change. A possible replacement is to use pip for package installation.. Discussion can be found at https://github.com/pypa/pip/issues/12330\n",
      "DEPRECATION: Loading egg at d:\\youtube\\tensorflow object detection\\tfodcourse\\tfod\\lib\\site-packages\\lvis-0.5.3-py3.11.egg is deprecated. pip 24.3 will enforce this behaviour change. A possible replacement is to use pip for package installation.. Discussion can be found at https://github.com/pypa/pip/issues/12330\n",
      "DEPRECATION: Loading egg at d:\\youtube\\tensorflow object detection\\tfodcourse\\tfod\\lib\\site-packages\\namex-0.0.7-py3.11.egg is deprecated. pip 24.3 will enforce this behaviour change. A possible replacement is to use pip for package installation.. Discussion can be found at https://github.com/pypa/pip/issues/12330\n",
      "DEPRECATION: Loading egg at d:\\youtube\\tensorflow object detection\\tfodcourse\\tfod\\lib\\site-packages\\object_detection-0.1-py3.11.egg is deprecated. pip 24.3 will enforce this behaviour change. A possible replacement is to use pip for package installation.. Discussion can be found at https://github.com/pypa/pip/issues/12330\n",
      "DEPRECATION: Loading egg at d:\\youtube\\tensorflow object detection\\tfodcourse\\tfod\\lib\\site-packages\\pandas-2.1.4-py3.11-win-amd64.egg is deprecated. pip 24.3 will enforce this behaviour change. A possible replacement is to use pip for package installation.. Discussion can be found at https://github.com/pypa/pip/issues/12330\n",
      "DEPRECATION: Loading egg at d:\\youtube\\tensorflow object detection\\tfodcourse\\tfod\\lib\\site-packages\\pillow-10.1.0-py3.11-win-amd64.egg is deprecated. pip 24.3 will enforce this behaviour change. A possible replacement is to use pip for package installation.. Discussion can be found at https://github.com/pypa/pip/issues/12330\n",
      "DEPRECATION: Loading egg at d:\\youtube\\tensorflow object detection\\tfodcourse\\tfod\\lib\\site-packages\\portalocker-2.8.2-py3.11.egg is deprecated. pip 24.3 will enforce this behaviour change. A possible replacement is to use pip for package installation.. Discussion can be found at https://github.com/pypa/pip/issues/12330\n",
      "DEPRECATION: Loading egg at d:\\youtube\\tensorflow object detection\\tfodcourse\\tfod\\lib\\site-packages\\pycocotools-2.0.7-py3.11-win-amd64.egg is deprecated. pip 24.3 will enforce this behaviour change. A possible replacement is to use pip for package installation.. Discussion can be found at https://github.com/pypa/pip/issues/12330\n",
      "DEPRECATION: Loading egg at d:\\youtube\\tensorflow object detection\\tfodcourse\\tfod\\lib\\site-packages\\pyparsing-2.4.7-py3.11.egg is deprecated. pip 24.3 will enforce this behaviour change. A possible replacement is to use pip for package installation.. Discussion can be found at https://github.com/pypa/pip/issues/12330\n",
      "DEPRECATION: Loading egg at d:\\youtube\\tensorflow object detection\\tfodcourse\\tfod\\lib\\site-packages\\regex-2023.10.3-py3.11-win-amd64.egg is deprecated. pip 24.3 will enforce this behaviour change. A possible replacement is to use pip for package installation.. Discussion can be found at https://github.com/pypa/pip/issues/12330\n",
      "DEPRECATION: Loading egg at d:\\youtube\\tensorflow object detection\\tfodcourse\\tfod\\lib\\site-packages\\rich-13.7.0-py3.11.egg is deprecated. pip 24.3 will enforce this behaviour change. A possible replacement is to use pip for package installation.. Discussion can be found at https://github.com/pypa/pip/issues/12330\n",
      "DEPRECATION: Loading egg at d:\\youtube\\tensorflow object detection\\tfodcourse\\tfod\\lib\\site-packages\\sacrebleu-2.2.0-py3.11.egg is deprecated. pip 24.3 will enforce this behaviour change. A possible replacement is to use pip for package installation.. Discussion can be found at https://github.com/pypa/pip/issues/12330\n",
      "DEPRECATION: Loading egg at d:\\youtube\\tensorflow object detection\\tfodcourse\\tfod\\lib\\site-packages\\scipy-1.11.4-py3.11-win-amd64.egg is deprecated. pip 24.3 will enforce this behaviour change. A possible replacement is to use pip for package installation.. Discussion can be found at https://github.com/pypa/pip/issues/12330\n",
      "DEPRECATION: Loading egg at d:\\youtube\\tensorflow object detection\\tfodcourse\\tfod\\lib\\site-packages\\tabulate-0.9.0-py3.11.egg is deprecated. pip 24.3 will enforce this behaviour change. A possible replacement is to use pip for package installation.. Discussion can be found at https://github.com/pypa/pip/issues/12330\n",
      "DEPRECATION: Loading egg at d:\\youtube\\tensorflow object detection\\tfodcourse\\tfod\\lib\\site-packages\\tensorflow-2.15.0-py3.11-win-amd64.egg is deprecated. pip 24.3 will enforce this behaviour change. A possible replacement is to use pip for package installation.. Discussion can be found at https://github.com/pypa/pip/issues/12330\n",
      "DEPRECATION: Loading egg at d:\\youtube\\tensorflow object detection\\tfodcourse\\tfod\\lib\\site-packages\\tensorflow_io-0.31.0-py3.11-win-amd64.egg is deprecated. pip 24.3 will enforce this behaviour change. A possible replacement is to use pip for package installation.. Discussion can be found at https://github.com/pypa/pip/issues/12330\n",
      "DEPRECATION: Loading egg at d:\\youtube\\tensorflow object detection\\tfodcourse\\tfod\\lib\\site-packages\\tensorflow_io_gcs_filesystem-0.31.0-py3.11-win-amd64.egg is deprecated. pip 24.3 will enforce this behaviour change. A possible replacement is to use pip for package installation.. Discussion can be found at https://github.com/pypa/pip/issues/12330\n",
      "DEPRECATION: Loading egg at d:\\youtube\\tensorflow object detection\\tfodcourse\\tfod\\lib\\site-packages\\tf_models_official-2.15.0-py3.11.egg is deprecated. pip 24.3 will enforce this behaviour change. A possible replacement is to use pip for package installation.. Discussion can be found at https://github.com/pypa/pip/issues/12330\n",
      "DEPRECATION: Loading egg at d:\\youtube\\tensorflow object detection\\tfodcourse\\tfod\\lib\\site-packages\\tf_slim-1.1.0-py3.11.egg is deprecated. pip 24.3 will enforce this behaviour change. A possible replacement is to use pip for package installation.. Discussion can be found at https://github.com/pypa/pip/issues/12330\n",
      "ERROR: pip's dependency resolver does not currently take into account all the packages that are installed. This behaviour is the source of the following dependency conflicts.\n",
      "apache-beam 2.52.0 requires cloudpickle~=2.2.1, which is not installed.\n",
      "apache-beam 2.52.0 requires crcmod<2.0,>=1.7, which is not installed.\n",
      "apache-beam 2.52.0 requires dill<0.3.2,>=0.3.1.1, which is not installed.\n",
      "apache-beam 2.52.0 requires fastavro<2,>=0.23.6, which is not installed.\n",
      "apache-beam 2.52.0 requires fasteners<1.0,>=0.3, which is not installed.\n",
      "apache-beam 2.52.0 requires hdfs<3.0.0,>=2.1.0, which is not installed.\n",
      "apache-beam 2.52.0 requires httplib2<0.23.0,>=0.8, which is not installed.\n",
      "apache-beam 2.52.0 requires js2py<1,>=0.74, which is not installed.\n",
      "apache-beam 2.52.0 requires objsize<0.7.0,>=0.6.1, which is not installed.\n",
      "apache-beam 2.52.0 requires orjson<4,>=3.9.7, which is not installed.\n",
      "apache-beam 2.52.0 requires proto-plus<2,>=1.7.1, which is not installed.\n",
      "apache-beam 2.52.0 requires pyarrow<12.0.0,>=3.0.0, which is not installed.\n",
      "apache-beam 2.52.0 requires pyarrow-hotfix<1, which is not installed.\n",
      "apache-beam 2.52.0 requires pydot<2,>=1.2.0, which is not installed.\n",
      "apache-beam 2.52.0 requires pymongo<5.0.0,>=3.8.0, which is not installed.\n",
      "apache-beam 2.52.0 requires zstandard<1,>=0.18.0, which is not installed.\n",
      "tf-models-official 2.15.0 requires google-api-python-client>=1.6.7, which is not installed.\n",
      "tf-models-official 2.15.0 requires immutabledict, which is not installed.\n",
      "tf-models-official 2.15.0 requires kaggle>=1.3.9, which is not installed.\n",
      "tf-models-official 2.15.0 requires oauth2client, which is not installed.\n",
      "tf-models-official 2.15.0 requires opencv-python-headless, which is not installed.\n",
      "tf-models-official 2.15.0 requires py-cpuinfo>=3.3.0, which is not installed.\n",
      "tf-models-official 2.15.0 requires sentencepiece, which is not installed.\n",
      "tf-models-official 2.15.0 requires seqeval, which is not installed.\n",
      "tf-models-official 2.15.0 requires tensorflow-datasets, which is not installed.\n",
      "tf-models-official 2.15.0 requires tensorflow-hub>=0.6.0, which is not installed.\n",
      "tf-models-official 2.15.0 requires tensorflow-model-optimization>=0.4.1, which is not installed.\n",
      "tf-models-official 2.15.0 requires tensorflow-text~=2.15.0, which is not installed.\n",
      "tensorflow-intel 2.15.0 requires keras<2.16,>=2.15.0, but you have keras 2.13.1 which is incompatible.\n",
      "tensorflow-intel 2.15.0 requires tensorflow-estimator<2.16,>=2.15.0, but you have tensorflow-estimator 2.13.0 which is incompatible.\n",
      "\n",
      "[notice] A new release of pip is available: 23.3.1 -> 23.3.2\n",
      "[notice] To update, run: python.exe -m pip install --upgrade pip\n"
     ]
    }
   ],
   "source": [
    "pip install protobuf==3.20.3"
   ]
  },
  {
   "cell_type": "code",
   "execution_count": 8,
   "metadata": {
    "id": "c2A0mn4ipfDF"
   },
   "outputs": [
    {
     "name": "stdout",
     "output_type": "stream",
     "text": [
      "WARNING:tensorflow:From D:\\Youtube\\TensorFlow Object Detection\\TFODCourse\\tfod\\Lib\\site-packages\\object_detection-0.1-py3.11.egg\\object_detection\\utils\\config_util.py:137: The name tf.gfile.GFile is deprecated. Please use tf.io.gfile.GFile instead.\n",
      "\n"
     ]
    }
   ],
   "source": [
    "config = config_util.get_configs_from_pipeline_file(files['PIPELINE_CONFIG'])"
   ]
  },
  {
   "cell_type": "code",
   "execution_count": 6,
   "metadata": {
    "colab": {
     "base_uri": "https://localhost:8080/"
    },
    "id": "uQA13-afpfDF",
    "outputId": "907496a4-a39d-4b13-8c2c-e5978ecb1f10",
    "scrolled": true
   },
   "outputs": [
    {
     "name": "stdout",
     "output_type": "stream",
     "text": [
      "Available objects for config:\n",
      "    AliasManager\n",
      "    DisplayFormatter\n",
      "    HistoryManager\n",
      "    IPCompleter\n",
      "    IPKernelApp\n",
      "    LoggingMagics\n",
      "    MagicsManager\n",
      "    OSMagics\n",
      "    PrefilterManager\n",
      "    ScriptMagics\n",
      "    StoreMagics\n",
      "    ZMQInteractiveShell\n"
     ]
    }
   ],
   "source": [
    "config"
   ]
  },
  {
   "cell_type": "code",
   "execution_count": 32,
   "metadata": {
    "id": "9vK5lotDpfDF"
   },
   "outputs": [],
   "source": [
    "pipeline_config = pipeline_pb2.TrainEvalPipelineConfig()\n",
    "with tf.io.gfile.GFile(files['PIPELINE_CONFIG'], \"r\") as f:                                                                                                                                                                                                                     \n",
    "    proto_str = f.read()                                                                                                                                                                                                                                          \n",
    "    text_format.Merge(proto_str, pipeline_config)  "
   ]
  },
  {
   "cell_type": "code",
   "execution_count": 33,
   "metadata": {
    "id": "rP43Ph0JpfDG"
   },
   "outputs": [],
   "source": [
    "pipeline_config.model.ssd.num_classes = len(labels)\n",
    "pipeline_config.train_config.batch_size = 4\n",
    "pipeline_config.train_config.fine_tune_checkpoint = os.path.join(paths['PRETRAINED_MODEL_PATH'], PRETRAINED_MODEL_NAME, 'checkpoint', 'ckpt-0')\n",
    "pipeline_config.train_config.fine_tune_checkpoint_type = \"detection\"\n",
    "pipeline_config.train_input_reader.label_map_path= files['LABELMAP']\n",
    "pipeline_config.train_input_reader.tf_record_input_reader.input_path[:] = [os.path.join(paths['ANNOTATION_PATH'], 'train.record')]\n",
    "pipeline_config.eval_input_reader[0].label_map_path = files['LABELMAP']\n",
    "pipeline_config.eval_input_reader[0].tf_record_input_reader.input_path[:] = [os.path.join(paths['ANNOTATION_PATH'], 'test.record')]"
   ]
  },
  {
   "cell_type": "code",
   "execution_count": 34,
   "metadata": {
    "id": "oJvfgwWqpfDG"
   },
   "outputs": [],
   "source": [
    "config_text = text_format.MessageToString(pipeline_config)                                                                                                                                                                                                        \n",
    "with tf.io.gfile.GFile(files['PIPELINE_CONFIG'], \"wb\") as f:                                                                                                                                                                                                                     \n",
    "    f.write(config_text)   "
   ]
  },
  {
   "cell_type": "markdown",
   "metadata": {
    "id": "Zr3ON7xMpfDG"
   },
   "source": [
    "# 6. Train the model"
   ]
  },
  {
   "cell_type": "code",
   "execution_count": 20,
   "metadata": {
    "id": "B-Y2UQmQpfDG"
   },
   "outputs": [],
   "source": [
    "TRAINING_SCRIPT = os.path.join(paths['APIMODEL_PATH'], 'research', 'object_detection', 'model_main_tf2.py')"
   ]
  },
  {
   "cell_type": "code",
   "execution_count": 34,
   "metadata": {
    "scrolled": true
   },
   "outputs": [
    {
     "name": "stdout",
     "output_type": "stream",
     "text": [
      "TensorFlow version: 2.15.0\n"
     ]
    }
   ],
   "source": [
    "import tensorflow as tf\n",
    "\n",
    "print(\"TensorFlow version:\", tf.__version__)\n"
   ]
  },
  {
   "cell_type": "code",
   "execution_count": null,
   "metadata": {
    "scrolled": true
   },
   "outputs": [],
   "source": [
    "pip install tensorflow==2.13.0"
   ]
  },
  {
   "cell_type": "code",
   "execution_count": 38,
   "metadata": {
    "id": "jMP2XDfQpfDH"
   },
   "outputs": [],
   "source": [
    "command = \"python {} --model_dir={} --pipeline_config_path={} --num_train_steps=4000\".format(TRAINING_SCRIPT, paths['CHECKPOINT_PATH'],files['PIPELINE_CONFIG'])"
   ]
  },
  {
   "cell_type": "code",
   "execution_count": 39,
   "metadata": {
    "colab": {
     "base_uri": "https://localhost:8080/"
    },
    "id": "A4OXXi-ApfDH",
    "outputId": "117a0e83-012b-466e-b7a6-ccaa349ac5ab"
   },
   "outputs": [
    {
     "name": "stdout",
     "output_type": "stream",
     "text": [
      "python Tensorflow\\models\\research\\object_detection\\model_main_tf2.py --model_dir=Tensorflow\\workspace\\models\\my_ssd_mobnet_tuned --pipeline_config_path=Tensorflow\\workspace\\models\\my_ssd_mobnet_tuned\\pipeline.config --num_train_steps=4000\n"
     ]
    }
   ],
   "source": [
    "print(command)"
   ]
  },
  {
   "cell_type": "code",
   "execution_count": 19,
   "metadata": {
    "colab": {
     "base_uri": "https://localhost:8080/"
    },
    "id": "i3ZsJR-qpfDH",
    "outputId": "cabec5e1-45e6-4f2f-d9cf-297d9c1d0225"
   },
   "outputs": [
    {
     "name": "stderr",
     "output_type": "stream",
     "text": [
      "2024-01-25 15:09:50.380316: I tensorflow/core/util/port.cc:113] oneDNN custom operations are on. You may see slightly different numerical results due to floating-point round-off errors from different computation orders. To turn them off, set the environment variable `TF_ENABLE_ONEDNN_OPTS=0`.\n",
      "WARNING:tensorflow:From D:\\Youtube\\TensorFlow Object Detection\\TFODCourse\\tfod\\Lib\\site-packages\\keras\\src\\losses.py:2940: The name tf.losses.sparse_softmax_cross_entropy is deprecated. Please use tf.compat.v1.losses.sparse_softmax_cross_entropy instead.\n",
      "\n",
      "WARNING:tensorflow:From D:\\Youtube\\TensorFlow Object Detection\\TFODCourse\\Tensorflow\\models\\research\\object_detection\\model_main_tf2.py:114: The name tf.app.run is deprecated. Please use tf.compat.v1.app.run instead.\n",
      "\n",
      "[01/25 15:09:55] tensorflow WARNING: From D:\\Youtube\\TensorFlow Object Detection\\TFODCourse\\Tensorflow\\models\\research\\object_detection\\model_main_tf2.py:114: The name tf.app.run is deprecated. Please use tf.compat.v1.app.run instead.\n",
      "\n",
      "2024-01-25 15:09:55.805004: I tensorflow/core/platform/cpu_feature_guard.cc:182] This TensorFlow binary is optimized to use available CPU instructions in performance-critical operations.\n",
      "To enable the following instructions: SSE SSE2 SSE3 SSE4.1 SSE4.2 AVX2 FMA, in other operations, rebuild TensorFlow with the appropriate compiler flags.\n",
      "INFO:tensorflow:Using MirroredStrategy with devices ('/job:localhost/replica:0/task:0/device:CPU:0',)\n",
      "I0125 15:09:55.806505 19232 mirrored_strategy.py:423] Using MirroredStrategy with devices ('/job:localhost/replica:0/task:0/device:CPU:0',)\n",
      "WARNING:tensorflow:From D:\\Youtube\\TensorFlow Object Detection\\TFODCourse\\tfod\\Lib\\site-packages\\object_detection-0.1-py3.11.egg\\object_detection\\utils\\config_util.py:137: The name tf.gfile.GFile is deprecated. Please use tf.io.gfile.GFile instead.\n",
      "\n",
      "W0125 15:09:56.040897 19232 module_wrapper.py:149] From D:\\Youtube\\TensorFlow Object Detection\\TFODCourse\\tfod\\Lib\\site-packages\\object_detection-0.1-py3.11.egg\\object_detection\\utils\\config_util.py:137: The name tf.gfile.GFile is deprecated. Please use tf.io.gfile.GFile instead.\n",
      "\n",
      "WARNING:tensorflow:From D:\\Youtube\\TensorFlow Object Detection\\TFODCourse\\tfod\\Lib\\site-packages\\object_detection-0.1-py3.11.egg\\object_detection\\utils\\config_util.py:552: The name tf.logging.info is deprecated. Please use tf.compat.v1.logging.info instead.\n",
      "\n",
      "W0125 15:09:56.051076 19232 module_wrapper.py:149] From D:\\Youtube\\TensorFlow Object Detection\\TFODCourse\\tfod\\Lib\\site-packages\\object_detection-0.1-py3.11.egg\\object_detection\\utils\\config_util.py:552: The name tf.logging.info is deprecated. Please use tf.compat.v1.logging.info instead.\n",
      "\n",
      "INFO:tensorflow:Maybe overwriting train_steps: 2000\n",
      "I0125 15:09:56.051076 19232 config_util.py:552] Maybe overwriting train_steps: 2000\n",
      "INFO:tensorflow:Maybe overwriting use_bfloat16: False\n",
      "I0125 15:09:56.051076 19232 config_util.py:552] Maybe overwriting use_bfloat16: False\n",
      "WARNING:tensorflow:From D:\\Youtube\\TensorFlow Object Detection\\TFODCourse\\tfod\\Lib\\site-packages\\keras\\src\\backend.py:873: The name tf.get_default_graph is deprecated. Please use tf.compat.v1.get_default_graph instead.\n",
      "\n",
      "W0125 15:09:56.061216 19232 module_wrapper.py:149] From D:\\Youtube\\TensorFlow Object Detection\\TFODCourse\\tfod\\Lib\\site-packages\\keras\\src\\backend.py:873: The name tf.get_default_graph is deprecated. Please use tf.compat.v1.get_default_graph instead.\n",
      "\n",
      "WARNING:tensorflow:From D:\\Youtube\\TensorFlow Object Detection\\TFODCourse\\tfod\\Lib\\site-packages\\object_detection-0.1-py3.11.egg\\object_detection\\model_lib_v2.py:563: StrategyBase.experimental_distribute_datasets_from_function (from tensorflow.python.distribute.distribute_lib) is deprecated and will be removed in a future version.\n",
      "Instructions for updating:\n",
      "rename to distribute_datasets_from_function\n",
      "W0125 15:09:56.092202 19232 deprecation.py:50] From D:\\Youtube\\TensorFlow Object Detection\\TFODCourse\\tfod\\Lib\\site-packages\\object_detection-0.1-py3.11.egg\\object_detection\\model_lib_v2.py:563: StrategyBase.experimental_distribute_datasets_from_function (from tensorflow.python.distribute.distribute_lib) is deprecated and will be removed in a future version.\n",
      "Instructions for updating:\n",
      "rename to distribute_datasets_from_function\n",
      "WARNING:tensorflow:From D:\\Youtube\\TensorFlow Object Detection\\TFODCourse\\tfod\\Lib\\site-packages\\object_detection-0.1-py3.11.egg\\object_detection\\data_decoders\\tf_example_decoder.py:205: The name tf.FixedLenFeature is deprecated. Please use tf.io.FixedLenFeature instead.\n",
      "\n",
      "W0125 15:09:56.100379 19232 module_wrapper.py:149] From D:\\Youtube\\TensorFlow Object Detection\\TFODCourse\\tfod\\Lib\\site-packages\\object_detection-0.1-py3.11.egg\\object_detection\\data_decoders\\tf_example_decoder.py:205: The name tf.FixedLenFeature is deprecated. Please use tf.io.FixedLenFeature instead.\n",
      "\n",
      "INFO:tensorflow:Reading unweighted datasets: ['Tensorflow\\\\workspace\\\\annotations\\\\train.record']\n",
      "I0125 15:09:56.116924 19232 dataset_builder.py:162] Reading unweighted datasets: ['Tensorflow\\\\workspace\\\\annotations\\\\train.record']\n",
      "INFO:tensorflow:Reading record datasets for input file: ['Tensorflow\\\\workspace\\\\annotations\\\\train.record']\n",
      "I0125 15:09:56.116924 19232 dataset_builder.py:79] Reading record datasets for input file: ['Tensorflow\\\\workspace\\\\annotations\\\\train.record']\n",
      "INFO:tensorflow:Number of filenames to read: 1\n",
      "I0125 15:09:56.116924 19232 dataset_builder.py:80] Number of filenames to read: 1\n",
      "WARNING:tensorflow:num_readers has been reduced to 1 to match input file shards.\n",
      "W0125 15:09:56.116924 19232 dataset_builder.py:86] num_readers has been reduced to 1 to match input file shards.\n",
      "WARNING:tensorflow:From D:\\Youtube\\TensorFlow Object Detection\\TFODCourse\\tfod\\Lib\\site-packages\\object_detection-0.1-py3.11.egg\\object_detection\\builders\\dataset_builder.py:100: parallel_interleave (from tensorflow.python.data.experimental.ops.interleave_ops) is deprecated and will be removed in a future version.\n",
      "Instructions for updating:\n",
      "Use `tf.data.Dataset.interleave(map_func, cycle_length, block_length, num_parallel_calls=tf.data.AUTOTUNE)` instead. If sloppy execution is desired, use `tf.data.Options.deterministic`.\n",
      "W0125 15:09:56.122911 19232 deprecation.py:50] From D:\\Youtube\\TensorFlow Object Detection\\TFODCourse\\tfod\\Lib\\site-packages\\object_detection-0.1-py3.11.egg\\object_detection\\builders\\dataset_builder.py:100: parallel_interleave (from tensorflow.python.data.experimental.ops.interleave_ops) is deprecated and will be removed in a future version.\n",
      "Instructions for updating:\n",
      "Use `tf.data.Dataset.interleave(map_func, cycle_length, block_length, num_parallel_calls=tf.data.AUTOTUNE)` instead. If sloppy execution is desired, use `tf.data.Options.deterministic`.\n",
      "WARNING:tensorflow:From D:\\Youtube\\TensorFlow Object Detection\\TFODCourse\\tfod\\Lib\\site-packages\\object_detection-0.1-py3.11.egg\\object_detection\\builders\\dataset_builder.py:235: DatasetV1.map_with_legacy_function (from tensorflow.python.data.ops.dataset_ops) is deprecated and will be removed in a future version.\n",
      "Instructions for updating:\n",
      "Use `tf.data.Dataset.map()\n",
      "W0125 15:09:56.153449 19232 deprecation.py:50] From D:\\Youtube\\TensorFlow Object Detection\\TFODCourse\\tfod\\Lib\\site-packages\\object_detection-0.1-py3.11.egg\\object_detection\\builders\\dataset_builder.py:235: DatasetV1.map_with_legacy_function (from tensorflow.python.data.ops.dataset_ops) is deprecated and will be removed in a future version.\n",
      "Instructions for updating:\n",
      "Use `tf.data.Dataset.map()\n",
      "Traceback (most recent call last):\n",
      "  File \"D:\\Youtube\\TensorFlow Object Detection\\TFODCourse\\Tensorflow\\models\\research\\object_detection\\model_main_tf2.py\", line 114, in <module>\n",
      "    tf.compat.v1.app.run()\n",
      "  File \"D:\\Youtube\\TensorFlow Object Detection\\TFODCourse\\tfod\\Lib\\site-packages\\tensorflow\\python\\platform\\app.py\", line 36, in run\n",
      "    _run(main=main, argv=argv, flags_parser=_parse_flags_tolerate_undef)\n",
      "  File \"D:\\Youtube\\TensorFlow Object Detection\\TFODCourse\\tfod\\Lib\\site-packages\\absl_py-2.0.0-py3.11.egg\\absl\\app.py\", line 308, in run\n",
      "    _run_main(main, args)\n",
      "  File \"D:\\Youtube\\TensorFlow Object Detection\\TFODCourse\\tfod\\Lib\\site-packages\\absl_py-2.0.0-py3.11.egg\\absl\\app.py\", line 254, in _run_main\n",
      "    sys.exit(main(argv))\n",
      "             ^^^^^^^^^^\n",
      "  File \"D:\\Youtube\\TensorFlow Object Detection\\TFODCourse\\Tensorflow\\models\\research\\object_detection\\model_main_tf2.py\", line 105, in main\n",
      "    model_lib_v2.train_loop(\n",
      "  File \"D:\\Youtube\\TensorFlow Object Detection\\TFODCourse\\tfod\\Lib\\site-packages\\object_detection-0.1-py3.11.egg\\object_detection\\model_lib_v2.py\", line 563, in train_loop\n",
      "    train_input = strategy.experimental_distribute_datasets_from_function(\n",
      "                  ^^^^^^^^^^^^^^^^^^^^^^^^^^^^^^^^^^^^^^^^^^^^^^^^^^^^^^^^\n",
      "  File \"D:\\Youtube\\TensorFlow Object Detection\\TFODCourse\\tfod\\Lib\\site-packages\\tensorflow\\python\\util\\deprecation.py\", line 383, in new_func\n",
      "    return func(*args, **kwargs)\n",
      "           ^^^^^^^^^^^^^^^^^^^^^\n",
      "  File \"D:\\Youtube\\TensorFlow Object Detection\\TFODCourse\\tfod\\Lib\\site-packages\\tensorflow\\python\\distribute\\distribute_lib.py\", line 1563, in experimental_distribute_datasets_from_function\n",
      "    return self.distribute_datasets_from_function(dataset_fn, options)\n",
      "           ^^^^^^^^^^^^^^^^^^^^^^^^^^^^^^^^^^^^^^^^^^^^^^^^^^^^^^^^^^^\n",
      "  File \"D:\\Youtube\\TensorFlow Object Detection\\TFODCourse\\tfod\\Lib\\site-packages\\tensorflow\\python\\distribute\\distribute_lib.py\", line 1554, in distribute_datasets_from_function\n",
      "    return self._extended._distribute_datasets_from_function(  # pylint: disable=protected-access\n",
      "           ^^^^^^^^^^^^^^^^^^^^^^^^^^^^^^^^^^^^^^^^^^^^^^^^^^^^^^^^^^^^^^^^^^^^^^^^^^^^^^^^^^^^^^\n",
      "  File \"D:\\Youtube\\TensorFlow Object Detection\\TFODCourse\\tfod\\Lib\\site-packages\\tensorflow\\python\\distribute\\mirrored_strategy.py\", line 613, in _distribute_datasets_from_function\n",
      "    return input_util.get_distributed_datasets_from_function(\n",
      "           ^^^^^^^^^^^^^^^^^^^^^^^^^^^^^^^^^^^^^^^^^^^^^^^^^^\n",
      "  File \"D:\\Youtube\\TensorFlow Object Detection\\TFODCourse\\tfod\\Lib\\site-packages\\tensorflow\\python\\distribute\\input_util.py\", line 144, in get_distributed_datasets_from_function\n",
      "    return input_lib.DistributedDatasetsFromFunction(\n",
      "           ^^^^^^^^^^^^^^^^^^^^^^^^^^^^^^^^^^^^^^^^^^\n",
      "  File \"D:\\Youtube\\TensorFlow Object Detection\\TFODCourse\\tfod\\Lib\\site-packages\\tensorflow\\python\\distribute\\input_lib.py\", line 1143, in __init__\n",
      "    self.build()\n",
      "  File \"D:\\Youtube\\TensorFlow Object Detection\\TFODCourse\\tfod\\Lib\\site-packages\\tensorflow\\python\\distribute\\input_lib.py\", line 1165, in build\n",
      "    _create_datasets_from_function_with_input_context(\n",
      "  File \"D:\\Youtube\\TensorFlow Object Detection\\TFODCourse\\tfod\\Lib\\site-packages\\tensorflow\\python\\distribute\\input_lib.py\", line 1680, in _create_datasets_from_function_with_input_context\n",
      "    dataset = dataset_fn(ctx)\n",
      "              ^^^^^^^^^^^^^^^\n",
      "  File \"D:\\Youtube\\TensorFlow Object Detection\\TFODCourse\\tfod\\Lib\\site-packages\\object_detection-0.1-py3.11.egg\\object_detection\\model_lib_v2.py\", line 554, in train_dataset_fn\n",
      "    train_input = inputs.train_input(\n",
      "                  ^^^^^^^^^^^^^^^^^^^\n",
      "  File \"D:\\Youtube\\TensorFlow Object Detection\\TFODCourse\\tfod\\Lib\\site-packages\\object_detection-0.1-py3.11.egg\\object_detection\\inputs.py\", line 908, in train_input\n",
      "    dataset = INPUT_BUILDER_UTIL_MAP['dataset_build'](\n",
      "              ^^^^^^^^^^^^^^^^^^^^^^^^^^^^^^^^^^^^^^^^\n",
      "  File \"D:\\Youtube\\TensorFlow Object Detection\\TFODCourse\\tfod\\Lib\\site-packages\\object_detection-0.1-py3.11.egg\\object_detection\\builders\\dataset_builder.py\", line 250, in build\n",
      "    dataset = dataset_map_fn(dataset, decoder.decode, batch_size,\n",
      "              ^^^^^^^^^^^^^^^^^^^^^^^^^^^^^^^^^^^^^^^^^^^^^^^^^^^\n",
      "  File \"D:\\Youtube\\TensorFlow Object Detection\\TFODCourse\\tfod\\Lib\\site-packages\\object_detection-0.1-py3.11.egg\\object_detection\\builders\\dataset_builder.py\", line 235, in dataset_map_fn\n",
      "    dataset = dataset.map_with_legacy_function(\n",
      "              ^^^^^^^^^^^^^^^^^^^^^^^^^^^^^^^^^\n",
      "  File \"D:\\Youtube\\TensorFlow Object Detection\\TFODCourse\\tfod\\Lib\\site-packages\\tensorflow\\python\\util\\deprecation.py\", line 383, in new_func\n",
      "    return func(*args, **kwargs)\n",
      "           ^^^^^^^^^^^^^^^^^^^^^\n",
      "  File \"D:\\Youtube\\TensorFlow Object Detection\\TFODCourse\\tfod\\Lib\\site-packages\\tensorflow\\python\\data\\ops\\dataset_ops.py\", line 4128, in map_with_legacy_function\n",
      "    return map_op._map_v1_with_legacy_function(\n",
      "           ^^^^^^^^^^^^^^^^^^^^^^^^^^^^^^^^^^^^\n",
      "  File \"D:\\Youtube\\TensorFlow Object Detection\\TFODCourse\\tfod\\Lib\\site-packages\\tensorflow\\python\\data\\ops\\map_op.py\", line 85, in _map_v1_with_legacy_function\n",
      "    _ParallelMapDataset(\n",
      "  File \"D:\\Youtube\\TensorFlow Object Detection\\TFODCourse\\tfod\\Lib\\site-packages\\tensorflow\\python\\data\\ops\\map_op.py\", line 148, in __init__\n",
      "    self._map_func = structured_function.StructuredFunctionWrapper(\n",
      "                     ^^^^^^^^^^^^^^^^^^^^^^^^^^^^^^^^^^^^^^^^^^^^^^\n",
      "  File \"D:\\Youtube\\TensorFlow Object Detection\\TFODCourse\\tfod\\Lib\\site-packages\\tensorflow\\python\\data\\ops\\structured_function.py\", line 272, in __init__\n",
      "    self._function.add_to_graph(ops.get_default_graph())\n",
      "  File \"D:\\Youtube\\TensorFlow Object Detection\\TFODCourse\\tfod\\Lib\\site-packages\\tensorflow\\python\\framework\\function.py\", line 579, in add_to_graph\n",
      "    self._create_definition_if_needed()\n",
      "  File \"D:\\Youtube\\TensorFlow Object Detection\\TFODCourse\\tfod\\Lib\\site-packages\\tensorflow\\python\\framework\\function.py\", line 412, in _create_definition_if_needed\n",
      "    self._create_definition_if_needed_impl()\n",
      "  File \"D:\\Youtube\\TensorFlow Object Detection\\TFODCourse\\tfod\\Lib\\site-packages\\tensorflow\\python\\framework\\function.py\", line 430, in _create_definition_if_needed_impl\n",
      "    temp_graph = func_graph_from_py_func(\n",
      "                 ^^^^^^^^^^^^^^^^^^^^^^^^\n",
      "  File \"D:\\Youtube\\TensorFlow Object Detection\\TFODCourse\\tfod\\Lib\\site-packages\\tensorflow\\python\\framework\\function.py\", line 1007, in func_graph_from_py_func\n",
      "    outputs = func(*func_graph.inputs)\n",
      "              ^^^^^^^^^^^^^^^^^^^^^^^^\n",
      "  File \"D:\\Youtube\\TensorFlow Object Detection\\TFODCourse\\tfod\\Lib\\site-packages\\tensorflow\\python\\data\\ops\\structured_function.py\", line 178, in wrapped_fn\n",
      "    ret = wrapper_helper(*args)\n",
      "          ^^^^^^^^^^^^^^^^^^^^^\n",
      "  File \"D:\\Youtube\\TensorFlow Object Detection\\TFODCourse\\tfod\\Lib\\site-packages\\tensorflow\\python\\data\\ops\\structured_function.py\", line 161, in wrapper_helper\n",
      "    ret = autograph.tf_convert(self._func, ag_ctx)(*nested_args)\n",
      "          ^^^^^^^^^^^^^^^^^^^^^^^^^^^^^^^^^^^^^^^^^^^^^^^^^^^^^^\n",
      "  File \"D:\\Youtube\\TensorFlow Object Detection\\TFODCourse\\tfod\\Lib\\site-packages\\tensorflow\\python\\autograph\\impl\\api.py\", line 693, in wrapper\n",
      "    raise e.ag_error_metadata.to_exception(e)\n",
      "  File \"D:\\Youtube\\TensorFlow Object Detection\\TFODCourse\\tfod\\Lib\\site-packages\\tensorflow\\python\\autograph\\impl\\api.py\", line 690, in wrapper\n",
      "    return converted_call(f, args, kwargs, options=options)\n",
      "           ^^^^^^^^^^^^^^^^^^^^^^^^^^^^^^^^^^^^^^^^^^^^^^^^\n",
      "  File \"D:\\Youtube\\TensorFlow Object Detection\\TFODCourse\\tfod\\Lib\\site-packages\\tensorflow\\python\\autograph\\impl\\api.py\", line 439, in converted_call\n",
      "    result = converted_f(*effective_args, **kwargs)\n",
      "             ^^^^^^^^^^^^^^^^^^^^^^^^^^^^^^^^^^^^^^\n",
      "  File \"C:\\Users\\MATEBOOK\\AppData\\Local\\Temp\\__autograph_generated_fileomv1iw68.py\", line 74, in tf__decode\n",
      "    tensors = ag__.converted_call(ag__.ld(decoder).decode, (ag__.ld(serialized_example),), dict(items=ag__.ld(keys)), fscope)\n",
      "              ^^^^^^^^^^^^^^^^^^^^^^^^^^^^^^^^^^^^^^^^^^^^^^^^^^^^^^^^^^^^^^^^^^^^^^^^^^^^^^^^^^^^^^^^^^^^^^^^^^^^^^^^^^^^^^^\n",
      "  File \"D:\\Youtube\\TensorFlow Object Detection\\TFODCourse\\tfod\\Lib\\site-packages\\tensorflow\\python\\autograph\\impl\\api.py\", line 439, in converted_call\n",
      "    result = converted_f(*effective_args, **kwargs)\n",
      "             ^^^^^^^^^^^^^^^^^^^^^^^^^^^^^^^^^^^^^^\n",
      "  File \"C:\\Users\\MATEBOOK\\AppData\\Local\\Temp\\__autograph_generated_file6johingy.py\", line 81, in tf__decode\n",
      "    ag__.for_stmt(ag__.ld(items), None, loop_body_1, get_state_3, set_state_3, (), {'iterate_names': 'item'})\n",
      "  File \"D:\\Youtube\\TensorFlow Object Detection\\TFODCourse\\tfod\\Lib\\site-packages\\tensorflow\\python\\autograph\\operators\\control_flow.py\", line 449, in for_stmt\n",
      "    for_fn(iter_, extra_test, body, get_state, set_state, symbol_names, opts)\n",
      "  File \"D:\\Youtube\\TensorFlow Object Detection\\TFODCourse\\tfod\\Lib\\site-packages\\tensorflow\\python\\autograph\\operators\\control_flow.py\", line 500, in _py_for_stmt\n",
      "    body(target)\n",
      "  File \"D:\\Youtube\\TensorFlow Object Detection\\TFODCourse\\tfod\\Lib\\site-packages\\tensorflow\\python\\autograph\\operators\\control_flow.py\", line 466, in protected_body\n",
      "    original_body(protected_iter)\n",
      "  File \"C:\\Users\\MATEBOOK\\AppData\\Local\\Temp\\__autograph_generated_file6johingy.py\", line 77, in loop_body_1\n",
      "    ag__.converted_call(ag__.ld(outputs).append, (ag__.converted_call(ag__.ld(handler).tensors_to_item, (ag__.ld(keys_to_tensors),), None, fscope),), None, fscope)\n",
      "                                                  ^^^^^^^^^^^^^^^^^^^^^^^^^^^^^^^^^^^^^^^^^^^^^^^^^^^^^^^^^^^^^^^^^^^^^^^^^^^^^^^^^^^^^^^^^^^^^^^^\n",
      "  File \"D:\\Youtube\\TensorFlow Object Detection\\TFODCourse\\tfod\\Lib\\site-packages\\tensorflow\\python\\autograph\\impl\\api.py\", line 441, in converted_call\n",
      "    result = converted_f(*effective_args)\n",
      "             ^^^^^^^^^^^^^^^^^^^^^^^^^^^^\n",
      "  File \"C:\\Users\\MATEBOOK\\AppData\\Local\\Temp\\__autograph_generated_file7gg5f_16.py\", line 39, in tf__tensors_to_item\n",
      "    ag__.if_stmt(ag__.ld(self)._repeated, if_body, else_body, get_state, set_state, ('do_return', 'retval_'), 2)\n",
      "  File \"D:\\Youtube\\TensorFlow Object Detection\\TFODCourse\\tfod\\Lib\\site-packages\\tensorflow\\python\\autograph\\operators\\control_flow.py\", line 1217, in if_stmt\n",
      "    _py_if_stmt(cond, body, orelse)\n",
      "  File \"D:\\Youtube\\TensorFlow Object Detection\\TFODCourse\\tfod\\Lib\\site-packages\\tensorflow\\python\\autograph\\operators\\control_flow.py\", line 1270, in _py_if_stmt\n",
      "    return body() if cond else orelse()\n",
      "                               ^^^^^^^^\n",
      "  File \"C:\\Users\\MATEBOOK\\AppData\\Local\\Temp\\__autograph_generated_file7gg5f_16.py\", line 35, in else_body\n",
      "    retval_ = ag__.converted_call(ag__.ld(self)._decode, (ag__.ld(image_buffer), ag__.ld(image_format)), None, fscope)\n",
      "              ^^^^^^^^^^^^^^^^^^^^^^^^^^^^^^^^^^^^^^^^^^^^^^^^^^^^^^^^^^^^^^^^^^^^^^^^^^^^^^^^^^^^^^^^^^^^^^^^^^^^^^^^\n",
      "  File \"D:\\Youtube\\TensorFlow Object Detection\\TFODCourse\\tfod\\Lib\\site-packages\\tensorflow\\python\\autograph\\impl\\api.py\", line 441, in converted_call\n",
      "    result = converted_f(*effective_args)\n",
      "             ^^^^^^^^^^^^^^^^^^^^^^^^^^^^\n",
      "  File \"C:\\Users\\MATEBOOK\\AppData\\Local\\Temp\\__autograph_generated_file57s115fb.py\", line 80, in tf___decode\n",
      "    image = ag__.converted_call(ag__.ld(control_flow_ops).case, (ag__.ld(pred_fn_pairs),), dict(default=ag__.ld(check_jpeg), exclusive=True), fscope)\n",
      "                                ^^^^^^^^^^^^^^^^^^^^^^^^^^^^^^\n",
      "AttributeError: in user code:\n",
      "\n",
      "    File \"D:\\Youtube\\TensorFlow Object Detection\\TFODCourse\\tfod\\Lib\\site-packages\\object_detection-0.1-py3.11.egg\\object_detection\\data_decoders\\tf_example_decoder.py\", line 556, in decode  *\n",
      "        tensors = decoder.decode(serialized_example, items=keys)\n",
      "    File \"D:\\Youtube\\TensorFlow Object Detection\\TFODCourse\\tfod\\Lib\\site-packages\\tf_slim-1.1.0-py3.11.egg\\tf_slim\\data\\tfexample_decoder.py\", line 722, in decode  *\n",
      "        outputs.append(handler.tensors_to_item(keys_to_tensors))\n",
      "    File \"D:\\Youtube\\TensorFlow Object Detection\\TFODCourse\\tfod\\Lib\\site-packages\\tf_slim-1.1.0-py3.11.egg\\tf_slim\\data\\tfexample_decoder.py\", line 405, in tensors_to_item  *\n",
      "        return self._decode(image_buffer, image_format)\n",
      "    File \"D:\\Youtube\\TensorFlow Object Detection\\TFODCourse\\tfod\\Lib\\site-packages\\tf_slim-1.1.0-py3.11.egg\\tf_slim\\data\\tfexample_decoder.py\", line 453, in _decode  *\n",
      "        image = control_flow_ops.case(\n",
      "\n",
      "    AttributeError: module 'tensorflow.python.ops.control_flow_ops' has no attribute 'case'\n",
      "\n"
     ]
    }
   ],
   "source": [
    "!{command}"
   ]
  },
  {
   "cell_type": "markdown",
   "metadata": {
    "id": "4_YRZu7npfDH"
   },
   "source": [
    "# 7. Evaluate the Model"
   ]
  },
  {
   "cell_type": "code",
   "execution_count": 21,
   "metadata": {
    "id": "80L7-fdPpfDH"
   },
   "outputs": [],
   "source": [
    "command = \"python {} --model_dir={} --pipeline_config_path={} --checkpoint_dir={}\".format(TRAINING_SCRIPT, paths['CHECKPOINT_PATH'],files['PIPELINE_CONFIG'], paths['CHECKPOINT_PATH'])"
   ]
  },
  {
   "cell_type": "code",
   "execution_count": 22,
   "metadata": {
    "colab": {
     "base_uri": "https://localhost:8080/"
    },
    "id": "lYsgEPx9pfDH",
    "outputId": "8632d48b-91d2-45d9-bcb8-c1b172bf6eed"
   },
   "outputs": [
    {
     "name": "stdout",
     "output_type": "stream",
     "text": [
      "python Tensorflow\\models\\research\\object_detection\\model_main_tf2.py --model_dir=Tensorflow\\workspace\\models\\my_ssd_mobnet_tuned --pipeline_config_path=Tensorflow\\workspace\\models\\my_ssd_mobnet_tuned\\pipeline.config --checkpoint_dir=Tensorflow\\workspace\\models\\my_ssd_mobnet_tuned\n"
     ]
    }
   ],
   "source": [
    "print(command)"
   ]
  },
  {
   "cell_type": "code",
   "execution_count": 23,
   "metadata": {
    "id": "lqTV2jGBpfDH"
   },
   "outputs": [
    {
     "name": "stderr",
     "output_type": "stream",
     "text": [
      "WARNING:tensorflow:Forced number of epochs for all eval validations to be 1.\n",
      "W0208 23:20:02.081710  1608 model_lib_v2.py:1089] Forced number of epochs for all eval validations to be 1.\n",
      "INFO:tensorflow:Maybe overwriting sample_1_of_n_eval_examples: None\n",
      "I0208 23:20:02.081710  1608 config_util.py:552] Maybe overwriting sample_1_of_n_eval_examples: None\n",
      "INFO:tensorflow:Maybe overwriting use_bfloat16: False\n",
      "I0208 23:20:02.081710  1608 config_util.py:552] Maybe overwriting use_bfloat16: False\n",
      "INFO:tensorflow:Maybe overwriting eval_num_epochs: 1\n",
      "I0208 23:20:02.081710  1608 config_util.py:552] Maybe overwriting eval_num_epochs: 1\n",
      "WARNING:tensorflow:Expected number of evaluation epochs is 1, but instead encountered `eval_on_train_input_config.num_epochs` = 0. Overwriting `num_epochs` to 1.\n",
      "W0208 23:20:02.081710  1608 model_lib_v2.py:1106] Expected number of evaluation epochs is 1, but instead encountered `eval_on_train_input_config.num_epochs` = 0. Overwriting `num_epochs` to 1.\n",
      "INFO:tensorflow:Reading unweighted datasets: ['Tensorflow\\\\workspace\\\\annotations\\\\test.record']\n",
      "I0208 23:20:02.336395  1608 dataset_builder.py:162] Reading unweighted datasets: ['Tensorflow\\\\workspace\\\\annotations\\\\test.record']\n",
      "INFO:tensorflow:Reading record datasets for input file: ['Tensorflow\\\\workspace\\\\annotations\\\\test.record']\n",
      "I0208 23:20:02.336395  1608 dataset_builder.py:79] Reading record datasets for input file: ['Tensorflow\\\\workspace\\\\annotations\\\\test.record']\n",
      "INFO:tensorflow:Number of filenames to read: 1\n",
      "I0208 23:20:02.336395  1608 dataset_builder.py:80] Number of filenames to read: 1\n",
      "WARNING:tensorflow:num_readers has been reduced to 1 to match input file shards.\n",
      "W0208 23:20:02.336395  1608 dataset_builder.py:86] num_readers has been reduced to 1 to match input file shards.\n",
      "WARNING:tensorflow:From D:\\Youtube\\TensorFlow Object Detection\\TFODCourse\\tfod\\Lib\\site-packages\\object_detection-0.1-py3.11.egg\\object_detection\\builders\\dataset_builder.py:100: parallel_interleave (from tensorflow.python.data.experimental.ops.interleave_ops) is deprecated and will be removed in a future version.\n",
      "Instructions for updating:\n",
      "Use `tf.data.Dataset.interleave(map_func, cycle_length, block_length, num_parallel_calls=tf.data.AUTOTUNE)` instead. If sloppy execution is desired, use `tf.data.Options.deterministic`.\n",
      "W0208 23:20:02.345509  1608 deprecation.py:50] From D:\\Youtube\\TensorFlow Object Detection\\TFODCourse\\tfod\\Lib\\site-packages\\object_detection-0.1-py3.11.egg\\object_detection\\builders\\dataset_builder.py:100: parallel_interleave (from tensorflow.python.data.experimental.ops.interleave_ops) is deprecated and will be removed in a future version.\n",
      "Instructions for updating:\n",
      "Use `tf.data.Dataset.interleave(map_func, cycle_length, block_length, num_parallel_calls=tf.data.AUTOTUNE)` instead. If sloppy execution is desired, use `tf.data.Options.deterministic`.\n",
      "WARNING:tensorflow:From D:\\Youtube\\TensorFlow Object Detection\\TFODCourse\\tfod\\Lib\\site-packages\\object_detection-0.1-py3.11.egg\\object_detection\\builders\\dataset_builder.py:235: DatasetV1.map_with_legacy_function (from tensorflow.python.data.ops.dataset_ops) is deprecated and will be removed in a future version.\n",
      "Instructions for updating:\n",
      "Use `tf.data.Dataset.map()\n",
      "W0208 23:20:02.416969  1608 deprecation.py:50] From D:\\Youtube\\TensorFlow Object Detection\\TFODCourse\\tfod\\Lib\\site-packages\\object_detection-0.1-py3.11.egg\\object_detection\\builders\\dataset_builder.py:235: DatasetV1.map_with_legacy_function (from tensorflow.python.data.ops.dataset_ops) is deprecated and will be removed in a future version.\n",
      "Instructions for updating:\n",
      "Use `tf.data.Dataset.map()\n",
      "Traceback (most recent call last):\n",
      "  File \"D:\\Youtube\\TensorFlow Object Detection\\TFODCourse\\Tensorflow\\models\\research\\object_detection\\model_main_tf2.py\", line 114, in <module>\n",
      "    tf.compat.v1.app.run()\n",
      "  File \"D:\\Youtube\\TensorFlow Object Detection\\TFODCourse\\tfod\\Lib\\site-packages\\tensorflow\\python\\platform\\app.py\", line 36, in run\n",
      "    _run(main=main, argv=argv, flags_parser=_parse_flags_tolerate_undef)\n",
      "  File \"D:\\Youtube\\TensorFlow Object Detection\\TFODCourse\\tfod\\Lib\\site-packages\\absl_py-2.0.0-py3.11.egg\\absl\\app.py\", line 308, in run\n",
      "    _run_main(main, args)\n",
      "  File \"D:\\Youtube\\TensorFlow Object Detection\\TFODCourse\\tfod\\Lib\\site-packages\\absl_py-2.0.0-py3.11.egg\\absl\\app.py\", line 254, in _run_main\n",
      "    sys.exit(main(argv))\n",
      "             ^^^^^^^^^^\n",
      "  File \"D:\\Youtube\\TensorFlow Object Detection\\TFODCourse\\Tensorflow\\models\\research\\object_detection\\model_main_tf2.py\", line 81, in main\n",
      "    model_lib_v2.eval_continuously(\n",
      "  File \"D:\\Youtube\\TensorFlow Object Detection\\TFODCourse\\tfod\\Lib\\site-packages\\object_detection-0.1-py3.11.egg\\object_detection\\model_lib_v2.py\", line 1123, in eval_continuously\n",
      "    inputs.eval_input(\n",
      "  File \"D:\\Youtube\\TensorFlow Object Detection\\TFODCourse\\tfod\\Lib\\site-packages\\object_detection-0.1-py3.11.egg\\object_detection\\inputs.py\", line 1071, in eval_input\n",
      "    dataset = INPUT_BUILDER_UTIL_MAP['dataset_build'](\n",
      "              ^^^^^^^^^^^^^^^^^^^^^^^^^^^^^^^^^^^^^^^^\n",
      "  File \"D:\\Youtube\\TensorFlow Object Detection\\TFODCourse\\tfod\\Lib\\site-packages\\object_detection-0.1-py3.11.egg\\object_detection\\builders\\dataset_builder.py\", line 250, in build\n",
      "    dataset = dataset_map_fn(dataset, decoder.decode, batch_size,\n",
      "              ^^^^^^^^^^^^^^^^^^^^^^^^^^^^^^^^^^^^^^^^^^^^^^^^^^^\n",
      "  File \"D:\\Youtube\\TensorFlow Object Detection\\TFODCourse\\tfod\\Lib\\site-packages\\object_detection-0.1-py3.11.egg\\object_detection\\builders\\dataset_builder.py\", line 235, in dataset_map_fn\n",
      "    dataset = dataset.map_with_legacy_function(\n",
      "              ^^^^^^^^^^^^^^^^^^^^^^^^^^^^^^^^^\n",
      "  File \"D:\\Youtube\\TensorFlow Object Detection\\TFODCourse\\tfod\\Lib\\site-packages\\tensorflow\\python\\util\\deprecation.py\", line 383, in new_func\n",
      "    return func(*args, **kwargs)\n",
      "           ^^^^^^^^^^^^^^^^^^^^^\n",
      "  File \"D:\\Youtube\\TensorFlow Object Detection\\TFODCourse\\tfod\\Lib\\site-packages\\tensorflow\\python\\data\\ops\\dataset_ops.py\", line 4098, in map_with_legacy_function\n",
      "    return map_op._map_v1_with_legacy_function(\n",
      "           ^^^^^^^^^^^^^^^^^^^^^^^^^^^^^^^^^^^^\n",
      "  File \"D:\\Youtube\\TensorFlow Object Detection\\TFODCourse\\tfod\\Lib\\site-packages\\tensorflow\\python\\data\\ops\\map_op.py\", line 85, in _map_v1_with_legacy_function\n",
      "    _ParallelMapDataset(\n",
      "  File \"D:\\Youtube\\TensorFlow Object Detection\\TFODCourse\\tfod\\Lib\\site-packages\\tensorflow\\python\\data\\ops\\map_op.py\", line 148, in __init__\n",
      "    self._map_func = structured_function.StructuredFunctionWrapper(\n",
      "                     ^^^^^^^^^^^^^^^^^^^^^^^^^^^^^^^^^^^^^^^^^^^^^^\n",
      "  File \"D:\\Youtube\\TensorFlow Object Detection\\TFODCourse\\tfod\\Lib\\site-packages\\tensorflow\\python\\data\\ops\\structured_function.py\", line 272, in __init__\n",
      "    self._function.add_to_graph(ops.get_default_graph())\n",
      "  File \"D:\\Youtube\\TensorFlow Object Detection\\TFODCourse\\tfod\\Lib\\site-packages\\tensorflow\\python\\framework\\function.py\", line 579, in add_to_graph\n",
      "    self._create_definition_if_needed()\n",
      "  File \"D:\\Youtube\\TensorFlow Object Detection\\TFODCourse\\tfod\\Lib\\site-packages\\tensorflow\\python\\framework\\function.py\", line 412, in _create_definition_if_needed\n",
      "    self._create_definition_if_needed_impl()\n",
      "  File \"D:\\Youtube\\TensorFlow Object Detection\\TFODCourse\\tfod\\Lib\\site-packages\\tensorflow\\python\\framework\\function.py\", line 430, in _create_definition_if_needed_impl\n",
      "    temp_graph = func_graph_from_py_func(\n",
      "                 ^^^^^^^^^^^^^^^^^^^^^^^^\n",
      "  File \"D:\\Youtube\\TensorFlow Object Detection\\TFODCourse\\tfod\\Lib\\site-packages\\tensorflow\\python\\framework\\function.py\", line 1007, in func_graph_from_py_func\n",
      "    outputs = func(*func_graph.inputs)\n",
      "              ^^^^^^^^^^^^^^^^^^^^^^^^\n",
      "  File \"D:\\Youtube\\TensorFlow Object Detection\\TFODCourse\\tfod\\Lib\\site-packages\\tensorflow\\python\\data\\ops\\structured_function.py\", line 178, in wrapped_fn\n",
      "    ret = wrapper_helper(*args)\n",
      "          ^^^^^^^^^^^^^^^^^^^^^\n",
      "  File \"D:\\Youtube\\TensorFlow Object Detection\\TFODCourse\\tfod\\Lib\\site-packages\\tensorflow\\python\\data\\ops\\structured_function.py\", line 161, in wrapper_helper\n",
      "    ret = autograph.tf_convert(self._func, ag_ctx)(*nested_args)\n",
      "          ^^^^^^^^^^^^^^^^^^^^^^^^^^^^^^^^^^^^^^^^^^^^^^^^^^^^^^\n",
      "  File \"D:\\Youtube\\TensorFlow Object Detection\\TFODCourse\\tfod\\Lib\\site-packages\\tensorflow\\python\\autograph\\impl\\api.py\", line 693, in wrapper\n",
      "    raise e.ag_error_metadata.to_exception(e)\n",
      "  File \"D:\\Youtube\\TensorFlow Object Detection\\TFODCourse\\tfod\\Lib\\site-packages\\tensorflow\\python\\autograph\\impl\\api.py\", line 690, in wrapper\n",
      "    return converted_call(f, args, kwargs, options=options)\n",
      "           ^^^^^^^^^^^^^^^^^^^^^^^^^^^^^^^^^^^^^^^^^^^^^^^^\n",
      "  File \"D:\\Youtube\\TensorFlow Object Detection\\TFODCourse\\tfod\\Lib\\site-packages\\tensorflow\\python\\autograph\\impl\\api.py\", line 439, in converted_call\n",
      "    result = converted_f(*effective_args, **kwargs)\n",
      "             ^^^^^^^^^^^^^^^^^^^^^^^^^^^^^^^^^^^^^^\n",
      "  File \"C:\\Users\\MATEBOOK\\AppData\\Local\\Temp\\__autograph_generated_fileppxwe6hy.py\", line 74, in tf__decode\n",
      "    tensors = ag__.converted_call(ag__.ld(decoder).decode, (ag__.ld(serialized_example),), dict(items=ag__.ld(keys)), fscope)\n",
      "              ^^^^^^^^^^^^^^^^^^^^^^^^^^^^^^^^^^^^^^^^^^^^^^^^^^^^^^^^^^^^^^^^^^^^^^^^^^^^^^^^^^^^^^^^^^^^^^^^^^^^^^^^^^^^^^^\n",
      "  File \"D:\\Youtube\\TensorFlow Object Detection\\TFODCourse\\tfod\\Lib\\site-packages\\tensorflow\\python\\autograph\\impl\\api.py\", line 439, in converted_call\n",
      "    result = converted_f(*effective_args, **kwargs)\n",
      "             ^^^^^^^^^^^^^^^^^^^^^^^^^^^^^^^^^^^^^^\n",
      "  File \"C:\\Users\\MATEBOOK\\AppData\\Local\\Temp\\__autograph_generated_file48vay_k4.py\", line 81, in tf__decode\n",
      "    ag__.for_stmt(ag__.ld(items), None, loop_body_1, get_state_3, set_state_3, (), {'iterate_names': 'item'})\n",
      "  File \"D:\\Youtube\\TensorFlow Object Detection\\TFODCourse\\tfod\\Lib\\site-packages\\tensorflow\\python\\autograph\\operators\\control_flow.py\", line 454, in for_stmt\n",
      "    for_fn(iter_, extra_test, body, get_state, set_state, symbol_names, opts)\n",
      "  File \"D:\\Youtube\\TensorFlow Object Detection\\TFODCourse\\tfod\\Lib\\site-packages\\tensorflow\\python\\autograph\\operators\\control_flow.py\", line 505, in _py_for_stmt\n",
      "    body(target)\n",
      "  File \"D:\\Youtube\\TensorFlow Object Detection\\TFODCourse\\tfod\\Lib\\site-packages\\tensorflow\\python\\autograph\\operators\\control_flow.py\", line 471, in protected_body\n",
      "    original_body(protected_iter)\n",
      "  File \"C:\\Users\\MATEBOOK\\AppData\\Local\\Temp\\__autograph_generated_file48vay_k4.py\", line 77, in loop_body_1\n",
      "    ag__.converted_call(ag__.ld(outputs).append, (ag__.converted_call(ag__.ld(handler).tensors_to_item, (ag__.ld(keys_to_tensors),), None, fscope),), None, fscope)\n",
      "                                                  ^^^^^^^^^^^^^^^^^^^^^^^^^^^^^^^^^^^^^^^^^^^^^^^^^^^^^^^^^^^^^^^^^^^^^^^^^^^^^^^^^^^^^^^^^^^^^^^^\n",
      "  File \"D:\\Youtube\\TensorFlow Object Detection\\TFODCourse\\tfod\\Lib\\site-packages\\tensorflow\\python\\autograph\\impl\\api.py\", line 441, in converted_call\n",
      "    result = converted_f(*effective_args)\n",
      "             ^^^^^^^^^^^^^^^^^^^^^^^^^^^^\n",
      "  File \"C:\\Users\\MATEBOOK\\AppData\\Local\\Temp\\__autograph_generated_fileqszn5e9k.py\", line 39, in tf__tensors_to_item\n",
      "    ag__.if_stmt(ag__.ld(self)._repeated, if_body, else_body, get_state, set_state, ('do_return', 'retval_'), 2)\n",
      "  File \"D:\\Youtube\\TensorFlow Object Detection\\TFODCourse\\tfod\\Lib\\site-packages\\tensorflow\\python\\autograph\\operators\\control_flow.py\", line 1269, in if_stmt\n",
      "    _py_if_stmt(cond, body, orelse)\n",
      "  File \"D:\\Youtube\\TensorFlow Object Detection\\TFODCourse\\tfod\\Lib\\site-packages\\tensorflow\\python\\autograph\\operators\\control_flow.py\", line 1322, in _py_if_stmt\n",
      "    return body() if cond else orelse()\n",
      "                               ^^^^^^^^\n",
      "  File \"C:\\Users\\MATEBOOK\\AppData\\Local\\Temp\\__autograph_generated_fileqszn5e9k.py\", line 35, in else_body\n",
      "    retval_ = ag__.converted_call(ag__.ld(self)._decode, (ag__.ld(image_buffer), ag__.ld(image_format)), None, fscope)\n",
      "              ^^^^^^^^^^^^^^^^^^^^^^^^^^^^^^^^^^^^^^^^^^^^^^^^^^^^^^^^^^^^^^^^^^^^^^^^^^^^^^^^^^^^^^^^^^^^^^^^^^^^^^^^\n",
      "  File \"D:\\Youtube\\TensorFlow Object Detection\\TFODCourse\\tfod\\Lib\\site-packages\\tensorflow\\python\\autograph\\impl\\api.py\", line 441, in converted_call\n",
      "    result = converted_f(*effective_args)\n",
      "             ^^^^^^^^^^^^^^^^^^^^^^^^^^^^\n",
      "  File \"C:\\Users\\MATEBOOK\\AppData\\Local\\Temp\\__autograph_generated_filejte29m87.py\", line 80, in tf___decode\n",
      "    image = ag__.converted_call(ag__.ld(control_flow_ops).case, (ag__.ld(pred_fn_pairs),), dict(default=ag__.ld(check_jpeg), exclusive=True), fscope)\n",
      "                                ^^^^^^^^^^^^^^^^^^^^^^^^^^^^^^\n",
      "AttributeError: in user code:\n",
      "\n",
      "    File \"D:\\Youtube\\TensorFlow Object Detection\\TFODCourse\\tfod\\Lib\\site-packages\\object_detection-0.1-py3.11.egg\\object_detection\\data_decoders\\tf_example_decoder.py\", line 556, in decode  *\n",
      "        tensors = decoder.decode(serialized_example, items=keys)\n",
      "    File \"D:\\Youtube\\TensorFlow Object Detection\\TFODCourse\\tfod\\Lib\\site-packages\\tf_slim-1.1.0-py3.11.egg\\tf_slim\\data\\tfexample_decoder.py\", line 722, in decode  *\n",
      "        outputs.append(handler.tensors_to_item(keys_to_tensors))\n",
      "    File \"D:\\Youtube\\TensorFlow Object Detection\\TFODCourse\\tfod\\Lib\\site-packages\\tf_slim-1.1.0-py3.11.egg\\tf_slim\\data\\tfexample_decoder.py\", line 405, in tensors_to_item  *\n",
      "        return self._decode(image_buffer, image_format)\n",
      "    File \"D:\\Youtube\\TensorFlow Object Detection\\TFODCourse\\tfod\\Lib\\site-packages\\tf_slim-1.1.0-py3.11.egg\\tf_slim\\data\\tfexample_decoder.py\", line 453, in _decode  *\n",
      "        image = control_flow_ops.case(\n",
      "\n",
      "    AttributeError: module 'tensorflow.python.ops.control_flow_ops' has no attribute 'case'\n",
      "\n"
     ]
    }
   ],
   "source": [
    "!{command}"
   ]
  },
  {
   "cell_type": "markdown",
   "metadata": {
    "id": "orvRk02UpfDI"
   },
   "source": [
    "# 8. Load Train Model From Checkpoint"
   ]
  },
  {
   "cell_type": "code",
   "execution_count": 5,
   "metadata": {
    "id": "8TYk4_oIpfDI"
   },
   "outputs": [
    {
     "name": "stdout",
     "output_type": "stream",
     "text": [
      "WARNING:tensorflow:From D:\\Youtube\\TensorFlow Object Detection\\TFODCourse\\tfod\\Lib\\site-packages\\keras\\src\\losses.py:2976: The name tf.losses.sparse_softmax_cross_entropy is deprecated. Please use tf.compat.v1.losses.sparse_softmax_cross_entropy instead.\n",
      "\n"
     ]
    }
   ],
   "source": [
    "import os\n",
    "import tensorflow as tf\n",
    "from object_detection.utils import label_map_util\n",
    "from object_detection.utils import visualization_utils as viz_utils\n",
    "from object_detection.builders import model_builder\n",
    "from object_detection.utils import config_util"
   ]
  },
  {
   "cell_type": "code",
   "execution_count": 6,
   "metadata": {
    "id": "tDnQg-cYpfDI"
   },
   "outputs": [
    {
     "name": "stdout",
     "output_type": "stream",
     "text": [
      "WARNING:tensorflow:From D:\\Youtube\\TensorFlow Object Detection\\TFODCourse\\tfod\\Lib\\site-packages\\object_detection-0.1-py3.11.egg\\object_detection\\utils\\config_util.py:137: The name tf.gfile.GFile is deprecated. Please use tf.io.gfile.GFile instead.\n",
      "\n",
      "WARNING:tensorflow:From D:\\Youtube\\TensorFlow Object Detection\\TFODCourse\\tfod\\Lib\\site-packages\\keras\\src\\backend.py:873: The name tf.get_default_graph is deprecated. Please use tf.compat.v1.get_default_graph instead.\n",
      "\n"
     ]
    }
   ],
   "source": [
    "# Load pipeline config and build a detection model\n",
    "configs = config_util.get_configs_from_pipeline_file(files['PIPELINE_CONFIG'])\n",
    "detection_model = model_builder.build(model_config=configs['model'], is_training=False)\n",
    "\n",
    "# Restore checkpoint\n",
    "ckpt = tf.compat.v2.train.Checkpoint(model=detection_model)\n",
    "ckpt.restore(os.path.join(paths['CHECKPOINT_PATH'], 'ckpt-5')).expect_partial()\n",
    "\n",
    "@tf.function\n",
    "def detect_fn(image):\n",
    "    image, shapes = detection_model.preprocess(image)\n",
    "    prediction_dict = detection_model.predict(image, shapes)\n",
    "    detections = detection_model.postprocess(prediction_dict, shapes)\n",
    "    return detections"
   ]
  },
  {
   "cell_type": "code",
   "execution_count": 11,
   "metadata": {},
   "outputs": [
    {
     "name": "stdout",
     "output_type": "stream",
     "text": [
      "2.15.0\n"
     ]
    }
   ],
   "source": [
    "import keras\n",
    "\n",
    "print(keras.__version__)"
   ]
  },
  {
   "cell_type": "markdown",
   "metadata": {
    "id": "0EmsmbBZpfDI"
   },
   "source": [
    "# 9. Detect from an Image"
   ]
  },
  {
   "cell_type": "code",
   "execution_count": 7,
   "metadata": {
    "id": "Y_MKiuZ4pfDI"
   },
   "outputs": [],
   "source": [
    "import cv2 \n",
    "import numpy as np\n",
    "from matplotlib import pyplot as plt\n",
    "%matplotlib inline"
   ]
  },
  {
   "cell_type": "code",
   "execution_count": 6,
   "metadata": {},
   "outputs": [
    {
     "name": "stdout",
     "output_type": "stream",
     "text": [
      "TensorFlow version: 3.8.2\n"
     ]
    }
   ],
   "source": [
    "import matplotlib as plt\n",
    "print(\"TensorFlow version:\", plt.__version__)"
   ]
  },
  {
   "cell_type": "code",
   "execution_count": 8,
   "metadata": {
    "id": "cBDbIhNapfDI"
   },
   "outputs": [
    {
     "name": "stdout",
     "output_type": "stream",
     "text": [
      "{1: {'id': 1, 'name': 'Carrot'}, 2: {'id': 2, 'name': 'Corn'}, 3: {'id': 3, 'name': 'Dijon_mustard'}, 4: {'id': 4, 'name': 'Egg'}, 5: {'id': 5, 'name': 'Basil_leaves'}, 6: {'id': 6, 'name': 'Honey'}, 7: {'id': 7, 'name': 'Balsamic_glaze'}, 8: {'id': 8, 'name': 'Mozzarella'}, 9: {'id': 9, 'name': 'Cheese'}, 10: {'id': 10, 'name': 'Onion'}, 11: {'id': 11, 'name': 'Zucchini'}, 12: {'id': 12, 'name': 'Spaghetti'}, 13: {'id': 13, 'name': 'Parsley'}, 14: {'id': 14, 'name': 'Rice'}, 15: {'id': 15, 'name': 'Pasta'}, 16: {'id': 16, 'name': 'Broccoli'}, 17: {'id': 17, 'name': 'Milk'}, 18: {'id': 18, 'name': 'Chicken_breast'}, 19: {'id': 19, 'name': 'Olive_oil'}, 20: {'id': 20, 'name': 'Beans'}, 21: {'id': 21, 'name': 'Red_pepper_flakes'}, 22: {'id': 22, 'name': 'Mushroom'}, 23: {'id': 23, 'name': 'Tortillas'}, 24: {'id': 24, 'name': 'Lettuce'}, 25: {'id': 25, 'name': 'Garlic'}, 26: {'id': 26, 'name': 'Mayonnaise'}, 27: {'id': 27, 'name': 'Tuna'}, 28: {'id': 28, 'name': 'Baguette'}, 29: {'id': 29, 'name': 'Tomatoes'}, 30: {'id': 30, 'name': 'Celery'}, 31: {'id': 31, 'name': 'Bell_pepper'}, 32: {'id': 32, 'name': 'Ginger'}, 33: {'id': 33, 'name': 'Soy_sauce'}}\n",
      "Tensorflow\\workspace\\annotations\\label_map.pbtxt\n"
     ]
    }
   ],
   "source": [
    "category_index = label_map_util.create_category_index_from_labelmap(files['LABELMAP'])\n",
    "print(category_index)\n",
    "print(files[\"LABELMAP\"])"
   ]
  },
  {
   "cell_type": "code",
   "execution_count": null,
   "metadata": {
    "id": "Lx3crOhOzITB"
   },
   "outputs": [],
   "source": [
    "IMAGE_PATH = os.path.join(paths['IMAGE_PATH'], 'test', 'livelong.02533422-940e-11eb-9dbd-5cf3709bbcc6.jpg')"
   ]
  },
  {
   "cell_type": "code",
   "execution_count": null,
   "metadata": {
    "colab": {
     "base_uri": "https://localhost:8080/",
     "height": 269
    },
    "id": "Tpzn1SMry1yK",
    "outputId": "c392a2c5-10fe-4fc4-9998-a1d4c7db2bd3"
   },
   "outputs": [],
   "source": [
    "img = cv2.imread(IMAGE_PATH)\n",
    "image_np = np.array(img)\n",
    "\n",
    "input_tensor = tf.convert_to_tensor(np.expand_dims(image_np, 0), dtype=tf.float32)\n",
    "detections = detect_fn(input_tensor)\n",
    "\n",
    "num_detections = int(detections.pop('num_detections'))\n",
    "detections = {key: value[0, :num_detections].numpy()\n",
    "              for key, value in detections.items()}\n",
    "detections['num_detections'] = num_detections\n",
    "\n",
    "# detection_classes should be ints.\n",
    "detections['detection_classes'] = detections['detection_classes'].astype(np.int64)\n",
    "\n",
    "label_id_offset = 1\n",
    "image_np_with_detections = image_np.copy()\n",
    "\n",
    "viz_utils.visualize_boxes_and_labels_on_image_array(\n",
    "            image_np_with_detections,\n",
    "            detections['detection_boxes'],\n",
    "            detections['detection_classes']+label_id_offset,\n",
    "            detections['detection_scores'],\n",
    "            category_index,\n",
    "            use_normalized_coordinates=True,\n",
    "            max_boxes_to_draw=5,\n",
    "            min_score_thresh=.8,\n",
    "            agnostic_mode=False)\n",
    "\n",
    "plt.imshow(cv2.cvtColor(image_np_with_detections, cv2.COLOR_BGR2RGB))\n",
    "plt.show()"
   ]
  },
  {
   "cell_type": "markdown",
   "metadata": {
    "id": "IsNAaYAo0WVL"
   },
   "source": [
    "# 10. Real Time Detections from your Webcam"
   ]
  },
  {
   "cell_type": "code",
   "execution_count": null,
   "metadata": {},
   "outputs": [],
   "source": [
    "!pip uninstall opencv-python-headless -y"
   ]
  },
  {
   "cell_type": "code",
   "execution_count": 75,
   "metadata": {},
   "outputs": [],
   "source": [
    "import cv2\n",
    "import numpy as np"
   ]
  },
  {
   "cell_type": "code",
   "execution_count": 15,
   "metadata": {},
   "outputs": [
    {
     "name": "stdout",
     "output_type": "stream",
     "text": [
      "Collecting pyttsx3\n",
      "  Downloading pyttsx3-2.90-py3-none-any.whl (39 kB)\n",
      "Collecting comtypes (from pyttsx3)\n",
      "  Downloading comtypes-1.2.1-py2.py3-none-any.whl.metadata (3.8 kB)\n",
      "Collecting pypiwin32 (from pyttsx3)\n",
      "  Downloading pypiwin32-223-py3-none-any.whl (1.7 kB)\n",
      "Requirement already satisfied: pywin32 in d:\\youtube\\tensorflow object detection\\tfodcourse\\tfod\\lib\\site-packages (from pyttsx3) (306)\n",
      "Downloading comtypes-1.2.1-py2.py3-none-any.whl (184 kB)\n",
      "   ---------------------------------------- 0.0/184.9 kB ? eta -:--:--\n",
      "   ------------------------ --------------- 112.6/184.9 kB 3.3 MB/s eta 0:00:01\n",
      "   ---------------------------------------  184.3/184.9 kB 2.2 MB/s eta 0:00:01\n",
      "   ---------------------------------------- 184.9/184.9 kB 1.6 MB/s eta 0:00:00\n",
      "Installing collected packages: comtypes, pypiwin32, pyttsx3\n",
      "Successfully installed comtypes-1.2.1 pypiwin32-223 pyttsx3-2.90\n",
      "Note: you may need to restart the kernel to use updated packages.\n"
     ]
    },
    {
     "name": "stderr",
     "output_type": "stream",
     "text": [
      "DEPRECATION: Loading egg at d:\\youtube\\tensorflow object detection\\tfodcourse\\tfod\\lib\\site-packages\\absl_py-2.0.0-py3.11.egg is deprecated. pip 24.3 will enforce this behaviour change. A possible replacement is to use pip for package installation.. Discussion can be found at https://github.com/pypa/pip/issues/12330\n",
      "DEPRECATION: Loading egg at d:\\youtube\\tensorflow object detection\\tfodcourse\\tfod\\lib\\site-packages\\apache_beam-2.52.0-py3.11-win-amd64.egg is deprecated. pip 24.3 will enforce this behaviour change. A possible replacement is to use pip for package installation.. Discussion can be found at https://github.com/pypa/pip/issues/12330\n",
      "DEPRECATION: Loading egg at d:\\youtube\\tensorflow object detection\\tfodcourse\\tfod\\lib\\site-packages\\avro_python3-1.10.2-py3.11.egg is deprecated. pip 24.3 will enforce this behaviour change. A possible replacement is to use pip for package installation.. Discussion can be found at https://github.com/pypa/pip/issues/12330\n",
      "DEPRECATION: Loading egg at d:\\youtube\\tensorflow object detection\\tfodcourse\\tfod\\lib\\site-packages\\contextlib2-21.6.0-py3.11.egg is deprecated. pip 24.3 will enforce this behaviour change. A possible replacement is to use pip for package installation.. Discussion can be found at https://github.com/pypa/pip/issues/12330\n",
      "DEPRECATION: Loading egg at d:\\youtube\\tensorflow object detection\\tfodcourse\\tfod\\lib\\site-packages\\cython-3.0.6-py3.11.egg is deprecated. pip 24.3 will enforce this behaviour change. A possible replacement is to use pip for package installation.. Discussion can be found at https://github.com/pypa/pip/issues/12330\n",
      "DEPRECATION: Loading egg at d:\\youtube\\tensorflow object detection\\tfodcourse\\tfod\\lib\\site-packages\\dm_tree-0.1.8-py3.11-win-amd64.egg is deprecated. pip 24.3 will enforce this behaviour change. A possible replacement is to use pip for package installation.. Discussion can be found at https://github.com/pypa/pip/issues/12330\n",
      "DEPRECATION: Loading egg at d:\\youtube\\tensorflow object detection\\tfodcourse\\tfod\\lib\\site-packages\\h5py-3.10.0-py3.11-win-amd64.egg is deprecated. pip 24.3 will enforce this behaviour change. A possible replacement is to use pip for package installation.. Discussion can be found at https://github.com/pypa/pip/issues/12330\n",
      "DEPRECATION: Loading egg at d:\\youtube\\tensorflow object detection\\tfodcourse\\tfod\\lib\\site-packages\\lvis-0.5.3-py3.11.egg is deprecated. pip 24.3 will enforce this behaviour change. A possible replacement is to use pip for package installation.. Discussion can be found at https://github.com/pypa/pip/issues/12330\n",
      "DEPRECATION: Loading egg at d:\\youtube\\tensorflow object detection\\tfodcourse\\tfod\\lib\\site-packages\\namex-0.0.7-py3.11.egg is deprecated. pip 24.3 will enforce this behaviour change. A possible replacement is to use pip for package installation.. Discussion can be found at https://github.com/pypa/pip/issues/12330\n",
      "DEPRECATION: Loading egg at d:\\youtube\\tensorflow object detection\\tfodcourse\\tfod\\lib\\site-packages\\object_detection-0.1-py3.11.egg is deprecated. pip 24.3 will enforce this behaviour change. A possible replacement is to use pip for package installation.. Discussion can be found at https://github.com/pypa/pip/issues/12330\n",
      "DEPRECATION: Loading egg at d:\\youtube\\tensorflow object detection\\tfodcourse\\tfod\\lib\\site-packages\\pandas-2.1.4-py3.11-win-amd64.egg is deprecated. pip 24.3 will enforce this behaviour change. A possible replacement is to use pip for package installation.. Discussion can be found at https://github.com/pypa/pip/issues/12330\n",
      "DEPRECATION: Loading egg at d:\\youtube\\tensorflow object detection\\tfodcourse\\tfod\\lib\\site-packages\\pillow-10.1.0-py3.11-win-amd64.egg is deprecated. pip 24.3 will enforce this behaviour change. A possible replacement is to use pip for package installation.. Discussion can be found at https://github.com/pypa/pip/issues/12330\n",
      "DEPRECATION: Loading egg at d:\\youtube\\tensorflow object detection\\tfodcourse\\tfod\\lib\\site-packages\\portalocker-2.8.2-py3.11.egg is deprecated. pip 24.3 will enforce this behaviour change. A possible replacement is to use pip for package installation.. Discussion can be found at https://github.com/pypa/pip/issues/12330\n",
      "DEPRECATION: Loading egg at d:\\youtube\\tensorflow object detection\\tfodcourse\\tfod\\lib\\site-packages\\pycocotools-2.0.7-py3.11-win-amd64.egg is deprecated. pip 24.3 will enforce this behaviour change. A possible replacement is to use pip for package installation.. Discussion can be found at https://github.com/pypa/pip/issues/12330\n",
      "DEPRECATION: Loading egg at d:\\youtube\\tensorflow object detection\\tfodcourse\\tfod\\lib\\site-packages\\pyparsing-2.4.7-py3.11.egg is deprecated. pip 24.3 will enforce this behaviour change. A possible replacement is to use pip for package installation.. Discussion can be found at https://github.com/pypa/pip/issues/12330\n",
      "DEPRECATION: Loading egg at d:\\youtube\\tensorflow object detection\\tfodcourse\\tfod\\lib\\site-packages\\regex-2023.10.3-py3.11-win-amd64.egg is deprecated. pip 24.3 will enforce this behaviour change. A possible replacement is to use pip for package installation.. Discussion can be found at https://github.com/pypa/pip/issues/12330\n",
      "DEPRECATION: Loading egg at d:\\youtube\\tensorflow object detection\\tfodcourse\\tfod\\lib\\site-packages\\rich-13.7.0-py3.11.egg is deprecated. pip 24.3 will enforce this behaviour change. A possible replacement is to use pip for package installation.. Discussion can be found at https://github.com/pypa/pip/issues/12330\n",
      "DEPRECATION: Loading egg at d:\\youtube\\tensorflow object detection\\tfodcourse\\tfod\\lib\\site-packages\\sacrebleu-2.2.0-py3.11.egg is deprecated. pip 24.3 will enforce this behaviour change. A possible replacement is to use pip for package installation.. Discussion can be found at https://github.com/pypa/pip/issues/12330\n",
      "DEPRECATION: Loading egg at d:\\youtube\\tensorflow object detection\\tfodcourse\\tfod\\lib\\site-packages\\scipy-1.11.4-py3.11-win-amd64.egg is deprecated. pip 24.3 will enforce this behaviour change. A possible replacement is to use pip for package installation.. Discussion can be found at https://github.com/pypa/pip/issues/12330\n",
      "DEPRECATION: Loading egg at d:\\youtube\\tensorflow object detection\\tfodcourse\\tfod\\lib\\site-packages\\tabulate-0.9.0-py3.11.egg is deprecated. pip 24.3 will enforce this behaviour change. A possible replacement is to use pip for package installation.. Discussion can be found at https://github.com/pypa/pip/issues/12330\n",
      "DEPRECATION: Loading egg at d:\\youtube\\tensorflow object detection\\tfodcourse\\tfod\\lib\\site-packages\\tensorflow_io-0.31.0-py3.11-win-amd64.egg is deprecated. pip 24.3 will enforce this behaviour change. A possible replacement is to use pip for package installation.. Discussion can be found at https://github.com/pypa/pip/issues/12330\n",
      "DEPRECATION: Loading egg at d:\\youtube\\tensorflow object detection\\tfodcourse\\tfod\\lib\\site-packages\\tensorflow_io_gcs_filesystem-0.31.0-py3.11-win-amd64.egg is deprecated. pip 24.3 will enforce this behaviour change. A possible replacement is to use pip for package installation.. Discussion can be found at https://github.com/pypa/pip/issues/12330\n",
      "DEPRECATION: Loading egg at d:\\youtube\\tensorflow object detection\\tfodcourse\\tfod\\lib\\site-packages\\tf_models_official-2.15.0-py3.11.egg is deprecated. pip 24.3 will enforce this behaviour change. A possible replacement is to use pip for package installation.. Discussion can be found at https://github.com/pypa/pip/issues/12330\n",
      "DEPRECATION: Loading egg at d:\\youtube\\tensorflow object detection\\tfodcourse\\tfod\\lib\\site-packages\\tf_slim-1.1.0-py3.11.egg is deprecated. pip 24.3 will enforce this behaviour change. A possible replacement is to use pip for package installation.. Discussion can be found at https://github.com/pypa/pip/issues/12330\n",
      "\n",
      "[notice] A new release of pip is available: 23.3.1 -> 23.3.2\n",
      "[notice] To update, run: python.exe -m pip install --upgrade pip\n"
     ]
    }
   ],
   "source": [
    "pip install pyttsx3"
   ]
  },
  {
   "cell_type": "code",
   "execution_count": 10,
   "metadata": {
    "id": "o_grs6OGpfDJ"
   },
   "outputs": [],
   "source": [
    "cap = cv2.VideoCapture(0)\n",
    "width = int(cap.get(cv2.CAP_PROP_FRAME_WIDTH))\n",
    "height = int(cap.get(cv2.CAP_PROP_FRAME_HEIGHT))\n",
    "\n",
    "while cap.isOpened(): \n",
    "    ret, frame = cap.read()\n",
    "    image_np = np.array(frame)\n",
    "    \n",
    "    input_tensor = tf.convert_to_tensor(np.expand_dims(image_np, 0), dtype=tf.float32)\n",
    "    detections = detect_fn(input_tensor)\n",
    "    \n",
    "    num_detections = int(detections.pop('num_detections'))\n",
    "    detections = {key: value[0, :num_detections].numpy()\n",
    "                  for key, value in detections.items()}\n",
    "    detections['num_detections'] = num_detections\n",
    "\n",
    "    # detection_classes should be ints.\n",
    "    detections['detection_classes'] = detections['detection_classes'].astype(np.int64)\n",
    "\n",
    "    label_id_offset = 1\n",
    "    image_np_with_detections = image_np.copy()\n",
    "\n",
    "    viz_utils.visualize_boxes_and_labels_on_image_array(\n",
    "                image_np_with_detections,\n",
    "                detections['detection_boxes'],\n",
    "                detections['detection_classes']+label_id_offset,\n",
    "                detections['detection_scores'],\n",
    "                category_index,\n",
    "                use_normalized_coordinates=True,\n",
    "                max_boxes_to_draw=5,\n",
    "                min_score_thresh=.9,\n",
    "                agnostic_mode=False)\n",
    "\n",
    "    cv2.imshow('object detection',  cv2.resize(image_np_with_detections, (800, 600)))\n",
    "    \n",
    "    if cv2.waitKey(10) & 0xFF == ord('q'):\n",
    "        cap.release()\n",
    "        cv2.destroyAllWindows()\n",
    "        break"
   ]
  },
  {
   "cell_type": "code",
   "execution_count": 13,
   "metadata": {},
   "outputs": [],
   "source": [
    "import urllib.request\n",
    "import cv2\n",
    "import numpy as np\n",
    "import time\n",
    "URL = \"http://192.168.1.4:8080/shot.jpg\"\n",
    "while True:\n",
    "    img_arr = np.array(bytearray(urllib.request.urlopen(URL).read()),dtype=np.uint8)\n",
    "    img = cv2.imdecode(img_arr,-1)\n",
    "    cv2.imshow('IPWebcam',img)\n",
    "    q = cv2.waitKey(1)\n",
    "    if q == ord(\"q\"):\n",
    "        break;\n",
    "\n",
    "    \n",
    "cv2.destroyAllWindows()"
   ]
  },
  {
   "cell_type": "code",
   "execution_count": null,
   "metadata": {},
   "outputs": [],
   "source": [
    "import cv2\n",
    "import numpy as np\n",
    "import tensorflow as tf\n",
    "import pyttsx3\n",
    "from object_detection.utils import label_map_util\n",
    "from object_detection.utils import visualization_utils as viz_utils\n",
    "\n",
    "# Initialize text-to-speech engine\n",
    "engine = pyttsx3.init()\n",
    "\n",
    "# Define the path to the label map and category index\n",
    "PATH_TO_LABELS = files['LABELMAP']\n",
    "category_index = label_map_util.create_category_index_from_labelmap(PATH_TO_LABELS, use_display_name=True)\n",
    "\n",
    "# Your object detection function (e.g., `detect_fn`) and other setup here...\n",
    "\n",
    "cap = cv2.VideoCapture(0)\n",
    "width = int(cap.get(cv2.CAP_PROP_FRAME_WIDTH))\n",
    "height = int(cap.get(cv2.CAP_PROP_FRAME_HEIGHT))\n",
    "\n",
    "while cap.isOpened(): \n",
    "    ret, frame = cap.read()\n",
    "    image_np = np.array(frame)\n",
    "    \n",
    "    input_tensor = tf.convert_to_tensor(np.expand_dims(image_np, 0), dtype=tf.float32)\n",
    "    detections = detect_fn(input_tensor)\n",
    "    \n",
    "    num_detections = int(detections.pop('num_detections'))\n",
    "    detections = {key: value[0, :num_detections].numpy()\n",
    "                  for key, value in detections.items()}\n",
    "    detections['num_detections'] = num_detections\n",
    "\n",
    "    # detection_classes should be ints.\n",
    "    detections['detection_classes'] = detections['detection_classes'].astype(np.int64)\n",
    "\n",
    "    label_id_offset = 1\n",
    "    image_np_with_detections = image_np.copy()\n",
    "\n",
    "    viz_utils.visualize_boxes_and_labels_on_image_array(\n",
    "                image_np_with_detections,\n",
    "                detections['detection_boxes'],\n",
    "                detections['detection_classes']+label_id_offset,\n",
    "                detections['detection_scores'],\n",
    "                category_index,\n",
    "                use_normalized_coordinates=True,\n",
    "                max_boxes_to_draw=5,\n",
    "                min_score_thresh=.8,\n",
    "                agnostic_mode=False)\n",
    "\n",
    "    cv2.imshow('object detection',  cv2.resize(image_np_with_detections, (800, 600)))\n",
    "    \n",
    "    # Check if any objects are detected\n",
    "    if 'detection_classes' in detections and len(detections['detection_classes']) > 0:\n",
    "        # Reading the label using voice\n",
    "        detected_labels = []\n",
    "        for class_id in detections['detection_classes']:\n",
    "            if int(class_id) in category_index:\n",
    "                detected_labels.append(category_index[int(class_id)]['name'])\n",
    "        if detected_labels:\n",
    "            detected_labels_str = \", \".join(detected_labels)\n",
    "            engine.say(f\"I see {detected_labels_str}\")\n",
    "            engine.runAndWait()\n",
    "    \n",
    "    if cv2.waitKey(10) & 0xFF == ord('q'):\n",
    "        cap.release()\n",
    "        cv2.destroyAllWindows()\n",
    "        break\n"
   ]
  },
  {
   "cell_type": "markdown",
   "metadata": {
    "id": "rzlM4jt0pfDJ"
   },
   "source": [
    "# 10. Freezing the Graph"
   ]
  },
  {
   "cell_type": "code",
   "execution_count": 54,
   "metadata": {
    "id": "n4olHB2npfDJ"
   },
   "outputs": [],
   "source": [
    "FREEZE_SCRIPT = os.path.join(paths['APIMODEL_PATH'], 'research', 'object_detection', 'exporter_main_v2.py ')"
   ]
  },
  {
   "cell_type": "code",
   "execution_count": 55,
   "metadata": {
    "id": "0AjO93QDpfDJ"
   },
   "outputs": [],
   "source": [
    "command = \"python {} --input_type=image_tensor --pipeline_config_path={} --trained_checkpoint_dir={} --output_directory={}\".format(FREEZE_SCRIPT ,files['PIPELINE_CONFIG'], paths['CHECKPOINT_PATH'], paths['OUTPUT_PATH'])"
   ]
  },
  {
   "cell_type": "code",
   "execution_count": 56,
   "metadata": {
    "colab": {
     "base_uri": "https://localhost:8080/"
    },
    "id": "F6Lsp3tCpfDJ",
    "outputId": "c3828529-bf06-4df5-d7f3-145890ec3edd"
   },
   "outputs": [
    {
     "name": "stdout",
     "output_type": "stream",
     "text": [
      "python Tensorflow\\models\\research\\object_detection\\exporter_main_v2.py  --input_type=image_tensor --pipeline_config_path=Tensorflow\\workspace\\models\\my_ssd_mobnet_tuned\\pipeline.config --trained_checkpoint_dir=Tensorflow\\workspace\\models\\my_ssd_mobnet_tuned --output_directory=Tensorflow\\workspace\\models\\my_ssd_mobnet_tuned\\export\n"
     ]
    }
   ],
   "source": [
    "print(command)"
   ]
  },
  {
   "cell_type": "code",
   "execution_count": 57,
   "metadata": {
    "colab": {
     "base_uri": "https://localhost:8080/"
    },
    "id": "1Sw1ULgHpfDJ",
    "outputId": "6fd441e1-9fc9-4889-d072-3395c21e40b6"
   },
   "outputs": [
    {
     "name": "stderr",
     "output_type": "stream",
     "text": [
      "2024-02-08 14:20:04.226196: I tensorflow/core/platform/cpu_feature_guard.cc:182] This TensorFlow binary is optimized to use available CPU instructions in performance-critical operations.\n",
      "To enable the following instructions: SSE SSE2 SSE3 SSE4.1 SSE4.2 AVX AVX2 FMA, in other operations, rebuild TensorFlow with the appropriate compiler flags.\n",
      "WARNING:tensorflow:From D:\\Youtube\\TensorFlow Object Detection\\TFODCourse\\tfod\\Lib\\site-packages\\tensorflow\\python\\autograph\\impl\\api.py:459: calling map_fn_v2 (from tensorflow.python.ops.map_fn) with back_prop=False is deprecated and will be removed in a future version.\n",
      "Instructions for updating:\n",
      "back_prop=False is deprecated. Consider using tf.stop_gradient instead.\n",
      "Instead of:\n",
      "results = tf.map_fn(fn, elems, back_prop=False)\n",
      "Use:\n",
      "results = tf.nest.map_structure(tf.stop_gradient, tf.map_fn(fn, elems))\n",
      "W0208 14:20:04.405786  6768 deprecation.py:641] From D:\\Youtube\\TensorFlow Object Detection\\TFODCourse\\tfod\\Lib\\site-packages\\tensorflow\\python\\autograph\\impl\\api.py:459: calling map_fn_v2 (from tensorflow.python.ops.map_fn) with back_prop=False is deprecated and will be removed in a future version.\n",
      "Instructions for updating:\n",
      "back_prop=False is deprecated. Consider using tf.stop_gradient instead.\n",
      "Instead of:\n",
      "results = tf.map_fn(fn, elems, back_prop=False)\n",
      "Use:\n",
      "results = tf.nest.map_structure(tf.stop_gradient, tf.map_fn(fn, elems))\n",
      "I0208 14:20:09.284203  6768 api.py:460] feature_map_spatial_dims: [(40, 40), (20, 20), (10, 10), (5, 5), (3, 3)]\n",
      "I0208 14:20:26.720811  6768 api.py:460] feature_map_spatial_dims: [(40, 40), (20, 20), (10, 10), (5, 5), (3, 3)]\n",
      "I0208 14:20:36.759011  6768 signature_serialization.py:148] Function `call_func` contains input name(s) resource with unsupported characters which will be renamed to weightsharedconvolutionalboxpredictor_predictiontower_conv2d_3_batchnorm_feature_4_fusedbatchnormv3_readvariableop_1_resource in the SavedModel.\n",
      "I0208 14:20:38.549226  6768 api.py:460] feature_map_spatial_dims: [(40, 40), (20, 20), (10, 10), (5, 5), (3, 3)]\n",
      "WARNING:tensorflow:Skipping full serialization of Keras layer <object_detection.meta_architectures.ssd_meta_arch.SSDMetaArch object at 0x00000237E2EC6790>, because it is not built.\n",
      "W0208 14:20:47.003313  6768 save_impl.py:66] Skipping full serialization of Keras layer <object_detection.meta_architectures.ssd_meta_arch.SSDMetaArch object at 0x00000237E2EC6790>, because it is not built.\n",
      "WARNING:tensorflow:Skipping full serialization of Keras layer <keras.src.layers.convolutional.separable_conv2d.SeparableConv2D object at 0x00000237E47100D0>, because it is not built.\n",
      "W0208 14:20:47.322049  6768 save_impl.py:66] Skipping full serialization of Keras layer <keras.src.layers.convolutional.separable_conv2d.SeparableConv2D object at 0x00000237E47100D0>, because it is not built.\n",
      "WARNING:tensorflow:Skipping full serialization of Keras layer <object_detection.core.freezable_batch_norm.FreezableBatchNorm object at 0x00000237E6691850>, because it is not built.\n",
      "W0208 14:20:47.322049  6768 save_impl.py:66] Skipping full serialization of Keras layer <object_detection.core.freezable_batch_norm.FreezableBatchNorm object at 0x00000237E6691850>, because it is not built.\n",
      "WARNING:tensorflow:Skipping full serialization of Keras layer <keras.src.layers.core.lambda_layer.Lambda object at 0x00000237E3B94350>, because it is not built.\n",
      "W0208 14:20:47.322049  6768 save_impl.py:66] Skipping full serialization of Keras layer <keras.src.layers.core.lambda_layer.Lambda object at 0x00000237E3B94350>, because it is not built.\n",
      "WARNING:tensorflow:Skipping full serialization of Keras layer <keras.src.layers.convolutional.separable_conv2d.SeparableConv2D object at 0x00000237E37F80D0>, because it is not built.\n",
      "W0208 14:20:47.322049  6768 save_impl.py:66] Skipping full serialization of Keras layer <keras.src.layers.convolutional.separable_conv2d.SeparableConv2D object at 0x00000237E37F80D0>, because it is not built.\n",
      "WARNING:tensorflow:Skipping full serialization of Keras layer <object_detection.core.freezable_batch_norm.FreezableBatchNorm object at 0x00000237E6692910>, because it is not built.\n",
      "W0208 14:20:47.322049  6768 save_impl.py:66] Skipping full serialization of Keras layer <object_detection.core.freezable_batch_norm.FreezableBatchNorm object at 0x00000237E6692910>, because it is not built.\n",
      "WARNING:tensorflow:Skipping full serialization of Keras layer <keras.src.layers.core.lambda_layer.Lambda object at 0x00000237E3710F10>, because it is not built.\n",
      "W0208 14:20:47.322049  6768 save_impl.py:66] Skipping full serialization of Keras layer <keras.src.layers.core.lambda_layer.Lambda object at 0x00000237E3710F10>, because it is not built.\n",
      "WARNING:tensorflow:Skipping full serialization of Keras layer <keras.src.layers.convolutional.separable_conv2d.SeparableConv2D object at 0x00000237E6693B50>, because it is not built.\n",
      "W0208 14:20:47.322049  6768 save_impl.py:66] Skipping full serialization of Keras layer <keras.src.layers.convolutional.separable_conv2d.SeparableConv2D object at 0x00000237E6693B50>, because it is not built.\n",
      "WARNING:tensorflow:Skipping full serialization of Keras layer <object_detection.core.freezable_batch_norm.FreezableBatchNorm object at 0x00000237E6698110>, because it is not built.\n",
      "W0208 14:20:47.322049  6768 save_impl.py:66] Skipping full serialization of Keras layer <object_detection.core.freezable_batch_norm.FreezableBatchNorm object at 0x00000237E6698110>, because it is not built.\n",
      "WARNING:tensorflow:Skipping full serialization of Keras layer <keras.src.layers.core.lambda_layer.Lambda object at 0x00000237E3680C50>, because it is not built.\n",
      "W0208 14:20:47.323482  6768 save_impl.py:66] Skipping full serialization of Keras layer <keras.src.layers.core.lambda_layer.Lambda object at 0x00000237E3680C50>, because it is not built.\n",
      "WARNING:tensorflow:Skipping full serialization of Keras layer <keras.src.layers.convolutional.separable_conv2d.SeparableConv2D object at 0x00000237E37FA950>, because it is not built.\n",
      "W0208 14:20:47.323482  6768 save_impl.py:66] Skipping full serialization of Keras layer <keras.src.layers.convolutional.separable_conv2d.SeparableConv2D object at 0x00000237E37FA950>, because it is not built.\n",
      "WARNING:tensorflow:Skipping full serialization of Keras layer <object_detection.core.freezable_batch_norm.FreezableBatchNorm object at 0x00000237E6699050>, because it is not built.\n",
      "W0208 14:20:47.323482  6768 save_impl.py:66] Skipping full serialization of Keras layer <object_detection.core.freezable_batch_norm.FreezableBatchNorm object at 0x00000237E6699050>, because it is not built.\n",
      "WARNING:tensorflow:Skipping full serialization of Keras layer <keras.src.layers.core.lambda_layer.Lambda object at 0x00000237E39111D0>, because it is not built.\n",
      "W0208 14:20:47.323482  6768 save_impl.py:66] Skipping full serialization of Keras layer <keras.src.layers.core.lambda_layer.Lambda object at 0x00000237E39111D0>, because it is not built.\n",
      "WARNING:tensorflow:Skipping full serialization of Keras layer <object_detection.core.freezable_batch_norm.FreezableBatchNorm object at 0x00000237E4683D50>, because it is not built.\n",
      "W0208 14:20:47.323482  6768 save_impl.py:66] Skipping full serialization of Keras layer <object_detection.core.freezable_batch_norm.FreezableBatchNorm object at 0x00000237E4683D50>, because it is not built.\n",
      "WARNING:tensorflow:Skipping full serialization of Keras layer <keras.src.layers.core.lambda_layer.Lambda object at 0x00000237E3B51B10>, because it is not built.\n",
      "W0208 14:20:47.323482  6768 save_impl.py:66] Skipping full serialization of Keras layer <keras.src.layers.core.lambda_layer.Lambda object at 0x00000237E3B51B10>, because it is not built.\n",
      "WARNING:tensorflow:Skipping full serialization of Keras layer <object_detection.core.freezable_batch_norm.FreezableBatchNorm object at 0x00000237E4691C90>, because it is not built.\n",
      "W0208 14:20:47.323482  6768 save_impl.py:66] Skipping full serialization of Keras layer <object_detection.core.freezable_batch_norm.FreezableBatchNorm object at 0x00000237E4691C90>, because it is not built.\n",
      "WARNING:tensorflow:Skipping full serialization of Keras layer <keras.src.layers.core.lambda_layer.Lambda object at 0x00000237E4693B50>, because it is not built.\n",
      "W0208 14:20:47.323482  6768 save_impl.py:66] Skipping full serialization of Keras layer <keras.src.layers.core.lambda_layer.Lambda object at 0x00000237E4693B50>, because it is not built.\n",
      "WARNING:tensorflow:Skipping full serialization of Keras layer <object_detection.core.freezable_batch_norm.FreezableBatchNorm object at 0x00000237E4690B10>, because it is not built.\n",
      "W0208 14:20:47.323482  6768 save_impl.py:66] Skipping full serialization of Keras layer <object_detection.core.freezable_batch_norm.FreezableBatchNorm object at 0x00000237E4690B10>, because it is not built.\n",
      "WARNING:tensorflow:Skipping full serialization of Keras layer <keras.src.layers.core.lambda_layer.Lambda object at 0x00000237E39ECF10>, because it is not built.\n",
      "W0208 14:20:47.323482  6768 save_impl.py:66] Skipping full serialization of Keras layer <keras.src.layers.core.lambda_layer.Lambda object at 0x00000237E39ECF10>, because it is not built.\n",
      "WARNING:tensorflow:Skipping full serialization of Keras layer <object_detection.core.freezable_batch_norm.FreezableBatchNorm object at 0x00000237E3A79350>, because it is not built.\n",
      "W0208 14:20:47.323482  6768 save_impl.py:66] Skipping full serialization of Keras layer <object_detection.core.freezable_batch_norm.FreezableBatchNorm object at 0x00000237E3A79350>, because it is not built.\n",
      "WARNING:tensorflow:Skipping full serialization of Keras layer <keras.src.layers.core.lambda_layer.Lambda object at 0x00000237E3A79650>, because it is not built.\n",
      "W0208 14:20:47.323482  6768 save_impl.py:66] Skipping full serialization of Keras layer <keras.src.layers.core.lambda_layer.Lambda object at 0x00000237E3A79650>, because it is not built.\n",
      "WARNING:tensorflow:Skipping full serialization of Keras layer <object_detection.core.freezable_batch_norm.FreezableBatchNorm object at 0x00000237E6668FD0>, because it is not built.\n",
      "W0208 14:20:47.324482  6768 save_impl.py:66] Skipping full serialization of Keras layer <object_detection.core.freezable_batch_norm.FreezableBatchNorm object at 0x00000237E6668FD0>, because it is not built.\n",
      "WARNING:tensorflow:Skipping full serialization of Keras layer <keras.src.layers.core.lambda_layer.Lambda object at 0x00000237E4C46290>, because it is not built.\n",
      "W0208 14:20:47.324482  6768 save_impl.py:66] Skipping full serialization of Keras layer <keras.src.layers.core.lambda_layer.Lambda object at 0x00000237E4C46290>, because it is not built.\n",
      "WARNING:tensorflow:Skipping full serialization of Keras layer <object_detection.core.freezable_batch_norm.FreezableBatchNorm object at 0x00000237E465C1D0>, because it is not built.\n",
      "W0208 14:20:47.324482  6768 save_impl.py:66] Skipping full serialization of Keras layer <object_detection.core.freezable_batch_norm.FreezableBatchNorm object at 0x00000237E465C1D0>, because it is not built.\n",
      "WARNING:tensorflow:Skipping full serialization of Keras layer <keras.src.layers.core.lambda_layer.Lambda object at 0x00000237E465F6D0>, because it is not built.\n",
      "W0208 14:20:47.324482  6768 save_impl.py:66] Skipping full serialization of Keras layer <keras.src.layers.core.lambda_layer.Lambda object at 0x00000237E465F6D0>, because it is not built.\n",
      "WARNING:tensorflow:Skipping full serialization of Keras layer <object_detection.core.freezable_batch_norm.FreezableBatchNorm object at 0x00000237E66D80D0>, because it is not built.\n",
      "W0208 14:20:47.324482  6768 save_impl.py:66] Skipping full serialization of Keras layer <object_detection.core.freezable_batch_norm.FreezableBatchNorm object at 0x00000237E66D80D0>, because it is not built.\n",
      "WARNING:tensorflow:Skipping full serialization of Keras layer <keras.src.layers.core.lambda_layer.Lambda object at 0x00000237E2E7F090>, because it is not built.\n",
      "W0208 14:20:47.324482  6768 save_impl.py:66] Skipping full serialization of Keras layer <keras.src.layers.core.lambda_layer.Lambda object at 0x00000237E2E7F090>, because it is not built.\n",
      "WARNING:tensorflow:Skipping full serialization of Keras layer <object_detection.core.freezable_batch_norm.FreezableBatchNorm object at 0x00000237E66D9490>, because it is not built.\n",
      "W0208 14:20:47.324482  6768 save_impl.py:66] Skipping full serialization of Keras layer <object_detection.core.freezable_batch_norm.FreezableBatchNorm object at 0x00000237E66D9490>, because it is not built.\n",
      "WARNING:tensorflow:Skipping full serialization of Keras layer <keras.src.layers.core.lambda_layer.Lambda object at 0x00000237E66D8F10>, because it is not built.\n",
      "W0208 14:20:47.324482  6768 save_impl.py:66] Skipping full serialization of Keras layer <keras.src.layers.core.lambda_layer.Lambda object at 0x00000237E66D8F10>, because it is not built.\n",
      "WARNING:tensorflow:Skipping full serialization of Keras layer <object_detection.core.freezable_batch_norm.FreezableBatchNorm object at 0x00000237E4608BD0>, because it is not built.\n",
      "W0208 14:20:47.325479  6768 save_impl.py:66] Skipping full serialization of Keras layer <object_detection.core.freezable_batch_norm.FreezableBatchNorm object at 0x00000237E4608BD0>, because it is not built.\n",
      "WARNING:tensorflow:Skipping full serialization of Keras layer <keras.src.layers.core.lambda_layer.Lambda object at 0x00000237E4DCDAD0>, because it is not built.\n",
      "W0208 14:20:47.325479  6768 save_impl.py:66] Skipping full serialization of Keras layer <keras.src.layers.core.lambda_layer.Lambda object at 0x00000237E4DCDAD0>, because it is not built.\n",
      "WARNING:tensorflow:Skipping full serialization of Keras layer <object_detection.core.freezable_batch_norm.FreezableBatchNorm object at 0x00000237E4D13410>, because it is not built.\n",
      "W0208 14:20:47.325479  6768 save_impl.py:66] Skipping full serialization of Keras layer <object_detection.core.freezable_batch_norm.FreezableBatchNorm object at 0x00000237E4D13410>, because it is not built.\n",
      "WARNING:tensorflow:Skipping full serialization of Keras layer <keras.src.layers.core.lambda_layer.Lambda object at 0x00000237E469F190>, because it is not built.\n",
      "W0208 14:20:47.325479  6768 save_impl.py:66] Skipping full serialization of Keras layer <keras.src.layers.core.lambda_layer.Lambda object at 0x00000237E469F190>, because it is not built.\n",
      "WARNING:tensorflow:Skipping full serialization of Keras layer <object_detection.core.freezable_batch_norm.FreezableBatchNorm object at 0x00000237E3B20D50>, because it is not built.\n",
      "W0208 14:20:47.325479  6768 save_impl.py:66] Skipping full serialization of Keras layer <object_detection.core.freezable_batch_norm.FreezableBatchNorm object at 0x00000237E3B20D50>, because it is not built.\n",
      "WARNING:tensorflow:Skipping full serialization of Keras layer <keras.src.layers.core.lambda_layer.Lambda object at 0x00000237E46E9490>, because it is not built.\n",
      "W0208 14:20:47.325479  6768 save_impl.py:66] Skipping full serialization of Keras layer <keras.src.layers.core.lambda_layer.Lambda object at 0x00000237E46E9490>, because it is not built.\n",
      "WARNING:tensorflow:Skipping full serialization of Keras layer <object_detection.core.freezable_batch_norm.FreezableBatchNorm object at 0x00000237E36F9150>, because it is not built.\n",
      "W0208 14:20:47.325479  6768 save_impl.py:66] Skipping full serialization of Keras layer <object_detection.core.freezable_batch_norm.FreezableBatchNorm object at 0x00000237E36F9150>, because it is not built.\n",
      "WARNING:tensorflow:Skipping full serialization of Keras layer <keras.src.layers.core.lambda_layer.Lambda object at 0x00000237E3B99F10>, because it is not built.\n",
      "W0208 14:20:47.325479  6768 save_impl.py:66] Skipping full serialization of Keras layer <keras.src.layers.core.lambda_layer.Lambda object at 0x00000237E3B99F10>, because it is not built.\n",
      "WARNING:tensorflow:Skipping full serialization of Keras layer <object_detection.core.freezable_batch_norm.FreezableBatchNorm object at 0x00000237E3BE10D0>, because it is not built.\n",
      "W0208 14:20:47.325479  6768 save_impl.py:66] Skipping full serialization of Keras layer <object_detection.core.freezable_batch_norm.FreezableBatchNorm object at 0x00000237E3BE10D0>, because it is not built.\n",
      "WARNING:tensorflow:Skipping full serialization of Keras layer <keras.src.layers.core.lambda_layer.Lambda object at 0x00000237E3710A90>, because it is not built.\n",
      "W0208 14:20:47.325479  6768 save_impl.py:66] Skipping full serialization of Keras layer <keras.src.layers.core.lambda_layer.Lambda object at 0x00000237E3710A90>, because it is not built.\n",
      "WARNING:tensorflow:Skipping full serialization of Keras layer <object_detection.core.freezable_batch_norm.FreezableBatchNorm object at 0x00000237E6718BD0>, because it is not built.\n",
      "W0208 14:20:47.325479  6768 save_impl.py:66] Skipping full serialization of Keras layer <object_detection.core.freezable_batch_norm.FreezableBatchNorm object at 0x00000237E6718BD0>, because it is not built.\n",
      "WARNING:tensorflow:Skipping full serialization of Keras layer <keras.src.layers.core.lambda_layer.Lambda object at 0x00000237E469E750>, because it is not built.\n",
      "W0208 14:20:47.325479  6768 save_impl.py:66] Skipping full serialization of Keras layer <keras.src.layers.core.lambda_layer.Lambda object at 0x00000237E469E750>, because it is not built.\n",
      "WARNING:tensorflow:Skipping full serialization of Keras layer <object_detection.core.freezable_batch_norm.FreezableBatchNorm object at 0x00000237E6719B10>, because it is not built.\n",
      "W0208 14:20:47.325479  6768 save_impl.py:66] Skipping full serialization of Keras layer <object_detection.core.freezable_batch_norm.FreezableBatchNorm object at 0x00000237E6719B10>, because it is not built.\n",
      "WARNING:tensorflow:Skipping full serialization of Keras layer <keras.src.layers.core.lambda_layer.Lambda object at 0x00000237E4C465D0>, because it is not built.\n",
      "W0208 14:20:47.325479  6768 save_impl.py:66] Skipping full serialization of Keras layer <keras.src.layers.core.lambda_layer.Lambda object at 0x00000237E4C465D0>, because it is not built.\n",
      "WARNING:tensorflow:Skipping full serialization of Keras layer <object_detection.core.freezable_batch_norm.FreezableBatchNorm object at 0x00000237E671AB50>, because it is not built.\n",
      "W0208 14:20:47.325479  6768 save_impl.py:66] Skipping full serialization of Keras layer <object_detection.core.freezable_batch_norm.FreezableBatchNorm object at 0x00000237E671AB50>, because it is not built.\n",
      "WARNING:tensorflow:Skipping full serialization of Keras layer <keras.src.layers.core.lambda_layer.Lambda object at 0x00000237E37F9E90>, because it is not built.\n",
      "W0208 14:20:47.325479  6768 save_impl.py:66] Skipping full serialization of Keras layer <keras.src.layers.core.lambda_layer.Lambda object at 0x00000237E37F9E90>, because it is not built.\n",
      "I0208 14:21:03.851845  6768 save.py:274] Found untraced functions such as WeightSharedConvolutionalBoxPredictor_layer_call_fn, WeightSharedConvolutionalBoxPredictor_layer_call_and_return_conditional_losses, WeightSharedConvolutionalBoxHead_layer_call_fn, WeightSharedConvolutionalBoxHead_layer_call_and_return_conditional_losses, WeightSharedConvolutionalClassHead_layer_call_fn while saving (showing 5 of 173). These functions will not be directly callable after loading.\n",
      "INFO:tensorflow:Assets written to: Tensorflow\\workspace\\models\\my_ssd_mobnet_tuned\\export\\saved_model\\assets\n",
      "I0208 14:21:21.594426  6768 builder_impl.py:804] Assets written to: Tensorflow\\workspace\\models\\my_ssd_mobnet_tuned\\export\\saved_model\\assets\n",
      "I0208 14:21:28.165863  6768 fingerprinting_utils.py:48] Writing fingerprint to Tensorflow\\workspace\\models\\my_ssd_mobnet_tuned\\export\\saved_model\\fingerprint.pb\n",
      "INFO:tensorflow:Writing pipeline config file to Tensorflow\\workspace\\models\\my_ssd_mobnet_tuned\\export\\pipeline.config\n",
      "I0208 14:21:28.829626  6768 config_util.py:253] Writing pipeline config file to Tensorflow\\workspace\\models\\my_ssd_mobnet_tuned\\export\\pipeline.config\n"
     ]
    }
   ],
   "source": [
    "!{command}"
   ]
  },
  {
   "cell_type": "markdown",
   "metadata": {
    "id": "wTPmdqaXpfDK"
   },
   "source": [
    "# 11. Conversion to TFJS"
   ]
  },
  {
   "cell_type": "code",
   "execution_count": 31,
   "metadata": {
    "colab": {
     "base_uri": "https://localhost:8080/"
    },
    "id": "gZ6UzY_fpfDK",
    "outputId": "0c84722e-1c2b-4002-d857-80827ade828a",
    "scrolled": true
   },
   "outputs": [
    {
     "name": "stdout",
     "output_type": "stream",
     "text": [
      "Requirement already satisfied: tensorflowjs in d:\\youtube\\tensorflow object detection\\tfodcourse\\tfod\\lib\\site-packages (4.17.0)\n",
      "Requirement already satisfied: flax>=0.7.2 in d:\\youtube\\tensorflow object detection\\tfodcourse\\tfod\\lib\\site-packages (from tensorflowjs) (0.8.1)\n",
      "Requirement already satisfied: importlib_resources>=5.9.0 in d:\\youtube\\tensorflow object detection\\tfodcourse\\tfod\\lib\\site-packages (from tensorflowjs) (6.1.1)\n",
      "Requirement already satisfied: jax>=0.4.13 in d:\\youtube\\tensorflow object detection\\tfodcourse\\tfod\\lib\\site-packages (from tensorflowjs) (0.4.24)\n",
      "Requirement already satisfied: jaxlib>=0.4.13 in d:\\youtube\\tensorflow object detection\\tfodcourse\\tfod\\lib\\site-packages (from tensorflowjs) (0.4.23)\n",
      "Requirement already satisfied: tensorflow<3,>=2.13.0 in d:\\youtube\\tensorflow object detection\\tfodcourse\\tfod\\lib\\site-packages (from tensorflowjs) (2.15.0)\n",
      "Requirement already satisfied: tensorflow-decision-forests>=1.5.0 in d:\\youtube\\tensorflow object detection\\tfodcourse\\tfod\\lib\\site-packages (from tensorflowjs) (1.8.1)\n",
      "Requirement already satisfied: six<2,>=1.16.0 in d:\\youtube\\tensorflow object detection\\tfodcourse\\tfod\\lib\\site-packages (from tensorflowjs) (1.16.0)\n",
      "Requirement already satisfied: tensorflow-hub>=0.14.0 in d:\\youtube\\tensorflow object detection\\tfodcourse\\tfod\\lib\\site-packages (from tensorflowjs) (0.16.1)\n",
      "Requirement already satisfied: packaging~=23.1 in d:\\youtube\\tensorflow object detection\\tfodcourse\\tfod\\lib\\site-packages (from tensorflowjs) (23.2)\n",
      "Requirement already satisfied: numpy>=1.22 in d:\\youtube\\tensorflow object detection\\tfodcourse\\tfod\\lib\\site-packages (from flax>=0.7.2->tensorflowjs) (1.24.3)\n",
      "Requirement already satisfied: msgpack in d:\\youtube\\tensorflow object detection\\tfodcourse\\tfod\\lib\\site-packages (from flax>=0.7.2->tensorflowjs) (1.0.7)\n",
      "Requirement already satisfied: optax in d:\\youtube\\tensorflow object detection\\tfodcourse\\tfod\\lib\\site-packages (from flax>=0.7.2->tensorflowjs) (0.1.9)\n",
      "Requirement already satisfied: orbax-checkpoint in d:\\youtube\\tensorflow object detection\\tfodcourse\\tfod\\lib\\site-packages (from flax>=0.7.2->tensorflowjs) (0.4.4)\n",
      "Requirement already satisfied: tensorstore in d:\\youtube\\tensorflow object detection\\tfodcourse\\tfod\\lib\\site-packages (from flax>=0.7.2->tensorflowjs) (0.1.45)\n",
      "Requirement already satisfied: rich>=11.1 in d:\\youtube\\tensorflow object detection\\tfodcourse\\tfod\\lib\\site-packages\\rich-13.7.0-py3.11.egg (from flax>=0.7.2->tensorflowjs) (13.7.0)\n",
      "Requirement already satisfied: typing-extensions>=4.2 in d:\\youtube\\tensorflow object detection\\tfodcourse\\tfod\\lib\\site-packages (from flax>=0.7.2->tensorflowjs) (4.5.0)\n",
      "Requirement already satisfied: PyYAML>=5.4.1 in d:\\youtube\\tensorflow object detection\\tfodcourse\\tfod\\lib\\site-packages (from flax>=0.7.2->tensorflowjs) (6.0.1)\n",
      "Requirement already satisfied: ml-dtypes>=0.2.0 in d:\\youtube\\tensorflow object detection\\tfodcourse\\tfod\\lib\\site-packages (from jax>=0.4.13->tensorflowjs) (0.2.0)\n",
      "Requirement already satisfied: opt-einsum in d:\\youtube\\tensorflow object detection\\tfodcourse\\tfod\\lib\\site-packages (from jax>=0.4.13->tensorflowjs) (3.3.0)\n",
      "Requirement already satisfied: scipy>=1.9 in d:\\youtube\\tensorflow object detection\\tfodcourse\\tfod\\lib\\site-packages\\scipy-1.11.4-py3.11-win-amd64.egg (from jax>=0.4.13->tensorflowjs) (1.11.4)\n",
      "Requirement already satisfied: tensorflow-intel==2.15.0 in d:\\youtube\\tensorflow object detection\\tfodcourse\\tfod\\lib\\site-packages (from tensorflow<3,>=2.13.0->tensorflowjs) (2.15.0)\n",
      "Requirement already satisfied: absl-py>=1.0.0 in d:\\youtube\\tensorflow object detection\\tfodcourse\\tfod\\lib\\site-packages\\absl_py-2.0.0-py3.11.egg (from tensorflow-intel==2.15.0->tensorflow<3,>=2.13.0->tensorflowjs) (2.0.0)\n",
      "Requirement already satisfied: astunparse>=1.6.0 in d:\\youtube\\tensorflow object detection\\tfodcourse\\tfod\\lib\\site-packages (from tensorflow-intel==2.15.0->tensorflow<3,>=2.13.0->tensorflowjs) (1.6.3)\n",
      "Requirement already satisfied: flatbuffers>=23.5.26 in d:\\youtube\\tensorflow object detection\\tfodcourse\\tfod\\lib\\site-packages (from tensorflow-intel==2.15.0->tensorflow<3,>=2.13.0->tensorflowjs) (23.5.26)\n",
      "Requirement already satisfied: gast!=0.5.0,!=0.5.1,!=0.5.2,>=0.2.1 in d:\\youtube\\tensorflow object detection\\tfodcourse\\tfod\\lib\\site-packages (from tensorflow-intel==2.15.0->tensorflow<3,>=2.13.0->tensorflowjs) (0.4.0)\n",
      "Requirement already satisfied: google-pasta>=0.1.1 in d:\\youtube\\tensorflow object detection\\tfodcourse\\tfod\\lib\\site-packages (from tensorflow-intel==2.15.0->tensorflow<3,>=2.13.0->tensorflowjs) (0.2.0)\n",
      "Requirement already satisfied: h5py>=2.9.0 in d:\\youtube\\tensorflow object detection\\tfodcourse\\tfod\\lib\\site-packages\\h5py-3.10.0-py3.11-win-amd64.egg (from tensorflow-intel==2.15.0->tensorflow<3,>=2.13.0->tensorflowjs) (3.10.0)\n",
      "Requirement already satisfied: libclang>=13.0.0 in d:\\youtube\\tensorflow object detection\\tfodcourse\\tfod\\lib\\site-packages (from tensorflow-intel==2.15.0->tensorflow<3,>=2.13.0->tensorflowjs) (16.0.6)\n",
      "Requirement already satisfied: protobuf!=4.21.0,!=4.21.1,!=4.21.2,!=4.21.3,!=4.21.4,!=4.21.5,<5.0.0dev,>=3.20.3 in d:\\youtube\\tensorflow object detection\\tfodcourse\\tfod\\lib\\site-packages (from tensorflow-intel==2.15.0->tensorflow<3,>=2.13.0->tensorflowjs) (3.20.3)\n",
      "Requirement already satisfied: setuptools in d:\\youtube\\tensorflow object detection\\tfodcourse\\tfod\\lib\\site-packages (from tensorflow-intel==2.15.0->tensorflow<3,>=2.13.0->tensorflowjs) (65.5.0)\n",
      "Requirement already satisfied: termcolor>=1.1.0 in d:\\youtube\\tensorflow object detection\\tfodcourse\\tfod\\lib\\site-packages (from tensorflow-intel==2.15.0->tensorflow<3,>=2.13.0->tensorflowjs) (2.4.0)\n",
      "Requirement already satisfied: wrapt<1.15,>=1.11.0 in d:\\youtube\\tensorflow object detection\\tfodcourse\\tfod\\lib\\site-packages (from tensorflow-intel==2.15.0->tensorflow<3,>=2.13.0->tensorflowjs) (1.14.1)\n",
      "Requirement already satisfied: tensorflow-io-gcs-filesystem>=0.23.1 in d:\\youtube\\tensorflow object detection\\tfodcourse\\tfod\\lib\\site-packages\\tensorflow_io_gcs_filesystem-0.31.0-py3.11-win-amd64.egg (from tensorflow-intel==2.15.0->tensorflow<3,>=2.13.0->tensorflowjs) (0.31.0)\n",
      "Requirement already satisfied: grpcio<2.0,>=1.24.3 in d:\\youtube\\tensorflow object detection\\tfodcourse\\tfod\\lib\\site-packages (from tensorflow-intel==2.15.0->tensorflow<3,>=2.13.0->tensorflowjs) (1.60.0)\n",
      "Requirement already satisfied: tensorboard<2.16,>=2.15 in d:\\youtube\\tensorflow object detection\\tfodcourse\\tfod\\lib\\site-packages (from tensorflow-intel==2.15.0->tensorflow<3,>=2.13.0->tensorflowjs) (2.15.1)\n",
      "Requirement already satisfied: tensorflow-estimator<2.16,>=2.15.0 in d:\\youtube\\tensorflow object detection\\tfodcourse\\tfod\\lib\\site-packages (from tensorflow-intel==2.15.0->tensorflow<3,>=2.13.0->tensorflowjs) (2.15.0)\n",
      "Requirement already satisfied: keras<2.16,>=2.15.0 in d:\\youtube\\tensorflow object detection\\tfodcourse\\tfod\\lib\\site-packages (from tensorflow-intel==2.15.0->tensorflow<3,>=2.13.0->tensorflowjs) (2.15.0)\n",
      "Requirement already satisfied: pandas in d:\\youtube\\tensorflow object detection\\tfodcourse\\tfod\\lib\\site-packages\\pandas-2.1.4-py3.11-win-amd64.egg (from tensorflow-decision-forests>=1.5.0->tensorflowjs) (2.1.4)\n",
      "Requirement already satisfied: wheel in d:\\youtube\\tensorflow object detection\\tfodcourse\\tfod\\lib\\site-packages (from tensorflow-decision-forests>=1.5.0->tensorflowjs) (0.42.0)\n",
      "Requirement already satisfied: wurlitzer in d:\\youtube\\tensorflow object detection\\tfodcourse\\tfod\\lib\\site-packages (from tensorflow-decision-forests>=1.5.0->tensorflowjs) (3.0.3)\n",
      "Requirement already satisfied: tf-keras>=2.14.1 in d:\\youtube\\tensorflow object detection\\tfodcourse\\tfod\\lib\\site-packages (from tensorflow-hub>=0.14.0->tensorflowjs) (2.15.0)\n",
      "Requirement already satisfied: markdown-it-py>=2.2.0 in d:\\youtube\\tensorflow object detection\\tfodcourse\\tfod\\lib\\site-packages (from rich>=11.1->flax>=0.7.2->tensorflowjs) (3.0.0)\n",
      "Requirement already satisfied: pygments<3.0.0,>=2.13.0 in d:\\youtube\\tensorflow object detection\\tfodcourse\\tfod\\lib\\site-packages (from rich>=11.1->flax>=0.7.2->tensorflowjs) (2.17.2)\n",
      "Requirement already satisfied: chex>=0.1.7 in d:\\youtube\\tensorflow object detection\\tfodcourse\\tfod\\lib\\site-packages (from optax->flax>=0.7.2->tensorflowjs) (0.1.85)\n",
      "Requirement already satisfied: etils[epath,epy] in d:\\youtube\\tensorflow object detection\\tfodcourse\\tfod\\lib\\site-packages (from orbax-checkpoint->flax>=0.7.2->tensorflowjs) (1.6.0)\n",
      "Requirement already satisfied: nest_asyncio in d:\\youtube\\tensorflow object detection\\tfodcourse\\tfod\\lib\\site-packages (from orbax-checkpoint->flax>=0.7.2->tensorflowjs) (1.5.8)\n",
      "Requirement already satisfied: python-dateutil>=2.8.2 in d:\\youtube\\tensorflow object detection\\tfodcourse\\tfod\\lib\\site-packages (from pandas->tensorflow-decision-forests>=1.5.0->tensorflowjs) (2.8.2)\n",
      "Requirement already satisfied: pytz>=2020.1 in d:\\youtube\\tensorflow object detection\\tfodcourse\\tfod\\lib\\site-packages (from pandas->tensorflow-decision-forests>=1.5.0->tensorflowjs) (2023.3.post1)\n",
      "Requirement already satisfied: tzdata>=2022.1 in d:\\youtube\\tensorflow object detection\\tfodcourse\\tfod\\lib\\site-packages (from pandas->tensorflow-decision-forests>=1.5.0->tensorflowjs) (2023.4)\n",
      "Requirement already satisfied: toolz>=0.9.0 in d:\\youtube\\tensorflow object detection\\tfodcourse\\tfod\\lib\\site-packages (from chex>=0.1.7->optax->flax>=0.7.2->tensorflowjs) (0.12.1)\n",
      "Requirement already satisfied: mdurl~=0.1 in d:\\youtube\\tensorflow object detection\\tfodcourse\\tfod\\lib\\site-packages (from markdown-it-py>=2.2.0->rich>=11.1->flax>=0.7.2->tensorflowjs) (0.1.2)\n",
      "Requirement already satisfied: google-auth<3,>=1.6.3 in d:\\youtube\\tensorflow object detection\\tfodcourse\\tfod\\lib\\site-packages (from tensorboard<2.16,>=2.15->tensorflow-intel==2.15.0->tensorflow<3,>=2.13.0->tensorflowjs) (2.25.2)\n",
      "Requirement already satisfied: google-auth-oauthlib<2,>=0.5 in d:\\youtube\\tensorflow object detection\\tfodcourse\\tfod\\lib\\site-packages (from tensorboard<2.16,>=2.15->tensorflow-intel==2.15.0->tensorflow<3,>=2.13.0->tensorflowjs) (1.0.0)\n",
      "Requirement already satisfied: markdown>=2.6.8 in d:\\youtube\\tensorflow object detection\\tfodcourse\\tfod\\lib\\site-packages (from tensorboard<2.16,>=2.15->tensorflow-intel==2.15.0->tensorflow<3,>=2.13.0->tensorflowjs) (3.5.1)\n",
      "Requirement already satisfied: requests<3,>=2.21.0 in d:\\youtube\\tensorflow object detection\\tfodcourse\\tfod\\lib\\site-packages (from tensorboard<2.16,>=2.15->tensorflow-intel==2.15.0->tensorflow<3,>=2.13.0->tensorflowjs) (2.31.0)\n",
      "Requirement already satisfied: tensorboard-data-server<0.8.0,>=0.7.0 in d:\\youtube\\tensorflow object detection\\tfodcourse\\tfod\\lib\\site-packages (from tensorboard<2.16,>=2.15->tensorflow-intel==2.15.0->tensorflow<3,>=2.13.0->tensorflowjs) (0.7.2)\n",
      "Requirement already satisfied: werkzeug>=1.0.1 in d:\\youtube\\tensorflow object detection\\tfodcourse\\tfod\\lib\\site-packages (from tensorboard<2.16,>=2.15->tensorflow-intel==2.15.0->tensorflow<3,>=2.13.0->tensorflowjs) (3.0.1)\n",
      "Requirement already satisfied: fsspec in d:\\youtube\\tensorflow object detection\\tfodcourse\\tfod\\lib\\site-packages (from etils[epath,epy]->orbax-checkpoint->flax>=0.7.2->tensorflowjs) (2024.2.0)\n",
      "Requirement already satisfied: zipp in d:\\youtube\\tensorflow object detection\\tfodcourse\\tfod\\lib\\site-packages (from etils[epath,epy]->orbax-checkpoint->flax>=0.7.2->tensorflowjs) (3.17.0)\n",
      "Requirement already satisfied: cachetools<6.0,>=2.0.0 in d:\\youtube\\tensorflow object detection\\tfodcourse\\tfod\\lib\\site-packages (from google-auth<3,>=1.6.3->tensorboard<2.16,>=2.15->tensorflow-intel==2.15.0->tensorflow<3,>=2.13.0->tensorflowjs) (5.3.2)\n",
      "Requirement already satisfied: pyasn1-modules>=0.2.1 in d:\\youtube\\tensorflow object detection\\tfodcourse\\tfod\\lib\\site-packages (from google-auth<3,>=1.6.3->tensorboard<2.16,>=2.15->tensorflow-intel==2.15.0->tensorflow<3,>=2.13.0->tensorflowjs) (0.3.0)\n",
      "Requirement already satisfied: rsa<5,>=3.1.4 in d:\\youtube\\tensorflow object detection\\tfodcourse\\tfod\\lib\\site-packages (from google-auth<3,>=1.6.3->tensorboard<2.16,>=2.15->tensorflow-intel==2.15.0->tensorflow<3,>=2.13.0->tensorflowjs) (4.9)\n",
      "Requirement already satisfied: requests-oauthlib>=0.7.0 in d:\\youtube\\tensorflow object detection\\tfodcourse\\tfod\\lib\\site-packages (from google-auth-oauthlib<2,>=0.5->tensorboard<2.16,>=2.15->tensorflow-intel==2.15.0->tensorflow<3,>=2.13.0->tensorflowjs) (1.3.1)\n",
      "Requirement already satisfied: charset-normalizer<4,>=2 in d:\\youtube\\tensorflow object detection\\tfodcourse\\tfod\\lib\\site-packages (from requests<3,>=2.21.0->tensorboard<2.16,>=2.15->tensorflow-intel==2.15.0->tensorflow<3,>=2.13.0->tensorflowjs) (3.3.2)\n",
      "Requirement already satisfied: idna<4,>=2.5 in d:\\youtube\\tensorflow object detection\\tfodcourse\\tfod\\lib\\site-packages (from requests<3,>=2.21.0->tensorboard<2.16,>=2.15->tensorflow-intel==2.15.0->tensorflow<3,>=2.13.0->tensorflowjs) (3.6)\n",
      "Requirement already satisfied: urllib3<3,>=1.21.1 in d:\\youtube\\tensorflow object detection\\tfodcourse\\tfod\\lib\\site-packages (from requests<3,>=2.21.0->tensorboard<2.16,>=2.15->tensorflow-intel==2.15.0->tensorflow<3,>=2.13.0->tensorflowjs) (2.1.0)\n",
      "Requirement already satisfied: certifi>=2017.4.17 in d:\\youtube\\tensorflow object detection\\tfodcourse\\tfod\\lib\\site-packages (from requests<3,>=2.21.0->tensorboard<2.16,>=2.15->tensorflow-intel==2.15.0->tensorflow<3,>=2.13.0->tensorflowjs) (2023.11.17)\n",
      "Requirement already satisfied: MarkupSafe>=2.1.1 in d:\\youtube\\tensorflow object detection\\tfodcourse\\tfod\\lib\\site-packages (from werkzeug>=1.0.1->tensorboard<2.16,>=2.15->tensorflow-intel==2.15.0->tensorflow<3,>=2.13.0->tensorflowjs) (2.1.3)\n",
      "Requirement already satisfied: pyasn1<0.6.0,>=0.4.6 in d:\\youtube\\tensorflow object detection\\tfodcourse\\tfod\\lib\\site-packages (from pyasn1-modules>=0.2.1->google-auth<3,>=1.6.3->tensorboard<2.16,>=2.15->tensorflow-intel==2.15.0->tensorflow<3,>=2.13.0->tensorflowjs) (0.5.1)\n",
      "Requirement already satisfied: oauthlib>=3.0.0 in d:\\youtube\\tensorflow object detection\\tfodcourse\\tfod\\lib\\site-packages (from requests-oauthlib>=0.7.0->google-auth-oauthlib<2,>=0.5->tensorboard<2.16,>=2.15->tensorflow-intel==2.15.0->tensorflow<3,>=2.13.0->tensorflowjs) (3.2.2)\n",
      "Note: you may need to restart the kernel to use updated packages.\n"
     ]
    },
    {
     "name": "stderr",
     "output_type": "stream",
     "text": [
      "DEPRECATION: Loading egg at d:\\youtube\\tensorflow object detection\\tfodcourse\\tfod\\lib\\site-packages\\absl_py-2.0.0-py3.11.egg is deprecated. pip 24.3 will enforce this behaviour change. A possible replacement is to use pip for package installation.. Discussion can be found at https://github.com/pypa/pip/issues/12330\n",
      "DEPRECATION: Loading egg at d:\\youtube\\tensorflow object detection\\tfodcourse\\tfod\\lib\\site-packages\\apache_beam-2.52.0-py3.11-win-amd64.egg is deprecated. pip 24.3 will enforce this behaviour change. A possible replacement is to use pip for package installation.. Discussion can be found at https://github.com/pypa/pip/issues/12330\n",
      "DEPRECATION: Loading egg at d:\\youtube\\tensorflow object detection\\tfodcourse\\tfod\\lib\\site-packages\\avro_python3-1.10.2-py3.11.egg is deprecated. pip 24.3 will enforce this behaviour change. A possible replacement is to use pip for package installation.. Discussion can be found at https://github.com/pypa/pip/issues/12330\n",
      "DEPRECATION: Loading egg at d:\\youtube\\tensorflow object detection\\tfodcourse\\tfod\\lib\\site-packages\\contextlib2-21.6.0-py3.11.egg is deprecated. pip 24.3 will enforce this behaviour change. A possible replacement is to use pip for package installation.. Discussion can be found at https://github.com/pypa/pip/issues/12330\n",
      "DEPRECATION: Loading egg at d:\\youtube\\tensorflow object detection\\tfodcourse\\tfod\\lib\\site-packages\\cython-3.0.6-py3.11.egg is deprecated. pip 24.3 will enforce this behaviour change. A possible replacement is to use pip for package installation.. Discussion can be found at https://github.com/pypa/pip/issues/12330\n",
      "DEPRECATION: Loading egg at d:\\youtube\\tensorflow object detection\\tfodcourse\\tfod\\lib\\site-packages\\dm_tree-0.1.8-py3.11-win-amd64.egg is deprecated. pip 24.3 will enforce this behaviour change. A possible replacement is to use pip for package installation.. Discussion can be found at https://github.com/pypa/pip/issues/12330\n",
      "DEPRECATION: Loading egg at d:\\youtube\\tensorflow object detection\\tfodcourse\\tfod\\lib\\site-packages\\h5py-3.10.0-py3.11-win-amd64.egg is deprecated. pip 24.3 will enforce this behaviour change. A possible replacement is to use pip for package installation.. Discussion can be found at https://github.com/pypa/pip/issues/12330\n",
      "DEPRECATION: Loading egg at d:\\youtube\\tensorflow object detection\\tfodcourse\\tfod\\lib\\site-packages\\lvis-0.5.3-py3.11.egg is deprecated. pip 24.3 will enforce this behaviour change. A possible replacement is to use pip for package installation.. Discussion can be found at https://github.com/pypa/pip/issues/12330\n",
      "DEPRECATION: Loading egg at d:\\youtube\\tensorflow object detection\\tfodcourse\\tfod\\lib\\site-packages\\namex-0.0.7-py3.11.egg is deprecated. pip 24.3 will enforce this behaviour change. A possible replacement is to use pip for package installation.. Discussion can be found at https://github.com/pypa/pip/issues/12330\n",
      "DEPRECATION: Loading egg at d:\\youtube\\tensorflow object detection\\tfodcourse\\tfod\\lib\\site-packages\\object_detection-0.1-py3.11.egg is deprecated. pip 24.3 will enforce this behaviour change. A possible replacement is to use pip for package installation.. Discussion can be found at https://github.com/pypa/pip/issues/12330\n",
      "DEPRECATION: Loading egg at d:\\youtube\\tensorflow object detection\\tfodcourse\\tfod\\lib\\site-packages\\pandas-2.1.4-py3.11-win-amd64.egg is deprecated. pip 24.3 will enforce this behaviour change. A possible replacement is to use pip for package installation.. Discussion can be found at https://github.com/pypa/pip/issues/12330\n",
      "DEPRECATION: Loading egg at d:\\youtube\\tensorflow object detection\\tfodcourse\\tfod\\lib\\site-packages\\pillow-10.1.0-py3.11-win-amd64.egg is deprecated. pip 24.3 will enforce this behaviour change. A possible replacement is to use pip for package installation.. Discussion can be found at https://github.com/pypa/pip/issues/12330\n",
      "DEPRECATION: Loading egg at d:\\youtube\\tensorflow object detection\\tfodcourse\\tfod\\lib\\site-packages\\portalocker-2.8.2-py3.11.egg is deprecated. pip 24.3 will enforce this behaviour change. A possible replacement is to use pip for package installation.. Discussion can be found at https://github.com/pypa/pip/issues/12330\n",
      "DEPRECATION: Loading egg at d:\\youtube\\tensorflow object detection\\tfodcourse\\tfod\\lib\\site-packages\\pycocotools-2.0.7-py3.11-win-amd64.egg is deprecated. pip 24.3 will enforce this behaviour change. A possible replacement is to use pip for package installation.. Discussion can be found at https://github.com/pypa/pip/issues/12330\n",
      "DEPRECATION: Loading egg at d:\\youtube\\tensorflow object detection\\tfodcourse\\tfod\\lib\\site-packages\\pyparsing-2.4.7-py3.11.egg is deprecated. pip 24.3 will enforce this behaviour change. A possible replacement is to use pip for package installation.. Discussion can be found at https://github.com/pypa/pip/issues/12330\n",
      "DEPRECATION: Loading egg at d:\\youtube\\tensorflow object detection\\tfodcourse\\tfod\\lib\\site-packages\\regex-2023.10.3-py3.11-win-amd64.egg is deprecated. pip 24.3 will enforce this behaviour change. A possible replacement is to use pip for package installation.. Discussion can be found at https://github.com/pypa/pip/issues/12330\n",
      "DEPRECATION: Loading egg at d:\\youtube\\tensorflow object detection\\tfodcourse\\tfod\\lib\\site-packages\\rich-13.7.0-py3.11.egg is deprecated. pip 24.3 will enforce this behaviour change. A possible replacement is to use pip for package installation.. Discussion can be found at https://github.com/pypa/pip/issues/12330\n",
      "DEPRECATION: Loading egg at d:\\youtube\\tensorflow object detection\\tfodcourse\\tfod\\lib\\site-packages\\sacrebleu-2.2.0-py3.11.egg is deprecated. pip 24.3 will enforce this behaviour change. A possible replacement is to use pip for package installation.. Discussion can be found at https://github.com/pypa/pip/issues/12330\n",
      "DEPRECATION: Loading egg at d:\\youtube\\tensorflow object detection\\tfodcourse\\tfod\\lib\\site-packages\\scipy-1.11.4-py3.11-win-amd64.egg is deprecated. pip 24.3 will enforce this behaviour change. A possible replacement is to use pip for package installation.. Discussion can be found at https://github.com/pypa/pip/issues/12330\n",
      "DEPRECATION: Loading egg at d:\\youtube\\tensorflow object detection\\tfodcourse\\tfod\\lib\\site-packages\\tabulate-0.9.0-py3.11.egg is deprecated. pip 24.3 will enforce this behaviour change. A possible replacement is to use pip for package installation.. Discussion can be found at https://github.com/pypa/pip/issues/12330\n",
      "DEPRECATION: Loading egg at d:\\youtube\\tensorflow object detection\\tfodcourse\\tfod\\lib\\site-packages\\tensorflow_io-0.31.0-py3.11-win-amd64.egg is deprecated. pip 24.3 will enforce this behaviour change. A possible replacement is to use pip for package installation.. Discussion can be found at https://github.com/pypa/pip/issues/12330\n",
      "DEPRECATION: Loading egg at d:\\youtube\\tensorflow object detection\\tfodcourse\\tfod\\lib\\site-packages\\tensorflow_io_gcs_filesystem-0.31.0-py3.11-win-amd64.egg is deprecated. pip 24.3 will enforce this behaviour change. A possible replacement is to use pip for package installation.. Discussion can be found at https://github.com/pypa/pip/issues/12330\n",
      "DEPRECATION: Loading egg at d:\\youtube\\tensorflow object detection\\tfodcourse\\tfod\\lib\\site-packages\\tf_models_official-2.15.0-py3.11.egg is deprecated. pip 24.3 will enforce this behaviour change. A possible replacement is to use pip for package installation.. Discussion can be found at https://github.com/pypa/pip/issues/12330\n",
      "DEPRECATION: Loading egg at d:\\youtube\\tensorflow object detection\\tfodcourse\\tfod\\lib\\site-packages\\tf_slim-1.1.0-py3.11.egg is deprecated. pip 24.3 will enforce this behaviour change. A possible replacement is to use pip for package installation.. Discussion can be found at https://github.com/pypa/pip/issues/12330\n",
      "\n",
      "[notice] A new release of pip is available: 23.3.1 -> 24.0\n",
      "[notice] To update, run: python.exe -m pip install --upgrade pip\n"
     ]
    }
   ],
   "source": [
    "pip install tensorflowjs"
   ]
  },
  {
   "cell_type": "code",
   "execution_count": 27,
   "metadata": {},
   "outputs": [
    {
     "name": "stdout",
     "output_type": "stream",
     "text": [
      "TensorFlow.js version: 2.15.0\n"
     ]
    }
   ],
   "source": [
    "import tensorflow as tf\n",
    "\n",
    "# Print TensorFlow.js version\n",
    "print(\"TensorFlow.js version:\", tf.__version__)"
   ]
  },
  {
   "cell_type": "code",
   "execution_count": 14,
   "metadata": {
    "id": "0oxbVynHpfDK"
   },
   "outputs": [],
   "source": [
    "command = \"tensorflowjs_converter --input_format=tf_saved_model --output_node_names='detection_boxes,detection_classes,detection_features,detection_multiclass_scores,detection_scores,num_detections,raw_detection_boxes,raw_detection_scores' --output_format=tfjs_graph_model --signature_name=serving_default {} {}\".format(os.path.join(paths['OUTPUT_PATH'], 'saved_model'), paths['TFJS_PATH'])"
   ]
  },
  {
   "cell_type": "code",
   "execution_count": 15,
   "metadata": {
    "colab": {
     "base_uri": "https://localhost:8080/"
    },
    "id": "DB2AGNmJpfDK",
    "outputId": "fbc9f747-f511-47e8-df8f-5ea65cef0374",
    "scrolled": true
   },
   "outputs": [
    {
     "name": "stdout",
     "output_type": "stream",
     "text": [
      "tensorflowjs_converter --input_format=tf_saved_model --output_node_names='detection_boxes,detection_classes,detection_features,detection_multiclass_scores,detection_scores,num_detections,raw_detection_boxes,raw_detection_scores' --output_format=tfjs_graph_model --signature_name=serving_default Tensorflow\\workspace\\models\\my_ssd_mobnet_tuned\\export\\saved_model Tensorflow\\workspace\\models\\my_ssd_mobnet_tuned\\tfjsexport\n"
     ]
    }
   ],
   "source": [
    "print(command)"
   ]
  },
  {
   "cell_type": "code",
   "execution_count": 16,
   "metadata": {
    "colab": {
     "base_uri": "https://localhost:8080/"
    },
    "id": "K7rfT4-hpfDK",
    "outputId": "532707fd-6feb-4bc6-84a3-325b5d16303c"
   },
   "outputs": [
    {
     "name": "stderr",
     "output_type": "stream",
     "text": [
      "WARNING:tensorflow:From D:\\Youtube\\TensorFlow Object Detection\\TFODCourse\\tfod\\Lib\\site-packages\\keras\\src\\losses.py:2976: The name tf.losses.sparse_softmax_cross_entropy is deprecated. Please use tf.compat.v1.losses.sparse_softmax_cross_entropy instead.\n",
      "\n",
      "WARNING:root:Failure to load the inference.so custom c++ tensorflow ops. This error is likely caused the version of TensorFlow and TensorFlow Decision Forests are not compatible. Full error:D:\\Youtube\\TensorFlow Object Detection\\TFODCourse\\tfod\\Lib\\site-packages\\tensorflow_decision_forests\\tensorflow\\ops\\inference\\inference.so not found\n",
      "Traceback (most recent call last):\n",
      "  File \"<frozen runpy>\", line 198, in _run_module_as_main\n",
      "  File \"<frozen runpy>\", line 88, in _run_code\n",
      "  File \"D:\\Youtube\\TensorFlow Object Detection\\TFODCourse\\tfod\\Scripts\\tensorflowjs_converter.exe\\__main__.py\", line 4, in <module>\n",
      "  File \"D:\\Youtube\\TensorFlow Object Detection\\TFODCourse\\tfod\\Lib\\site-packages\\tensorflowjs\\__init__.py\", line 21, in <module>\n",
      "    from tensorflowjs import converters\n",
      "  File \"D:\\Youtube\\TensorFlow Object Detection\\TFODCourse\\tfod\\Lib\\site-packages\\tensorflowjs\\converters\\__init__.py\", line 21, in <module>\n",
      "    from tensorflowjs.converters.converter import convert\n",
      "  File \"D:\\Youtube\\TensorFlow Object Detection\\TFODCourse\\tfod\\Lib\\site-packages\\tensorflowjs\\converters\\converter.py\", line 37, in <module>\n",
      "    from tensorflowjs.converters import tf_saved_model_conversion_v2\n",
      "  File \"D:\\Youtube\\TensorFlow Object Detection\\TFODCourse\\tfod\\Lib\\site-packages\\tensorflowjs\\converters\\tf_saved_model_conversion_v2.py\", line 28, in <module>\n",
      "    import tensorflow_decision_forests\n",
      "  File \"D:\\Youtube\\TensorFlow Object Detection\\TFODCourse\\tfod\\Lib\\site-packages\\tensorflow_decision_forests\\__init__.py\", line 64, in <module>\n",
      "    from tensorflow_decision_forests import keras\n",
      "  File \"D:\\Youtube\\TensorFlow Object Detection\\TFODCourse\\tfod\\Lib\\site-packages\\tensorflow_decision_forests\\keras\\__init__.py\", line 53, in <module>\n",
      "    from tensorflow_decision_forests.keras import core\n",
      "  File \"D:\\Youtube\\TensorFlow Object Detection\\TFODCourse\\tfod\\Lib\\site-packages\\tensorflow_decision_forests\\keras\\core.py\", line 62, in <module>\n",
      "    from tensorflow_decision_forests.keras import core_inference\n",
      "  File \"D:\\Youtube\\TensorFlow Object Detection\\TFODCourse\\tfod\\Lib\\site-packages\\tensorflow_decision_forests\\keras\\core_inference.py\", line 36, in <module>\n",
      "    from tensorflow_decision_forests.tensorflow.ops.inference import api as tf_op\n",
      "  File \"D:\\Youtube\\TensorFlow Object Detection\\TFODCourse\\tfod\\Lib\\site-packages\\tensorflow_decision_forests\\tensorflow\\ops\\inference\\api.py\", line 179, in <module>\n",
      "    from tensorflow_decision_forests.tensorflow.ops.inference import op\n",
      "  File \"D:\\Youtube\\TensorFlow Object Detection\\TFODCourse\\tfod\\Lib\\site-packages\\tensorflow_decision_forests\\tensorflow\\ops\\inference\\op.py\", line 15, in <module>\n",
      "    from tensorflow_decision_forests.tensorflow.ops.inference.op_dynamic import *\n",
      "  File \"D:\\Youtube\\TensorFlow Object Detection\\TFODCourse\\tfod\\Lib\\site-packages\\tensorflow_decision_forests\\tensorflow\\ops\\inference\\op_dynamic.py\", line 24, in <module>\n",
      "    raise e\n",
      "  File \"D:\\Youtube\\TensorFlow Object Detection\\TFODCourse\\tfod\\Lib\\site-packages\\tensorflow_decision_forests\\tensorflow\\ops\\inference\\op_dynamic.py\", line 21, in <module>\n",
      "    ops = tf.load_op_library(resource_loader.get_path_to_datafile(\"inference.so\"))\n",
      "          ^^^^^^^^^^^^^^^^^^^^^^^^^^^^^^^^^^^^^^^^^^^^^^^^^^^^^^^^^^^^^^^^^^^^^^^^\n",
      "  File \"D:\\Youtube\\TensorFlow Object Detection\\TFODCourse\\tfod\\Lib\\site-packages\\tensorflow\\python\\framework\\load_library.py\", line 54, in load_op_library\n",
      "    lib_handle = py_tf.TF_LoadLibrary(library_filename)\n",
      "                 ^^^^^^^^^^^^^^^^^^^^^^^^^^^^^^^^^^^^^^\n",
      "tensorflow.python.framework.errors_impl.NotFoundError: D:\\Youtube\\TensorFlow Object Detection\\TFODCourse\\tfod\\Lib\\site-packages\\tensorflow_decision_forests\\tensorflow\\ops\\inference\\inference.so not found\n"
     ]
    }
   ],
   "source": [
    "!{command}"
   ]
  },
  {
   "cell_type": "code",
   "execution_count": null,
   "metadata": {
    "id": "o8_hm-itpfDK"
   },
   "outputs": [],
   "source": [
    "# Test Code: https://github.com/nicknochnack/RealTimeSignLanguageDetectionwithTFJS"
   ]
  },
  {
   "cell_type": "markdown",
   "metadata": {
    "id": "VtUw73FHpfDK"
   },
   "source": [
    "# 12. Conversion to TFLite"
   ]
  },
  {
   "cell_type": "code",
   "execution_count": null,
   "metadata": {
    "id": "XviMtewLpfDK"
   },
   "outputs": [],
   "source": [
    "TFLITE_SCRIPT = os.path.join(paths['APIMODEL_PATH'], 'research', 'object_detection', 'export_tflite_graph_tf2.py ')"
   ]
  },
  {
   "cell_type": "code",
   "execution_count": null,
   "metadata": {
    "id": "us86cjC4pfDL"
   },
   "outputs": [],
   "source": [
    "command = \"python {} --pipeline_config_path={} --trained_checkpoint_dir={} --output_directory={}\".format(TFLITE_SCRIPT ,files['PIPELINE_CONFIG'], paths['CHECKPOINT_PATH'], paths['TFLITE_PATH'])"
   ]
  },
  {
   "cell_type": "code",
   "execution_count": null,
   "metadata": {
    "colab": {
     "base_uri": "https://localhost:8080/"
    },
    "id": "n1r5YO3rpfDL",
    "outputId": "5fcdf7a4-eee2-4365-f1ca-1751968379ea"
   },
   "outputs": [],
   "source": [
    "print(command)"
   ]
  },
  {
   "cell_type": "code",
   "execution_count": null,
   "metadata": {
    "colab": {
     "base_uri": "https://localhost:8080/"
    },
    "id": "I-xWpHN8pfDL",
    "outputId": "7f6bacd8-d077-43b5-c131-5b081fba24a4"
   },
   "outputs": [],
   "source": [
    "!{command}"
   ]
  },
  {
   "cell_type": "code",
   "execution_count": null,
   "metadata": {
    "id": "iJfYMbN6pfDL"
   },
   "outputs": [],
   "source": [
    "FROZEN_TFLITE_PATH = os.path.join(paths['TFLITE_PATH'], 'saved_model')\n",
    "TFLITE_MODEL = os.path.join(paths['TFLITE_PATH'], 'saved_model', 'detect.tflite')"
   ]
  },
  {
   "cell_type": "code",
   "execution_count": null,
   "metadata": {},
   "outputs": [],
   "source": [
    "command = \"tflite_convert \\\n",
    "--saved_model_dir={} \\\n",
    "--output_file={} \\\n",
    "--input_shapes=1,300,300,3 \\\n",
    "--input_arrays=normalized_input_image_tensor \\\n",
    "--output_arrays='TFLite_Detection_PostProcess','TFLite_Detection_PostProcess:1','TFLite_Detection_PostProcess:2','TFLite_Detection_PostProcess:3' \\\n",
    "--inference_type=FLOAT \\\n",
    "--allow_custom_ops\".format(FROZEN_TFLITE_PATH, TFLITE_MODEL, )"
   ]
  },
  {
   "cell_type": "code",
   "execution_count": null,
   "metadata": {
    "colab": {
     "base_uri": "https://localhost:8080/"
    },
    "id": "E8GwUeoFpfDL",
    "outputId": "fac43ea4-cc85-471b-a362-e994b06fd583"
   },
   "outputs": [],
   "source": [
    "print(command)"
   ]
  },
  {
   "cell_type": "code",
   "execution_count": null,
   "metadata": {
    "colab": {
     "base_uri": "https://localhost:8080/"
    },
    "id": "Nbd7gqHMpfDL",
    "outputId": "7c8fe6d5-2415-4641-8548-39d425c202f7"
   },
   "outputs": [],
   "source": [
    "!{command}"
   ]
  },
  {
   "cell_type": "markdown",
   "metadata": {
    "id": "5NQqZRdA21Uc"
   },
   "source": [
    "# 13. Zip and Export Models "
   ]
  },
  {
   "cell_type": "code",
   "execution_count": 11,
   "metadata": {
    "id": "tTVTGCQp2ZJJ"
   },
   "outputs": [],
   "source": [
    "!tar -czf models.tar.gz {paths['CHECKPOINT_PATH']}"
   ]
  },
  {
   "cell_type": "code",
   "execution_count": null,
   "metadata": {
    "colab": {
     "base_uri": "https://localhost:8080/"
    },
    "id": "whShhB0x3PYJ",
    "outputId": "b773201d-35c9-46a8-b893-4a76bd4d5d97"
   },
   "outputs": [],
   "source": [
    "from google.colab import drive\n",
    "drive.mount('/content/drive')"
   ]
  }
 ],
 "metadata": {
  "accelerator": "GPU",
  "colab": {
   "name": "3. Training and Detection.ipynb",
   "provenance": []
  },
  "kernelspec": {
   "display_name": "tfod",
   "language": "python",
   "name": "tfod"
  },
  "language_info": {
   "codemirror_mode": {
    "name": "ipython",
    "version": 3
   },
   "file_extension": ".py",
   "mimetype": "text/x-python",
   "name": "python",
   "nbconvert_exporter": "python",
   "pygments_lexer": "ipython3",
   "version": "3.11.8"
  }
 },
 "nbformat": 4,
 "nbformat_minor": 4
}
